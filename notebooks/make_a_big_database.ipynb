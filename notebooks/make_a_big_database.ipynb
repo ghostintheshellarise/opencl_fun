{
 "cells": [
  {
   "cell_type": "markdown",
   "metadata": {},
   "source": [
    "# Makes a big database for testing logistic regression fitting on the GPU"
   ]
  },
  {
   "cell_type": "code",
   "execution_count": 33,
   "metadata": {
    "collapsed": true
   },
   "outputs": [],
   "source": [
    "import os\n",
    "import pandas as pd\n",
    "import numpy as np\n",
    "import scipy.stats as ss\n",
    "from tqdm import tqdm"
   ]
  },
  {
   "cell_type": "code",
   "execution_count": 47,
   "metadata": {
    "collapsed": false
   },
   "outputs": [],
   "source": [
    "# let's make a 20 GB table, let's have 5 variables\n",
    "# make some random number generators for each variable\n",
    "x0_0 = ss.norm(loc=1.0, scale=0.1)\n",
    "x0_1 = ss.norm(loc=0.5, scale=0.2)\n",
    "\n",
    "x1_0 = ss.norm(loc=2.5, scale=1.5)\n",
    "x1_1 = ss.norm(loc=-3.0, scale=1.5)\n",
    "\n",
    "x2_0 = ss.norm(loc=10.0, scale=2.0)\n",
    "x2_1 = ss.norm(loc=11.0, scale=2.1)\n",
    "\n",
    "x3_0 = ss.norm(loc=4.5, scale=0.1)\n",
    "x3_1 = ss.norm(loc=6.7, scale=0.2)\n",
    "\n",
    "x4_0 = ss.norm(loc=-10, scale=3)\n",
    "x4_1 = ss.norm(loc=-6, scale=2)"
   ]
  },
  {
   "cell_type": "code",
   "execution_count": 48,
   "metadata": {
    "collapsed": false
   },
   "outputs": [],
   "source": [
    "n_bytes_in_kilo = 1024\n",
    "n_bytes_in_mega = n_bytes_in_kilo * 1024\n",
    "n_bytes_in_giga = n_bytes_in_mega * 1024\n",
    "\n",
    "n_bytes_total = 10.0 * n_bytes_in_giga"
   ]
  },
  {
   "cell_type": "code",
   "execution_count": 49,
   "metadata": {
    "collapsed": true
   },
   "outputs": [],
   "source": [
    "n_bytes_in_float = 4\n",
    "n_bytes_per_row = 4 * 6\n",
    "n_rows_in_database = int(n_bytes_total / n_bytes_per_row)"
   ]
  },
  {
   "cell_type": "code",
   "execution_count": 50,
   "metadata": {
    "collapsed": false
   },
   "outputs": [
    {
     "data": {
      "text/plain": [
       "447392426"
      ]
     },
     "execution_count": 50,
     "metadata": {},
     "output_type": "execute_result"
    }
   ],
   "source": [
    "n_rows_in_database"
   ]
  },
  {
   "cell_type": "code",
   "execution_count": 51,
   "metadata": {
    "collapsed": false
   },
   "outputs": [
    {
     "data": {
      "text/plain": [
       "2400000"
      ]
     },
     "execution_count": 51,
     "metadata": {},
     "output_type": "execute_result"
    }
   ],
   "source": [
    "# let's write to disk in sets of hundred thousand\n",
    "n_rows_temp = int(1e5)\n",
    "n_bytes_temp = n_rows_temp * n_bytes_per_row\n",
    "n_bytes_temp"
   ]
  },
  {
   "cell_type": "code",
   "execution_count": 58,
   "metadata": {
    "collapsed": false
   },
   "outputs": [
    {
     "name": "stderr",
     "output_type": "stream",
     "text": [
      "/Users/antalek/anaconda/envs/ENVPy3/lib/python3.5/site-packages/scipy/stats/_continuous_distns.py:124: VisibleDeprecationWarning: using a non-integer number instead of an integer will result in an error in the future\n",
      "  return self._random_state.standard_normal(self._size)\n",
      "/Users/antalek/anaconda/envs/ENVPy3/lib/python3.5/site-packages/ipykernel/__main__.py:26: VisibleDeprecationWarning: using a non-integer number instead of an integer will result in an error in the future\n",
      "/Users/antalek/anaconda/envs/ENVPy3/lib/python3.5/site-packages/numpy/core/numeric.py:190: VisibleDeprecationWarning: using a non-integer number instead of an integer will result in an error in the future\n",
      "  a = empty(shape, dtype, order)\n"
     ]
    }
   ],
   "source": [
    "n_bytes_written = 0\n",
    "n_gigs_written = n_bytes_written / n_bytes_in_giga\n",
    "n_gigs_total = n_bytes_total / n_bytes_in_giga\n",
    "\n",
    "df_file = os.path.join('..', 'data', 'test_db.hdf5')\n",
    "if os.path.isfile(df_file):\n",
    "    os.remove(df_file)\n",
    "\n",
    "    \n",
    "# bar = tqdm(total=n_gigs_total, desc='generating data and writing to file: {f}'.format(f=df_file))\n",
    "\n",
    "while n_gigs_written < n_gigs_total:\n",
    "    # generate data\n",
    "    half_point = int(1e5) / 2\n",
    "    temp_df = pd.DataFrame(index=range(int(1e5)), columns=['x0', 'x1', 'x2', 'x3', 'x4', 'y'], dtype=np.float32)\n",
    "    temp_df.loc[:half_point-1, 'x0'] = x0_0.rvs(size=(half_point, )).astype(np.float32)\n",
    "    temp_df.loc[half_point:, 'x0'] = x0_1.rvs(size=(half_point, )).astype(np.float32)\n",
    "    temp_df.loc[:half_point-1, 'x1'] = x1_0.rvs(size=(half_point, )).astype(np.float32)\n",
    "    temp_df.loc[half_point:, 'x1'] = x1_1.rvs(size=(half_point, )).astype(np.float32)\n",
    "    temp_df.loc[:half_point-1, 'x2'] = x2_0.rvs(size=(half_point, )).astype(np.float32)\n",
    "    temp_df.loc[half_point:, 'x2'] = x2_1.rvs(size=(half_point, )).astype(np.float32)\n",
    "    temp_df.loc[:half_point-1, 'x3'] = x3_0.rvs(size=(half_point, )).astype(np.float32)\n",
    "    temp_df.loc[half_point:, 'x3'] = x3_1.rvs(size=(half_point, )).astype(np.float32)\n",
    "    temp_df.loc[:half_point-1, 'x4'] = x4_0.rvs(size=(half_point, )).astype(np.float32)\n",
    "    temp_df.loc[half_point:, 'x4'] = x4_1.rvs(size=(half_point, )).astype(np.float32)\n",
    "    temp_df.loc[:half_point-1, 'y'] = np.zeros(shape=(half_point, ), dtype=np.float32)\n",
    "    temp_df.loc[half_point:, 'y'] = np.ones(shape=(half_point, ), dtype=np.float32)\n",
    "    \n",
    "    # shuffle\n",
    "    temp_index_shuffled = np.random.permutation(temp_df.index)\n",
    "    \n",
    "    temp_df = temp_df.loc[temp_index_shuffled, :]\n",
    "    \n",
    "    # write it to the hdf file\n",
    "    \n",
    "    temp_df.to_hdf(df_file, 'table', mode='a', append=True)\n",
    "    n_bytes_written += temp_df.values.nbytes\n",
    "    n_gigs_written = n_bytes_written / n_bytes_in_giga\n",
    "#     bar.update(n_gigs_written)\n",
    "#     print(n_gigs_written)\n",
    "    \n",
    "    if n_bytes_written >= n_bytes_total:\n",
    "        break\n",
    "    \n",
    "# bar.close()\n",
    "    "
   ]
  },
  {
   "cell_type": "code",
   "execution_count": 59,
   "metadata": {
    "collapsed": false
   },
   "outputs": [],
   "source": [
    "bar.close()"
   ]
  },
  {
   "cell_type": "code",
   "execution_count": 60,
   "metadata": {
    "collapsed": false
   },
   "outputs": [
    {
     "data": {
      "text/plain": [
       "10.000169277191162"
      ]
     },
     "execution_count": 60,
     "metadata": {},
     "output_type": "execute_result"
    }
   ],
   "source": [
    "n_gigs_written"
   ]
  },
  {
   "cell_type": "code",
   "execution_count": 61,
   "metadata": {
    "collapsed": false
   },
   "outputs": [
    {
     "data": {
      "text/plain": [
       "10.0"
      ]
     },
     "execution_count": 61,
     "metadata": {},
     "output_type": "execute_result"
    }
   ],
   "source": [
    "n_gigs_total"
   ]
  },
  {
   "cell_type": "code",
   "execution_count": null,
   "metadata": {
    "collapsed": true
   },
   "outputs": [],
   "source": []
  }
 ],
 "metadata": {
  "kernelspec": {
   "display_name": "Python [conda env:ENVPy3]",
   "language": "python",
   "name": "conda-env-ENVPy3-py"
  },
  "language_info": {
   "codemirror_mode": {
    "name": "ipython",
    "version": 3
   },
   "file_extension": ".py",
   "mimetype": "text/x-python",
   "name": "python",
   "nbconvert_exporter": "python",
   "pygments_lexer": "ipython3",
   "version": "3.5.2"
  }
 },
 "nbformat": 4,
 "nbformat_minor": 2
}
