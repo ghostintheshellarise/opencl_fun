{
 "cells": [
  {
   "cell_type": "markdown",
   "metadata": {},
   "source": [
    "# Makes a big database for testing logistic regression fitting on the GPU"
   ]
  },
  {
   "cell_type": "code",
   "execution_count": 1,
   "metadata": {
    "collapsed": true
   },
   "outputs": [],
   "source": [
    "import os\n",
    "import pandas as pd\n",
    "import numpy as np\n",
    "import scipy.stats as ss\n",
    "from tqdm import tqdm"
   ]
  },
  {
   "cell_type": "code",
   "execution_count": 2,
   "metadata": {
    "collapsed": false
   },
   "outputs": [],
   "source": [
    "# let's make a 20 GB table, let's have 5 variables\n",
    "# make some random number generators for each variable\n",
    "x0_0 = ss.norm(loc=1.0, scale=0.1)\n",
    "x0_1 = ss.norm(loc=0.5, scale=0.2)\n",
    "\n",
    "x1_0 = ss.norm(loc=2.5, scale=1.5)\n",
    "x1_1 = ss.norm(loc=-3.0, scale=1.5)\n",
    "\n",
    "x2_0 = ss.norm(loc=10.0, scale=2.0)\n",
    "x2_1 = ss.norm(loc=11.0, scale=2.1)\n",
    "\n",
    "x3_0 = ss.norm(loc=4.5, scale=0.1)\n",
    "x3_1 = ss.norm(loc=6.7, scale=0.2)\n",
    "\n",
    "x4_0 = ss.norm(loc=-10, scale=3)\n",
    "x4_1 = ss.norm(loc=-6, scale=2)"
   ]
  },
  {
   "cell_type": "code",
   "execution_count": 3,
   "metadata": {
    "collapsed": false
   },
   "outputs": [],
   "source": [
    "n_bytes_in_kilo = 1024\n",
    "n_bytes_in_mega = n_bytes_in_kilo * 1024\n",
    "n_bytes_in_giga = n_bytes_in_mega * 1024\n",
    "\n",
    "n_bytes_total = 10.0 * n_bytes_in_giga"
   ]
  },
  {
   "cell_type": "code",
   "execution_count": 4,
   "metadata": {
    "collapsed": true
   },
   "outputs": [],
   "source": [
    "n_bytes_in_float = 4\n",
    "n_bytes_per_row = 4 * 6\n",
    "n_rows_in_database = int(n_bytes_total / n_bytes_per_row)"
   ]
  },
  {
   "cell_type": "code",
   "execution_count": 5,
   "metadata": {
    "collapsed": false
   },
   "outputs": [
    {
     "data": {
      "text/plain": [
       "447392426"
      ]
     },
     "execution_count": 5,
     "metadata": {},
     "output_type": "execute_result"
    }
   ],
   "source": [
    "n_rows_in_database"
   ]
  },
  {
   "cell_type": "code",
   "execution_count": 6,
   "metadata": {
    "collapsed": false
   },
   "outputs": [
    {
     "data": {
      "text/plain": [
       "2400000"
      ]
     },
     "execution_count": 6,
     "metadata": {},
     "output_type": "execute_result"
    }
   ],
   "source": [
    "# let's write to disk in sets of hundred thousand\n",
    "n_rows_temp = int(1e5)\n",
    "n_bytes_temp = n_rows_temp * n_bytes_per_row\n",
    "n_bytes_temp"
   ]
  },
  {
   "cell_type": "code",
   "execution_count": 26,
   "metadata": {
    "collapsed": false
   },
   "outputs": [
    {
     "name": "stderr",
     "output_type": "stream",
     "text": [
      "/Users/antalek/anaconda/envs/ENVPy3/lib/python3.5/site-packages/scipy/stats/_continuous_distns.py:124: VisibleDeprecationWarning: using a non-integer number instead of an integer will result in an error in the future\n",
      "  return self._random_state.standard_normal(self._size)\n",
      "/Users/antalek/anaconda/envs/ENVPy3/lib/python3.5/site-packages/ipykernel/__main__.py:38: VisibleDeprecationWarning: using a non-integer number instead of an integer will result in an error in the future\n",
      "/Users/antalek/anaconda/envs/ENVPy3/lib/python3.5/site-packages/numpy/core/numeric.py:190: VisibleDeprecationWarning: using a non-integer number instead of an integer will result in an error in the future\n",
      "  a = empty(shape, dtype, order)\n"
     ]
    },
    {
     "name": "stdout",
     "output_type": "stream",
     "text": [
      "0.0022351741790771484\n",
      "0.004470348358154297\n",
      "0.006705522537231445\n",
      "0.008940696716308594\n",
      "1.0013580322265625\n",
      "1.0035932064056396\n",
      "1.0058283805847168\n",
      "1.008063554763794\n",
      "2.000480890274048\n",
      "2.002716064453125\n",
      "2.004951238632202\n",
      "2.0071864128112793\n",
      "2.0094215869903564\n",
      "3.0018389225006104\n",
      "3.0040740966796875\n",
      "3.0063092708587646\n",
      "3.008544445037842\n",
      "4.000961780548096\n",
      "4.003196954727173\n",
      "4.00543212890625\n",
      "4.007667303085327\n",
      "4.009902477264404\n",
      "5.000084638595581\n",
      "5.002319812774658\n",
      "5.004554986953735\n",
      "5.0067901611328125\n",
      "5.00902533531189\n",
      "6.0014426708221436\n",
      "6.003677845001221\n",
      "6.005913019180298\n",
      "6.008148193359375\n",
      "7.000565528869629\n",
      "7.002800703048706\n",
      "7.005035877227783\n",
      "7.00727105140686\n",
      "7.0095062255859375\n",
      "8.001923561096191\n",
      "8.004158735275269\n",
      "8.006393909454346\n",
      "8.008629083633423\n",
      "9.001046419143677\n",
      "9.003281593322754\n",
      "9.005516767501831\n",
      "9.007751941680908\n",
      "9.009987115859985\n",
      "10.000169277191162\n",
      "CPU times: user 6min 25s, sys: 38.3 s, total: 7min 3s\n",
      "Wall time: 7min 11s\n"
     ]
    }
   ],
   "source": [
    "%%time\n",
    "n_bytes_written = 0\n",
    "n_gigs_written = n_bytes_written / n_bytes_in_giga\n",
    "n_gigs_total = n_bytes_total / n_bytes_in_giga\n",
    "\n",
    "df_file = os.path.join('..', 'data', 'test_db.hdf5')\n",
    "if os.path.isfile(df_file):\n",
    "    os.remove(df_file)\n",
    "\n",
    "    \n",
    "# bar = tqdm(total=n_gigs_total, desc='generating data and writing to file: {f}'.format(f=df_file))\n",
    "\n",
    "count = 0\n",
    "while n_gigs_written < n_gigs_total:\n",
    "    # generate data\n",
    "    length = int(1e5)/2\n",
    "    start_idx = count*int(1e5)\n",
    "    half_point = (int(1e5) / 2) + count*int(1e5) - 1\n",
    "    end_idx = (count+1) * int(1e5)\n",
    "    temp_df = pd.DataFrame(index=range(start_idx, end_idx), \n",
    "                           columns=['x0', 'x1', 'x2', 'x3', 'x4', 'y'], \n",
    "                           dtype=np.float32)\n",
    "    \n",
    "    temp_df.loc[start_idx:half_point, 'x0'] = x0_0.rvs(size=(length, )).astype(np.float32)\n",
    "    temp_df.loc[half_point+1:end_idx, 'x0'] = x0_1.rvs(size=(length, )).astype(np.float32)\n",
    "    \n",
    "    temp_df.loc[start_idx:half_point, 'x1'] = x1_0.rvs(size=(length, )).astype(np.float32)\n",
    "    temp_df.loc[half_point+1:end_idx, 'x1'] = x1_1.rvs(size=(length, )).astype(np.float32)\n",
    "    \n",
    "    temp_df.loc[start_idx:half_point, 'x2'] = x2_0.rvs(size=(length, )).astype(np.float32)\n",
    "    temp_df.loc[half_point+1:end_idx, 'x2'] = x2_1.rvs(size=(length, )).astype(np.float32)\n",
    "    \n",
    "    temp_df.loc[start_idx:half_point, 'x3'] = x3_0.rvs(size=(length, )).astype(np.float32)\n",
    "    temp_df.loc[half_point+1:end_idx, 'x3'] = x3_1.rvs(size=(length, )).astype(np.float32)\n",
    "    \n",
    "    temp_df.loc[start_idx:half_point, 'x4'] = x4_0.rvs(size=(length, )).astype(np.float32)\n",
    "    temp_df.loc[half_point+1:end_idx, 'x4'] = x4_1.rvs(size=(length, )).astype(np.float32)\n",
    "    \n",
    "    temp_df.loc[start_idx:half_point, 'y'] = np.zeros(shape=(length, ), dtype=np.float32)\n",
    "    temp_df.loc[half_point+1:end_idx, 'y'] = np.ones(shape=(length, ), dtype=np.float32)\n",
    "    count += 1\n",
    "    # shuffle\n",
    "    temp_index_shuffled = np.random.permutation(temp_df.index)\n",
    "    \n",
    "    temp_df = temp_df.loc[temp_index_shuffled, :]\n",
    "    \n",
    "    # write it to the hdf file\n",
    "    \n",
    "    temp_df.to_hdf(df_file, 'table', mode='a', append=True)\n",
    "    n_bytes_written += temp_df.values.nbytes\n",
    "    n_gigs_written = n_bytes_written / n_bytes_in_giga\n",
    "#     bar.update(n_gigs_written)\n",
    "    if (n_gigs_written % 1.0) < 0.01:\n",
    "        print(n_gigs_written)\n",
    "    \n",
    "    if n_bytes_written >= n_bytes_total:\n",
    "        break\n",
    "    \n",
    "# bar.close()\n",
    "    "
   ]
  },
  {
   "cell_type": "code",
   "execution_count": 27,
   "metadata": {
    "collapsed": false
   },
   "outputs": [
    {
     "ename": "NameError",
     "evalue": "name 'bar' is not defined",
     "output_type": "error",
     "traceback": [
      "\u001b[0;31m---------------------------------------------------------------------------\u001b[0m",
      "\u001b[0;31mNameError\u001b[0m                                 Traceback (most recent call last)",
      "\u001b[0;32m<ipython-input-27-e665528725e5>\u001b[0m in \u001b[0;36m<module>\u001b[0;34m()\u001b[0m\n\u001b[0;32m----> 1\u001b[0;31m \u001b[0mbar\u001b[0m\u001b[0;34m.\u001b[0m\u001b[0mclose\u001b[0m\u001b[0;34m(\u001b[0m\u001b[0;34m)\u001b[0m\u001b[0;34m\u001b[0m\u001b[0m\n\u001b[0m",
      "\u001b[0;31mNameError\u001b[0m: name 'bar' is not defined"
     ]
    }
   ],
   "source": [
    "bar.close()"
   ]
  },
  {
   "cell_type": "code",
   "execution_count": null,
   "metadata": {
    "collapsed": false
   },
   "outputs": [],
   "source": [
    "n_gigs_written"
   ]
  },
  {
   "cell_type": "code",
   "execution_count": null,
   "metadata": {
    "collapsed": false
   },
   "outputs": [],
   "source": [
    "n_gigs_total"
   ]
  },
  {
   "cell_type": "code",
   "execution_count": null,
   "metadata": {
    "collapsed": true
   },
   "outputs": [],
   "source": [
    "np.random.normal()"
   ]
  }
 ],
 "metadata": {
  "kernelspec": {
   "display_name": "Python [conda env:ENVPy3]",
   "language": "python",
   "name": "conda-env-ENVPy3-py"
  },
  "language_info": {
   "codemirror_mode": {
    "name": "ipython",
    "version": 3
   },
   "file_extension": ".py",
   "mimetype": "text/x-python",
   "name": "python",
   "nbconvert_exporter": "python",
   "pygments_lexer": "ipython3",
   "version": "3.5.2"
  }
 },
 "nbformat": 4,
 "nbformat_minor": 2
}
