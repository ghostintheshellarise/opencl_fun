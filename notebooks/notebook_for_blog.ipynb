{
 "cells": [
  {
   "cell_type": "code",
   "execution_count": 1,
   "metadata": {
    "collapsed": true
   },
   "outputs": [],
   "source": [
    "import os\n",
    "import pyopencl as pcl\n",
    "import numpy as np\n",
    "import scipy.stats as ss\n",
    "import pandas as pd\n",
    "import math\n",
    "from sklearn.model_selection import train_test_split\n",
    "import matplotlib.pyplot as plt"
   ]
  },
  {
   "cell_type": "code",
   "execution_count": 2,
   "metadata": {
    "collapsed": true
   },
   "outputs": [],
   "source": [
    "x0_1 = ss.norm(loc=10.0, scale=2.0)\n",
    "x0_0 = ss.norm(loc=7.0, scale=2.0)\n",
    "x1_1 = ss.norm(loc=5.0, scale=3.0)\n",
    "x1_0 = ss.norm(loc=-5.0, scale=3.0)\n",
    "\n",
    "nsamps=1024\n",
    "\n",
    "X_1 = pd.DataFrame(index=range(nsamps), \n",
    "                   columns=['x0','x1', 'y'])\n",
    "X_0 = pd.DataFrame(index=range(nsamps), \n",
    "                   columns=['x0','x1', 'y'])\n",
    "\n",
    "X_1.loc[:, 'x0'] = x0_1.rvs(size=(nsamps,)).astype(np.float32)\n",
    "X_1.loc[:, 'x1'] = x1_1.rvs(size=(nsamps,)).astype(np.float32)\n",
    "X_1.loc[:, 'y'] = np.ones(shape=(nsamps,)).astype(np.float32)\n",
    "\n",
    "X_0.loc[:, 'x0'] = x0_0.rvs(size=(nsamps,)).astype(np.float32)\n",
    "X_0.loc[:, 'x1'] = x1_0.rvs(size=(nsamps,)).astype(np.float32)\n",
    "X_0.loc[:, 'y'] = np.zeros(shape=(nsamps,)).astype(np.float32)\n",
    "\n",
    "\n",
    "X_all = pd.concat((X_1, X_0), ignore_index=True)\n",
    "\n",
    "X_all = X_all.reindex(np.random.permutation(X_all.index))\n",
    "\n",
    "X = X_all.loc[:, ['x0', 'x1']]\n",
    "y = X_all.loc[:,'y']"
   ]
  },
  {
   "cell_type": "code",
   "execution_count": 3,
   "metadata": {
    "collapsed": true
   },
   "outputs": [],
   "source": [
    "def sig(X, theta):\n",
    "    lin = X.dot(theta)\n",
    "    sig = 1.0 / (1.0 + np.exp(-lin))\n",
    "    return sig\n",
    " \n",
    "    \n",
    "def lr_cost(X, theta, y):\n",
    "    est = sig(X, theta)\n",
    "    log_est = np.log(est)\n",
    "    cost = y*log_est + (1-y) * (1-log_est)\n",
    "    cost *= -1\n",
    "    return cost\n",
    "\n",
    "def cost_ss(est, actual):\n",
    "    cost = ((est - actual)**2.0)\n",
    "    cost /= 2.0\n",
    "    return cost\n",
    "\n",
    "def grad(X, theta, y):\n",
    "    diff = y - sig(X, theta)\n",
    "    g = np.zeros(X.shape)\n",
    "    for i in range(X.shape[0]):\n",
    "        for j  in range(X.shape[1]):\n",
    "            g[i,j] = diff[i] * X[i,j]\n",
    "    return g\n",
    "\n",
    "def fit_params(X, y, theta):\n",
    "    tol = 1e-5\n",
    "    learning_rate = 1e-2\n",
    "    costs = [np.inf]\n",
    "    for i in range(0, 1000):\n",
    "        my_cost = lr_cost(X, theta, y)\n",
    "        my_cost = my_cost.sum()\n",
    "        costs.append(my_cost)\n",
    "        if abs(my_cost - costs[-2]) < tol:\n",
    "            break\n",
    "        else:\n",
    "            my_gradient = grad(X, theta, y)\n",
    "            my_gradient = my_gradient.mean(axis=0)\n",
    "            theta = theta + learning_rate * my_gradient\n",
    "            \n",
    "    return theta, costs"
   ]
  },
  {
   "cell_type": "code",
   "execution_count": 4,
   "metadata": {
    "collapsed": true
   },
   "outputs": [],
   "source": [
    "X_train, X_test, y_train, y_test = train_test_split(X, \n",
    "                                                    y, \n",
    "                                                    train_size=0.6)\n",
    "\n",
    "new_t = np.random.normal(size=(X_train.shape[1], )).astype(np.float32)\n",
    "\n",
    "fitted_theta, outcost = fit_params(X_train.values, \n",
    "                                   y_train.values, \n",
    "                                   new_t)"
   ]
  },
  {
   "cell_type": "code",
   "execution_count": 5,
   "metadata": {
    "collapsed": false
   },
   "outputs": [
    {
     "data": {
      "text/plain": [
       "array([ 0.0446463 ,  1.02113246])"
      ]
     },
     "execution_count": 5,
     "metadata": {},
     "output_type": "execute_result"
    }
   ],
   "source": [
    "fitted_theta"
   ]
  },
  {
   "cell_type": "code",
   "execution_count": 9,
   "metadata": {
    "collapsed": false
   },
   "outputs": [
    {
     "name": "stdout",
     "output_type": "stream",
     "text": [
      "cost on test set:  -2514.30615455\n",
      "average sum of square error on test set:  0.0197783443436\n"
     ]
    }
   ],
   "source": [
    "print('cost on test set: ', lr_cost(X_test.values, fitted_theta, y_test.values).sum())\n",
    "print('average sum of square error on test set: ',cost_ss(sig(X_test.values, fitted_theta), y_test.values).sum()/X_test.shape[0])"
   ]
  },
  {
   "cell_type": "code",
   "execution_count": 11,
   "metadata": {
    "collapsed": false
   },
   "outputs": [
    {
     "data": {
      "image/png": "[encoded data removed]",
      "text/plain": [
       "<matplotlib.figure.Figure at 0x1138bba20>"
      ]
     },
     "metadata": {},
     "output_type": "display_data"
    }
   ],
   "source": [
    "plt.figure(figsize=(10,6))\n",
    "plt.plot(outcost[1:])\n",
    "plt.xlabel('Iteration')\n",
    "plt.ylabel('Cost')\n",
    "plt.title('Cost During Fitting - CPU')\n",
    "plt.show()"
   ]
  },
  {
   "cell_type": "code",
   "execution_count": null,
   "metadata": {
    "collapsed": true
   },
   "outputs": [],
   "source": []
  }
 ],
 "metadata": {
  "kernelspec": {
   "display_name": "Python [conda env:ENVPy3]",
   "language": "python",
   "name": "conda-env-ENVPy3-py"
  },
  "language_info": {
   "codemirror_mode": {
    "name": "ipython",
    "version": 3
   },
   "file_extension": ".py",
   "mimetype": "text/x-python",
   "name": "python",
   "nbconvert_exporter": "python",
   "pygments_lexer": "ipython3",
   "version": "3.5.2"
  }
 },
 "nbformat": 4,
 "nbformat_minor": 2
}
