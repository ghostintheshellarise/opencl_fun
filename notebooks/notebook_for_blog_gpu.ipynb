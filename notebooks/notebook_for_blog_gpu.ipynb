{
 "cells": [
  {
   "cell_type": "markdown",
   "metadata": {},
   "source": [
    "# Logisitic Regression Fitting - GPU\n",
    "This "
   ]
  },
  {
   "cell_type": "code",
   "execution_count": 14,
   "metadata": {
    "collapsed": true
   },
   "outputs": [],
   "source": [
    "import os\n",
    "import pyopencl as pcl\n",
    "import numpy as np\n",
    "import scipy.stats as ss\n",
    "import pandas as pd\n",
    "import math\n",
    "from sklearn.model_selection import train_test_split\n",
    "import matplotlib.pyplot as plt"
   ]
  },
  {
   "cell_type": "code",
   "execution_count": 19,
   "metadata": {
    "collapsed": false
   },
   "outputs": [
    {
     "name": "stdout",
     "output_type": "stream",
     "text": [
      "##########\n",
      "\n",
      "name: Intel(R) Core(TM) i7-4870HQ CPU @ 2.50GHz\n",
      "device type: CPU\n",
      "global memory size:  16.0 GB\n",
      "\n",
      "##########\n",
      "\n",
      "name: Iris Pro\n",
      "device type: GPU\n",
      "global memory size:  1.5 GB\n",
      "\n",
      "##########\n",
      "\n",
      "name: AMD Radeon R9 M370X Compute Engine\n",
      "device type: GPU\n",
      "global memory size:  2.0 GB\n",
      "\n"
     ]
    }
   ],
   "source": [
    "# let's try to find available devices\n",
    "platforms = pcl.get_platforms()\n",
    "for p in platforms:\n",
    "    devs = p.get_devices()\n",
    "    for d in devs:\n",
    "        print(\"#\"*10)\n",
    "        print()\n",
    "        print('name:', d.name)\n",
    "        print('device type:', pcl.device_type.to_string(d.type))\n",
    "        print('global memory size: ', d.global_mem_size / (1024**3), 'GB')\n",
    "        print()\n",
    "        \n",
    "\n",
    "            "
   ]
  },
  {
   "cell_type": "code",
   "execution_count": 2,
   "metadata": {
    "collapsed": true
   },
   "outputs": [],
   "source": [
    "# as before set up the data\n",
    "x0_1 = ss.norm(loc=10.0, scale=2.0)\n",
    "x0_0 = ss.norm(loc=7.0, scale=2.0)\n",
    "x1_1 = ss.norm(loc=5.0, scale=3.0)\n",
    "x1_0 = ss.norm(loc=-5.0, scale=3.0)\n",
    "\n",
    "nsamps=1024\n",
    "\n",
    "X_1 = pd.DataFrame(index=range(nsamps), \n",
    "                   columns=['x0','x1', 'y'])\n",
    "X_0 = pd.DataFrame(index=range(nsamps), \n",
    "                   columns=['x0','x1', 'y'])\n",
    "\n",
    "X_1.loc[:, 'x0'] = x0_1.rvs(size=(nsamps,)).astype(np.float32)\n",
    "X_1.loc[:, 'x1'] = x1_1.rvs(size=(nsamps,)).astype(np.float32)\n",
    "X_1.loc[:, 'y'] = np.ones(shape=(nsamps,)).astype(np.float32)\n",
    "\n",
    "X_0.loc[:, 'x0'] = x0_0.rvs(size=(nsamps,)).astype(np.float32)\n",
    "X_0.loc[:, 'x1'] = x1_0.rvs(size=(nsamps,)).astype(np.float32)\n",
    "X_0.loc[:, 'y'] = np.zeros(shape=(nsamps,)).astype(np.float32)\n",
    "\n",
    "\n",
    "X_all = pd.concat((X_1, X_0), ignore_index=True)\n",
    "\n",
    "X_all = X_all.reindex(np.random.permutation(X_all.index))\n",
    "\n",
    "X = X_all.loc[:, ['x0', 'x1']]\n",
    "y = X_all.loc[:,'y']"
   ]
  },
  {
   "cell_type": "code",
   "execution_count": 3,
   "metadata": {
    "collapsed": false
   },
   "outputs": [
    {
     "data": {
      "text/plain": [
       "True"
      ]
     },
     "execution_count": 3,
     "metadata": {},
     "output_type": "execute_result"
    }
   ],
   "source": [
    "# we need to provide the path to the OpenCL file with our code\n",
    "clfile = os.path.join('..','src','glm_gpu','cl','logistic.cl')\n",
    "os.path.isfile(clfile)"
   ]
  },
  {
   "cell_type": "code",
   "execution_count": 4,
   "metadata": {
    "collapsed": false,
    "scrolled": false
   },
   "outputs": [
    {
     "name": "stdout",
     "output_type": "stream",
     "text": [
      "\n",
      "\n",
      "inline float dotproduct(__global float * a, __global float * b, const int size)\n",
      "{\n",
      "  float out = 0.0f;\n",
      "  for(int i = 0; i < size; i++){\n",
      "    out += a[i] * b[i];\n",
      "  }\n",
      "  return out;\n",
      "}\n",
      "\n",
      "inline float sigmoid(__global float * X, __global float * theta, int row_id, int nrows, int ncols)\n",
      "{\n",
      "  float linear_sum = 0.0f;\n",
      "  for(int j = 0; j < ncols; j++){\n",
      "    linear_sum += (X[row_id + j*nrows] * theta[j]);\n",
      "  }\n",
      "\n",
      "  float exponential = pow(M_E_F, -linear_sum);\n",
      "  exponential += 1.0f;\n",
      "  float sig = 1.0f / exponential;\n",
      "  return sig;\n",
      "}\n",
      "\n",
      "__kernel void matrix_row_mean(__global float * in, __global float * out, __local float * scratch, const int nrows, const int ncols)\n",
      "{\n",
      "  int gid = get_global_id(0);\n",
      "  int lid = get_local_id(0);\n",
      "  int global_size = get_global_size(0);\n",
      "\n",
      "  // first step is a sequential loop\n",
      "  for(int j = 0; j < ncols; j++){\n",
      "    float accum = 0.0f;\n",
      "    while(gid < nrows){\n",
      "      accum += in[gid*ncols + j];\n",
      "      gid += global_size;\n",
      "    }\n",
      "    scratch[lid*ncols + j] = accum;\n",
      "  }\n",
      "\n",
      "\n",
      "  // now do a parallel reduction\n",
      "\n",
      "  barrier(CLK_LOCAL_MEM_FENCE);\n",
      "  for(int i = get_local_size(0)/2; i > 0; i >>=1 ){\n",
      "    if(lid < i){\n",
      "      for(int j = 0; j < ncols; j++){\n",
      "        scratch[lid*ncols + j] = scratch[lid*ncols + i*ncols + j];\n",
      "      }\n",
      "    }\n",
      "    barrier(CLK_LOCAL_MEM_FENCE);\n",
      "  }\n",
      "\n",
      "  if(lid == 0){\n",
      "    for(int j = 0; j < ncols; j++){\n",
      "      out[get_group_id(0)*ncols + j] = scratch[0*ncols + j];\n",
      "    }\n",
      "\n",
      "  }\n",
      "}\n",
      "\n",
      "/*\n",
      "* Functions here are specific to logisitic regression\n",
      "*/\n",
      "\n",
      "__kernel void sig(__global float * X, __global float * theta, __global float * out, const int nrows, const int ncols)\n",
      "{\n",
      "  int gid = get_global_id(0);\n",
      "  out[gid] = sigmoid(X, theta, gid, nrows, ncols);\n",
      "}\n",
      "\n",
      "__kernel void logistic_cost_ols(__global float * X, __global float * theta, __global float * y, __global float * cost, const int nrows, const int ncols)\n",
      "{\n",
      "  int gid = get_global_id(0);\n",
      "  float diff = sigmoid(X, theta,gid,nrows, ncols) - y[gid];\n",
      "  cost[gid] = powf(diff, 2.0f);\n",
      "  cost[gid] /= 2.0;\n",
      "}\n",
      "\n",
      "\n",
      "__kernel void logistic_gradient_ols(__global float * X, __global float * theta, __global float * y, __global float * gradient, const int nrows, const int ncols)\n",
      "{\n",
      "  int gid = get_global_id(0);\n",
      "\n",
      "  for(int j = 0; j < ncols; j++){\n",
      "    gradient[gid*ncols + j] = (y[gid] - sigmoid(X, theta, gid, nrows, ncols)) * X[gid + j*nrows];\n",
      "  }\n",
      "\n",
      "}\n",
      "\n",
      "__kernel void logisitc_prediction(__global float * X, __global float * theta, __global float * out, const int nrows, const int ncols)\n",
      "{\n",
      "  int gid = get_global_id(0);\n",
      "  out[gid] = sigmoid(X, theta,gid,nrows, ncols);\n",
      "}\n",
      "\n",
      "__kernel void logistic_update_ols(__global float * theta, __global float * gradient, const float learning_rate, const int nrows, const int ncols)\n",
      "{\n",
      "  for (int j = 0; j < ncols; j++){\n",
      "    theta[j] -= learning_rate * gradient[j];\n",
      "  }\n",
      "\n",
      "}\n",
      "\n"
     ]
    }
   ],
   "source": [
    "os.environ['PYOPENCL_COMPILER_OUTPUT'] = '1'\n",
    "# here I get the device I want, which is the AMD Radeon card\n",
    "device = pcl.get_platforms()[0].get_devices()[2]\n",
    "# we create a context and attach the device to it\n",
    "cntx = pcl.Context([device])\n",
    "# and we create a queue and attach it to the context\n",
    "queue = pcl.CommandQueue(cntx)\n",
    "\n",
    "\n",
    "with open(clfile, 'r') as f:\n",
    "    # here, we read in the OpenCL code as a string and build the program\n",
    "    # all of the kernels in this file will now be stored in the 'programs' object\n",
    "    programs = pcl.Program(cntx, f.read()).build()\n",
    "    # print out the code so we can see it here\n",
    "    f.seek(0,0)\n",
    "    print(f.read())"
   ]
  },
  {
   "cell_type": "code",
   "execution_count": 28,
   "metadata": {
    "collapsed": false
   },
   "outputs": [
    {
     "name": "stdout",
     "output_type": "stream",
     "text": [
      "matrix_row_mean\n",
      "sig\n",
      "logistic_cost_ols\n",
      "logistic_gradient_ols\n",
      "logisitc_prediction\n",
      "logistic_update_ols\n"
     ]
    }
   ],
   "source": [
    "for k in programs.all_kernels():\n",
    "    print(k.function_name)"
   ]
  },
  {
   "cell_type": "code",
   "execution_count": 8,
   "metadata": {
    "collapsed": true
   },
   "outputs": [],
   "source": [
    "# for the sake of getting this to work, I initally implemented the sum of square error as the cost function\n",
    "# I can update that with the canonical logistic regression cost function later\n",
    "def fit_gpu(X, y, theta, queue, cntx):\n",
    "    # set up some parameters we will need for each iteration\n",
    "    tol = 1e-5\n",
    "    learning_rate = 1e-2\n",
    "    nrows = np.int32(X.shape[0])\n",
    "    ncols = np.int32(X.shape[1])\n",
    "    costs = []\n",
    "    for i in range(0, 1000):\n",
    "        # here we set up the array to hold the cost values on the host.\n",
    "        # in this case, we will compute the cost of each sample individually, copy data back to the host and \n",
    "        # do the final averaging on the host\n",
    "        cost_arr = np.zeros(shape=(X.shape[0],), dtype=np.float32)\n",
    "        \n",
    "        # next let's set up the buffers between our data that is in host memory and device memory\n",
    "        X_buf = pcl.Buffer(cntx, pcl.mem_flags.READ_ONLY | pcl.mem_flags.COPY_HOST_PTR, hostbuf=X)\n",
    "        y_buf = pcl.Buffer(cntx, pcl.mem_flags.READ_ONLY | pcl.mem_flags.COPY_HOST_PTR, hostbuf=y)\n",
    "        theta_buf = pcl.Buffer(cntx, pcl.mem_flags.READ_ONLY | pcl.mem_flags.COPY_HOST_PTR, hostbuf=theta)\n",
    "        cost_buf = pcl.Buffer(cntx, pcl.mem_flags.READ_WRITE | pcl.mem_flags.COPY_HOST_PTR, hostbuf=cost_arr)\n",
    "        \n",
    "        # ok, now we set up the kernel for executing the cost function on the GPU\n",
    "        cost_event = programs.logistic_cost_ols(queue, # the queue to attach this kernel to\n",
    "                                                X.shape,# this is the global work size on the GPU. note that this is not optimal\n",
    "                                                None, # this is the local work size on the GPU. by leaving it as None, OpenCL will decide for us\n",
    "                                                X_buf, # arg 1 of the cost kernel\n",
    "                                                theta_buf, # arg 2 of the cost kernel\n",
    "                                                y_buf, # arg 3 of the cost kernel\n",
    "                                                cost_buf, # arg 4 of the cost kernel\n",
    "                                                nrows, # arg 5 of the cost kernel\n",
    "                                                ncols) # arg 6 of the cost kernel\n",
    "        \n",
    "        \n",
    "        # let's make sure it finishes executing\n",
    "        cost_event.wait()\n",
    "        # now that it's done, copy the data back to the host\n",
    "        pcl.enqueue_copy(queue, cost_arr, cost_buf)\n",
    "        # finish averaging on the host using python\n",
    "        cost_arr = cost_arr.sum()\n",
    "        cost_arr /= 2.\n",
    "        costs.append(cost_arr)\n",
    "        if cost_arr < tol:\n",
    "            break\n",
    "        else:\n",
    "            # the workflow for executing and updating the data for the gradient is similar to the above code.\n",
    "            # see if you can follow along!\n",
    "            grad_buf = pcl.Buffer(cntx, pcl.mem_flags.WRITE_ONLY , size=X.nbytes)\n",
    "            grad_event = programs.logistic_gradient_ols(queue,X.shape,None,X_buf,theta_buf,y_buf,grad_buf,nrows,ncols)\n",
    "            grad_event.wait()\n",
    "            grad_arr = np.zeros(shape=X.shape, dtype=np.float32)\n",
    "            pcl.enqueue_copy(queue, grad_arr, grad_buf)\n",
    "            grad_arr = grad_arr.mean(axis=0)\n",
    "            theta = theta + learning_rate * grad_arr\n",
    "            \n",
    "    return theta, costs"
   ]
  },
  {
   "cell_type": "code",
   "execution_count": 9,
   "metadata": {
    "collapsed": true
   },
   "outputs": [],
   "source": [
    "X_train, X_test, y_train, y_test = train_test_split(X, y, train_size=0.6)\n",
    "new_t = np.random.normal(size=theta.shape).astype(np.float32)\n",
    "fitted_t_gpu, costs_gpu = fit_gpu(X_train.values, y_train.values, new_t, queue, cntx)"
   ]
  },
  {
   "cell_type": "code",
   "execution_count": 11,
   "metadata": {
    "collapsed": false
   },
   "outputs": [
    {
     "data": {
      "image/png": "[encoded data removed]",
      "text/plain": [
       "<matplotlib.figure.Figure at 0x115639c88>"
      ]
     },
     "metadata": {},
     "output_type": "display_data"
    }
   ],
   "source": [
    "plt.figure(figsize=(10, 6))\n",
    "plt.plot(costs_gpu)\n",
    "plt.xlabel('Iteration')\n",
    "plt.ylabel('Cost')\n",
    "plt.title(\"Cost During Fitting - GPU\")\n",
    "plt.show()"
   ]
  },
  {
   "cell_type": "code",
   "execution_count": 20,
   "metadata": {
    "collapsed": false
   },
   "outputs": [
    {
     "name": "stdout",
     "output_type": "stream",
     "text": [
      "[ 0.00917345  1.27897406]\n"
     ]
    }
   ],
   "source": [
    "print(fitted_t_gpu)"
   ]
  },
  {
   "cell_type": "code",
   "execution_count": null,
   "metadata": {
    "collapsed": true
   },
   "outputs": [],
   "source": []
  }
 ],
 "metadata": {
  "kernelspec": {
   "display_name": "Python [conda env:ENVPy3]",
   "language": "python",
   "name": "conda-env-ENVPy3-py"
  },
  "language_info": {
   "codemirror_mode": {
    "name": "ipython",
    "version": 3
   },
   "file_extension": ".py",
   "mimetype": "text/x-python",
   "name": "python",
   "nbconvert_exporter": "python",
   "pygments_lexer": "ipython3",
   "version": "3.5.2"
  }
 },
 "nbformat": 4,
 "nbformat_minor": 2
}
