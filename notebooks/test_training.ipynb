{
 "cells": [
  {
   "cell_type": "code",
   "execution_count": 1,
   "metadata": {
    "collapsed": true
   },
   "outputs": [],
   "source": [
    "import pandas as pd\n",
    "import os\n",
    "import pyopencl as pcl\n",
    "import numpy as np"
   ]
  },
  {
   "cell_type": "code",
   "execution_count": 3,
   "metadata": {
    "collapsed": false
   },
   "outputs": [
    {
     "data": {
      "text/plain": [
       "True"
      ]
     },
     "execution_count": 3,
     "metadata": {},
     "output_type": "execute_result"
    }
   ],
   "source": [
    "cl_code_file = os.path.join('..', 'src', 'lr_opencl', 'cl', 'logistic.cl')\n",
    "os.path.isfile(cl_code_file)"
   ]
  },
  {
   "cell_type": "code",
   "execution_count": 4,
   "metadata": {
    "collapsed": false
   },
   "outputs": [
    {
     "name": "stdout",
     "output_type": "stream",
     "text": [
      "Intel(R) Core(TM) i7-4870HQ CPU @ 2.50GHz CPU 17.179869184\n",
      "Iris Pro GPU 1.610612736\n",
      "AMD Radeon R9 M370X Compute Engine GPU 2.147483648\n"
     ]
    }
   ],
   "source": [
    "# let's try to find available devices\n",
    "platforms = pcl.get_platforms()\n",
    "for p in platforms:\n",
    "    devs = p.get_devices()\n",
    "    for d in devs:\n",
    "        print(d.name, pcl.device_type.to_string(d.type), d.global_mem_size / 10**9)\n",
    "\n",
    "# let's select the AMD radeon card in this case\n",
    "dev=None\n",
    "for p in pcl.get_platforms():\n",
    "    devs = p.get_devices()\n",
    "    for d in devs:\n",
    "        if pcl.device_type.to_string(d.type) == 'GPU' and (d.global_mem_size / 10**9) > 2.0:\n",
    "            dev = d\n",
    "            \n",
    "# make the opencl context\n",
    "# cntx = pcl.create_some_context()\n",
    "cntx = pcl.Context(devices=[dev])\n",
    "queue = pcl.CommandQueue(cntx, device=dev)"
   ]
  },
  {
   "cell_type": "code",
   "execution_count": 5,
   "metadata": {
    "collapsed": false
   },
   "outputs": [
    {
     "ename": "RuntimeError",
     "evalue": "clBuildProgram failed: BUILD_PROGRAM_FAILURE - \n\nBuild on <pyopencl.Device 'AMD Radeon R9 M370X Compute Engine' on 'Apple' at 0x1021c00>:\n\n<program source>:3:7: warning: no previous prototype for function 'sigmoid'\nfloat sigmoid(__global float * X, __global float * theta, const int size)\n      ^\n<program source>:5:22: warning: implicit declaration of function 'dotproduct' is invalid in C99\n  float linear_sum = dotproduct(X, theta, size);\n                     ^\n<program source>:11:49: warning: type specifier missing, defaults to 'int'\nfloat dotproduct(__global float * a, __global * float b, const int size)\n                                     ~~~~~~~~   ^\n<program source>:11:49: error: expected ')'\n<program source>:11:17: note: to match this '('\nfloat dotproduct(__global float * a, __global * float b, const int size)\n                ^\n<program source>:11:7: error: conflicting types for 'dotproduct'\nfloat dotproduct(__global float * a, __global * float b, const int size)\n      ^\n<program source>:5:22: note: previous implicit declaration is here\n  float linear_sum = dotproduct(X, theta, size);\n                     ^\n<program source>:11:49: error: parameter name omitted\nfloat dotproduct(__global float * a, __global * float b, const int size)\n                                                ^\n<program source>:14:22: error: use of undeclared identifier 'size'\n  for(int i = 0; i < size; i++){\n                     ^\n<program source>:15:19: error: use of undeclared identifier 'b'\n    out += a[i] * b[i];\n                  ^\n<program source>:20:6: warning: no previous prototype for function 'rowaverage'\nvoid rowaverage(__global float * in, float * out, const int nrows, const int ncols)\n     ^\n\n(options: -I /Users/antalek/anaconda/envs/ENVPy3/lib/python3.5/site-packages/pyopencl/cl)\n(source saved as /var/folders/4x/f3rlcx6s3ng53wr5nkrnlhb00000gp/T/tmpxbt_mdg8.cl)",
     "output_type": "error",
     "traceback": [
      "\u001b[0;31m---------------------------------------------------------------------------\u001b[0m",
      "\u001b[0;31mRuntimeError\u001b[0m                              Traceback (most recent call last)",
      "\u001b[0;32m<ipython-input-5-1c6fc1c891b7>\u001b[0m in \u001b[0;36m<module>\u001b[0;34m()\u001b[0m\n\u001b[1;32m      1\u001b[0m \u001b[0;31m# build the kernel\u001b[0m\u001b[0;34m\u001b[0m\u001b[0;34m\u001b[0m\u001b[0m\n\u001b[1;32m      2\u001b[0m \u001b[0;32mwith\u001b[0m \u001b[0mopen\u001b[0m\u001b[0;34m(\u001b[0m\u001b[0mcl_code_file\u001b[0m\u001b[0;34m,\u001b[0m \u001b[0;34m'r'\u001b[0m\u001b[0;34m)\u001b[0m \u001b[0;32mas\u001b[0m \u001b[0mf\u001b[0m\u001b[0;34m:\u001b[0m\u001b[0;34m\u001b[0m\u001b[0m\n\u001b[0;32m----> 3\u001b[0;31m     \u001b[0mprograms\u001b[0m \u001b[0;34m=\u001b[0m \u001b[0mpcl\u001b[0m\u001b[0;34m.\u001b[0m\u001b[0mProgram\u001b[0m\u001b[0;34m(\u001b[0m\u001b[0mcntx\u001b[0m\u001b[0;34m,\u001b[0m \u001b[0mf\u001b[0m\u001b[0;34m.\u001b[0m\u001b[0mread\u001b[0m\u001b[0;34m(\u001b[0m\u001b[0;34m)\u001b[0m\u001b[0;34m)\u001b[0m\u001b[0;34m.\u001b[0m\u001b[0mbuild\u001b[0m\u001b[0;34m(\u001b[0m\u001b[0;34m)\u001b[0m\u001b[0;34m\u001b[0m\u001b[0m\n\u001b[0m\u001b[1;32m      4\u001b[0m     \u001b[0mf\u001b[0m\u001b[0;34m.\u001b[0m\u001b[0mseek\u001b[0m\u001b[0;34m(\u001b[0m\u001b[0;36m0\u001b[0m\u001b[0;34m)\u001b[0m\u001b[0;34m\u001b[0m\u001b[0m\n\u001b[1;32m      5\u001b[0m     \u001b[0mprint\u001b[0m\u001b[0;34m(\u001b[0m\u001b[0mf\u001b[0m\u001b[0;34m.\u001b[0m\u001b[0mread\u001b[0m\u001b[0;34m(\u001b[0m\u001b[0;34m)\u001b[0m\u001b[0;34m)\u001b[0m\u001b[0;34m\u001b[0m\u001b[0m\n",
      "\u001b[0;32m/Users/antalek/anaconda/envs/ENVPy3/lib/python3.5/site-packages/pyopencl/__init__.py\u001b[0m in \u001b[0;36mbuild\u001b[0;34m(self, options, devices, cache_dir)\u001b[0m\n\u001b[1;32m    436\u001b[0m                         \u001b[0mself\u001b[0m\u001b[0;34m.\u001b[0m\u001b[0m_context\u001b[0m\u001b[0;34m,\u001b[0m \u001b[0mself\u001b[0m\u001b[0;34m.\u001b[0m\u001b[0m_source\u001b[0m\u001b[0;34m,\u001b[0m \u001b[0moptions_bytes\u001b[0m\u001b[0;34m,\u001b[0m \u001b[0mdevices\u001b[0m\u001b[0;34m,\u001b[0m\u001b[0;34m\u001b[0m\u001b[0m\n\u001b[1;32m    437\u001b[0m                         cache_dir=cache_dir, include_path=include_path),\n\u001b[0;32m--> 438\u001b[0;31m                     options_bytes=options_bytes, source=self._source)\n\u001b[0m\u001b[1;32m    439\u001b[0m \u001b[0;34m\u001b[0m\u001b[0m\n\u001b[1;32m    440\u001b[0m             \u001b[0;32mdel\u001b[0m \u001b[0mself\u001b[0m\u001b[0;34m.\u001b[0m\u001b[0m_context\u001b[0m\u001b[0;34m\u001b[0m\u001b[0m\n",
      "\u001b[0;32m/Users/antalek/anaconda/envs/ENVPy3/lib/python3.5/site-packages/pyopencl/__init__.py\u001b[0m in \u001b[0;36m_build_and_catch_errors\u001b[0;34m(self, build_func, options_bytes, source)\u001b[0m\n\u001b[1;32m    471\u001b[0m         \u001b[0;31m# Python 3.2 outputs the whole list of currently active exceptions\u001b[0m\u001b[0;34m\u001b[0m\u001b[0;34m\u001b[0m\u001b[0m\n\u001b[1;32m    472\u001b[0m         \u001b[0;31m# This serves to remove one (redundant) level from that nesting.\u001b[0m\u001b[0;34m\u001b[0m\u001b[0;34m\u001b[0m\u001b[0m\n\u001b[0;32m--> 473\u001b[0;31m         \u001b[0;32mraise\u001b[0m \u001b[0merr\u001b[0m\u001b[0;34m\u001b[0m\u001b[0m\n\u001b[0m\u001b[1;32m    474\u001b[0m \u001b[0;34m\u001b[0m\u001b[0m\n\u001b[1;32m    475\u001b[0m     \u001b[0;31m# }}}\u001b[0m\u001b[0;34m\u001b[0m\u001b[0;34m\u001b[0m\u001b[0m\n",
      "\u001b[0;31mRuntimeError\u001b[0m: clBuildProgram failed: BUILD_PROGRAM_FAILURE - \n\nBuild on <pyopencl.Device 'AMD Radeon R9 M370X Compute Engine' on 'Apple' at 0x1021c00>:\n\n<program source>:3:7: warning: no previous prototype for function 'sigmoid'\nfloat sigmoid(__global float * X, __global float * theta, const int size)\n      ^\n<program source>:5:22: warning: implicit declaration of function 'dotproduct' is invalid in C99\n  float linear_sum = dotproduct(X, theta, size);\n                     ^\n<program source>:11:49: warning: type specifier missing, defaults to 'int'\nfloat dotproduct(__global float * a, __global * float b, const int size)\n                                     ~~~~~~~~   ^\n<program source>:11:49: error: expected ')'\n<program source>:11:17: note: to match this '('\nfloat dotproduct(__global float * a, __global * float b, const int size)\n                ^\n<program source>:11:7: error: conflicting types for 'dotproduct'\nfloat dotproduct(__global float * a, __global * float b, const int size)\n      ^\n<program source>:5:22: note: previous implicit declaration is here\n  float linear_sum = dotproduct(X, theta, size);\n                     ^\n<program source>:11:49: error: parameter name omitted\nfloat dotproduct(__global float * a, __global * float b, const int size)\n                                                ^\n<program source>:14:22: error: use of undeclared identifier 'size'\n  for(int i = 0; i < size; i++){\n                     ^\n<program source>:15:19: error: use of undeclared identifier 'b'\n    out += a[i] * b[i];\n                  ^\n<program source>:20:6: warning: no previous prototype for function 'rowaverage'\nvoid rowaverage(__global float * in, float * out, const int nrows, const int ncols)\n     ^\n\n(options: -I /Users/antalek/anaconda/envs/ENVPy3/lib/python3.5/site-packages/pyopencl/cl)\n(source saved as /var/folders/4x/f3rlcx6s3ng53wr5nkrnlhb00000gp/T/tmpxbt_mdg8.cl)"
     ]
    }
   ],
   "source": [
    "# build the kernel\n",
    "with open(cl_code_file, 'r') as f:\n",
    "    programs = pcl.Program(cntx, f.read()).build()\n",
    "    f.seek(0)\n",
    "    print(f.read())"
   ]
  },
  {
   "cell_type": "code",
   "execution_count": null,
   "metadata": {
    "collapsed": true
   },
   "outputs": [],
   "source": []
  }
 ],
 "metadata": {
  "kernelspec": {
   "display_name": "Python [conda env:ENVPy3]",
   "language": "python",
   "name": "conda-env-ENVPy3-py"
  },
  "language_info": {
   "codemirror_mode": {
    "name": "ipython",
    "version": 3
   },
   "file_extension": ".py",
   "mimetype": "text/x-python",
   "name": "python",
   "nbconvert_exporter": "python",
   "pygments_lexer": "ipython3",
   "version": "3.5.2"
  }
 },
 "nbformat": 4,
 "nbformat_minor": 2
}
