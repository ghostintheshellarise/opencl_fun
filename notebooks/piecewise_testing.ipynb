{
 "cells": [
  {
   "cell_type": "code",
   "execution_count": 1,
   "metadata": {
    "collapsed": true
   },
   "outputs": [],
   "source": [
    "import os\n",
    "import pyopencl as pcl\n",
    "import numpy as np\n",
    "import scipy.stats as ss\n",
    "import pandas as pd\n",
    "import math\n",
    "import matplotlib.pyplot as plt"
   ]
  },
  {
   "cell_type": "code",
   "execution_count": 2,
   "metadata": {
    "collapsed": false
   },
   "outputs": [
    {
     "data": {
      "text/plain": [
       "True"
      ]
     },
     "execution_count": 2,
     "metadata": {},
     "output_type": "execute_result"
    }
   ],
   "source": [
    "clfile = os.path.join('..','src','glm_gpu','cl','logistic.cl')\n",
    "os.path.isfile(clfile)"
   ]
  },
  {
   "cell_type": "code",
   "execution_count": 640,
   "metadata": {
    "collapsed": false
   },
   "outputs": [],
   "source": [
    "os.environ['PYOPENCL_COMPILER_OUTPUT'] = '1'\n",
    "device = pcl.get_platforms()[0].get_devices()[2]\n",
    "cntx = pcl.Context([device])\n",
    "queue = pcl.CommandQueue(cntx)\n",
    "\n",
    "with open(clfile, 'r') as f:\n",
    "    programs = pcl.Program(cntx, f.read()).build()"
   ]
  },
  {
   "cell_type": "code",
   "execution_count": 641,
   "metadata": {
    "collapsed": false
   },
   "outputs": [
    {
     "data": {
      "text/plain": [
       "'AMD Radeon R9 M370X Compute Engine'"
      ]
     },
     "execution_count": 641,
     "metadata": {},
     "output_type": "execute_result"
    }
   ],
   "source": [
    "device.name"
   ]
  },
  {
   "cell_type": "code",
   "execution_count": 642,
   "metadata": {
    "collapsed": false
   },
   "outputs": [],
   "source": [
    "theta = np.array([0.5, 0.5], dtype=np.float32)"
   ]
  },
  {
   "cell_type": "code",
   "execution_count": 643,
   "metadata": {
    "collapsed": false
   },
   "outputs": [
    {
     "data": {
      "text/plain": [
       "dtype('float32')"
      ]
     },
     "execution_count": 643,
     "metadata": {},
     "output_type": "execute_result"
    }
   ],
   "source": [
    "theta.dtype"
   ]
  },
  {
   "cell_type": "code",
   "execution_count": 644,
   "metadata": {
    "collapsed": false
   },
   "outputs": [],
   "source": [
    "x0_1 = ss.norm(loc=10.0, scale=2.0)\n",
    "x0_0 = ss.norm(loc=7.0, scale=2.0)\n",
    "x1_1 = ss.norm(loc=5.0, scale=3.0)\n",
    "x1_0 = ss.norm(loc=-5.0, scale=3.0)"
   ]
  },
  {
   "cell_type": "code",
   "execution_count": 645,
   "metadata": {
    "collapsed": false
   },
   "outputs": [],
   "source": [
    "nsamps=2\n",
    "\n",
    "X_1 = pd.DataFrame(index=range(nsamps), \n",
    "                   columns=['x0','x1', 'y'])\n",
    "X_0 = pd.DataFrame(index=range(nsamps), \n",
    "                   columns=['x0','x1', 'y'])\n",
    "\n",
    "X_1.loc[:, 'x0'] = x0_1.rvs(size=(nsamps,)).astype(np.float32)\n",
    "X_1.loc[:, 'x1'] = x1_1.rvs(size=(nsamps,)).astype(np.float32)\n",
    "X_1.loc[:, 'y'] = np.ones(shape=(nsamps,)).astype(np.float32)\n",
    "\n",
    "X_0.loc[:, 'x0'] = x0_0.rvs(size=(nsamps,)).astype(np.float32)\n",
    "X_0.loc[:, 'x1'] = x1_0.rvs(size=(nsamps,)).astype(np.float32)\n",
    "X_0.loc[:, 'y'] = np.zeros(shape=(nsamps,)).astype(np.float32)\n"
   ]
  },
  {
   "cell_type": "code",
   "execution_count": 646,
   "metadata": {
    "collapsed": false
   },
   "outputs": [],
   "source": [
    "X_all = pd.concat((X_1, X_0), ignore_index=True)"
   ]
  },
  {
   "cell_type": "code",
   "execution_count": 647,
   "metadata": {
    "collapsed": false
   },
   "outputs": [],
   "source": [
    "X_all = X_all.reindex(np.random.permutation(X_all.index))"
   ]
  },
  {
   "cell_type": "code",
   "execution_count": 648,
   "metadata": {
    "collapsed": true
   },
   "outputs": [],
   "source": [
    "X = X_all.loc[:, ['x0', 'x1']]\n",
    "y = X_all.loc[:,'y']"
   ]
  },
  {
   "cell_type": "code",
   "execution_count": 649,
   "metadata": {
    "collapsed": false
   },
   "outputs": [
    {
     "data": {
      "text/plain": [
       "array([[ 7.45999813,  9.40224457],\n",
       "       [ 4.99564314, -6.58889055],\n",
       "       [ 4.78229189, -0.71666139],\n",
       "       [ 8.69048786,  2.88852334]], dtype=float32)"
      ]
     },
     "execution_count": 649,
     "metadata": {},
     "output_type": "execute_result"
    }
   ],
   "source": [
    "X.values"
   ]
  },
  {
   "cell_type": "code",
   "execution_count": 650,
   "metadata": {
    "collapsed": true
   },
   "outputs": [],
   "source": [
    "cost_arr = np.zeros(shape=(X.shape[0],)).astype(np.float32)\n",
    "temp_avg = np.zeros(shape=(4,)).astype(np.float32)"
   ]
  },
  {
   "cell_type": "code",
   "execution_count": 651,
   "metadata": {
    "collapsed": false
   },
   "outputs": [],
   "source": [
    "# compute cost\n",
    "X_buf = pcl.Buffer(cntx, pcl.mem_flags.READ_ONLY | pcl.mem_flags.COPY_HOST_PTR, hostbuf=X.values)\n",
    "y_buf = pcl.Buffer(cntx, pcl.mem_flags.READ_ONLY | pcl.mem_flags.COPY_HOST_PTR, hostbuf=y.values)\n",
    "theta_buf = pcl.Buffer(cntx, pcl.mem_flags.READ_ONLY | pcl.mem_flags.COPY_HOST_PTR, hostbuf=theta)\n",
    "\n",
    "cost_buf = pcl.Buffer(cntx, pcl.mem_flags.READ_WRITE | pcl.mem_flags.COPY_HOST_PTR, hostbuf=cost_arr)\n",
    "temp_buf = pcl.Buffer(cntx, pcl.mem_flags.WRITE_ONLY, size=temp_avg.nbytes)\n",
    "scratch_buf = pcl.LocalMemory(np.float32().nbytes * 256)\n",
    "\n",
    "nrows = np.int32(X.shape[0])\n",
    "ncols = np.int32(X.shape[1])\n",
    "\n",
    "out = np.zeros(shape=(X.shape[0],), dtype=np.float32)\n",
    "out_buf = pcl.Buffer(cntx, pcl.mem_flags.WRITE_ONLY, size=out.nbytes)"
   ]
  },
  {
   "cell_type": "code",
   "execution_count": null,
   "metadata": {
    "collapsed": true
   },
   "outputs": [],
   "source": []
  },
  {
   "cell_type": "code",
   "execution_count": 652,
   "metadata": {
    "collapsed": false
   },
   "outputs": [],
   "source": [
    "sig_event = programs.sig(queue,\n",
    "                         X.shape,\n",
    "                         None,\n",
    "                         X_buf,\n",
    "                         theta_buf,\n",
    "                         out_buf,\n",
    "                         nrows,\n",
    "                         ncols)\n",
    "\n",
    "# cost_event = programs.logistic_cost_ols(queue,\n",
    "#                                         X.shape,\n",
    "#                                         None,\n",
    "#                                         X_buf,\n",
    "#                                         theta_buf,\n",
    "#                                         y_buf,\n",
    "#                                         cost_buf,\n",
    "#                                         nrows,\n",
    "#                                         ncols)\n",
    "\n",
    "# reduction_event = programs.matrix_row_mean(queue,\n",
    "#                                            (1024,),\n",
    "#                                            (256,),\n",
    "#                                            cost_buf,\n",
    "#                                            temp_buf,\n",
    "#                                            scratch_buf,\n",
    "#                                            nrows,\n",
    "#                                            np.int32(1))"
   ]
  },
  {
   "cell_type": "code",
   "execution_count": 653,
   "metadata": {
    "collapsed": false
   },
   "outputs": [
    {
     "data": {
      "text/plain": [
       "(4, 2, (2,))"
      ]
     },
     "execution_count": 653,
     "metadata": {},
     "output_type": "execute_result"
    }
   ],
   "source": [
    "nrows, ncols, theta.shape"
   ]
  },
  {
   "cell_type": "code",
   "execution_count": 654,
   "metadata": {
    "collapsed": true
   },
   "outputs": [],
   "source": [
    "\n",
    "\n",
    "\n",
    "sig_event.wait()\n",
    "pcl.enqueue_copy(queue, out, out_buf).wait()\n",
    "\n",
    "# cost_event.wait()\n",
    "# pcl.enqueue_copy(queue, cost_arr, cost_buf).wait()\n",
    "\n",
    "# reduction_event.wait()\n",
    "# pcl.enqueue_copy(queue, temp_avg, temp_buf).wait()\n"
   ]
  },
  {
   "cell_type": "code",
   "execution_count": 655,
   "metadata": {
    "collapsed": false
   },
   "outputs": [],
   "source": [
    "def sig(X, theta):\n",
    "    theta.shape = (theta.size, 1)\n",
    "    lin = X.dot(theta)\n",
    "    sig = 1.0 / (1.0 + np.exp(-lin))\n",
    "    return sig\n",
    " \n",
    "    \n",
    "def cost(est, actual):\n",
    "    cost = ((est - actual)**2.0)\n",
    "    cost /= 2.0\n",
    "    cost = cost.sum()\n",
    "    return cost"
   ]
  },
  {
   "cell_type": "code",
   "execution_count": 656,
   "metadata": {
    "collapsed": false
   },
   "outputs": [],
   "source": [
    "my_out = sig(X.values, theta)"
   ]
  },
  {
   "cell_type": "code",
   "execution_count": 657,
   "metadata": {
    "collapsed": false
   },
   "outputs": [
    {
     "data": {
      "text/plain": [
       "((4, 1), (4,))"
      ]
     },
     "execution_count": 657,
     "metadata": {},
     "output_type": "execute_result"
    }
   ],
   "source": [
    "my_out.shape, out.shape"
   ]
  },
  {
   "cell_type": "code",
   "execution_count": 658,
   "metadata": {
    "collapsed": false
   },
   "outputs": [
    {
     "data": {
      "image/png": "[encoded data removed]",
      "text/plain": [
       "<matplotlib.figure.Figure at 0x114cbdcc0>"
      ]
     },
     "metadata": {},
     "output_type": "display_data"
    }
   ],
   "source": [
    "x = list(range(len(my_out)))\n",
    "plt.scatter(x, my_out)\n",
    "plt.scatter(x, out, color='r')\n",
    "plt.show()\n"
   ]
  },
  {
   "cell_type": "code",
   "execution_count": 659,
   "metadata": {
    "collapsed": false
   },
   "outputs": [
    {
     "data": {
      "text/plain": [
       "array([[ 8.43112183],\n",
       "       [-0.79662371],\n",
       "       [ 2.03281522],\n",
       "       [ 5.78950548]], dtype=float32)"
      ]
     },
     "execution_count": 659,
     "metadata": {},
     "output_type": "execute_result"
    }
   ],
   "source": [
    "X.values.dot(theta)"
   ]
  },
  {
   "cell_type": "code",
   "execution_count": null,
   "metadata": {
    "collapsed": false
   },
   "outputs": [],
   "source": []
  },
  {
   "cell_type": "code",
   "execution_count": 660,
   "metadata": {
    "collapsed": false
   },
   "outputs": [
    {
     "data": {
      "text/plain": [
       "array([[False, False, False, False],\n",
       "       [False, False, False, False],\n",
       "       [False, False, False, False],\n",
       "       [False, False, False, False]], dtype=bool)"
      ]
     },
     "execution_count": 660,
     "metadata": {},
     "output_type": "execute_result"
    }
   ],
   "source": [
    "out == my_out"
   ]
  },
  {
   "cell_type": "code",
   "execution_count": 569,
   "metadata": {
    "collapsed": true
   },
   "outputs": [],
   "source": [
    "# ok now let's check the gradient stuff\n",
    "def grad(X, theta, y):\n",
    "    diff = y - sig(X, theta)\n",
    "    g = np.zeros(X.shape)\n",
    "    for i in range(X.shape[0]):\n",
    "        for j  in range(X.shape[1]):\n",
    "            g[i,j] = diff[i] * X[i,j]\n",
    "    return g"
   ]
  },
  {
   "cell_type": "code",
   "execution_count": 570,
   "metadata": {
    "collapsed": false
   },
   "outputs": [
    {
     "data": {
      "text/plain": [
       "0    1.0\n",
       "1    0.0\n",
       "Name: y, dtype: float32"
      ]
     },
     "execution_count": 570,
     "metadata": {},
     "output_type": "execute_result"
    }
   ],
   "source": [
    "y"
   ]
  },
  {
   "cell_type": "code",
   "execution_count": 571,
   "metadata": {
    "collapsed": false
   },
   "outputs": [
    {
     "data": {
      "text/plain": [
       "(array([[ 0.09826134, -0.01163261],\n",
       "        [-1.70264673,  2.22991967]]),\n",
       " array([ 0.99072778,  0.28180367], dtype=float32),\n",
       " array([ 1.,  0.], dtype=float32))"
      ]
     },
     "execution_count": 571,
     "metadata": {},
     "output_type": "execute_result"
    }
   ],
   "source": [
    "grad(X.values, theta, y.values), sig(X.values, theta), y.values"
   ]
  },
  {
   "cell_type": "code",
   "execution_count": 610,
   "metadata": {
    "collapsed": true
   },
   "outputs": [],
   "source": [
    "gradient = np.zeros(shape=X.shape, dtype=np.float32)\n"
   ]
  },
  {
   "cell_type": "code",
   "execution_count": 611,
   "metadata": {
    "collapsed": false
   },
   "outputs": [],
   "source": [
    "X_buf = pcl.Buffer(cntx, pcl.mem_flags.READ_ONLY | pcl.mem_flags.COPY_HOST_PTR, hostbuf=X.values)\n",
    "y_buf = pcl.Buffer(cntx, pcl.mem_flags.READ_ONLY | pcl.mem_flags.COPY_HOST_PTR, hostbuf=y.values)\n",
    "theta_buf = pcl.Buffer(cntx, pcl.mem_flags.READ_ONLY | pcl.mem_flags.COPY_HOST_PTR, hostbuf=theta)\n",
    "grad_buf = pcl.Buffer(cntx, pcl.mem_flags.READ_WRITE | pcl.mem_flags.COPY_HOST_PTR , hostbuf=gradient)"
   ]
  },
  {
   "cell_type": "code",
   "execution_count": 612,
   "metadata": {
    "collapsed": false
   },
   "outputs": [],
   "source": [
    "grad_event = programs.logistic_gradient_ols(queue,\n",
    "                                            X.shape,\n",
    "                                            None,\n",
    "                                            X_buf,\n",
    "                                            theta_buf,\n",
    "                                            y_buf,\n",
    "                                            grad_buf,\n",
    "                                            nrows,\n",
    "                                            ncols)"
   ]
  },
  {
   "cell_type": "code",
   "execution_count": 613,
   "metadata": {
    "collapsed": false
   },
   "outputs": [
    {
     "data": {
      "text/plain": [
       "array([[ 0.,  0.],\n",
       "       [ 0.,  0.]], dtype=float32)"
      ]
     },
     "execution_count": 613,
     "metadata": {},
     "output_type": "execute_result"
    }
   ],
   "source": [
    "gradient"
   ]
  },
  {
   "cell_type": "code",
   "execution_count": 614,
   "metadata": {
    "collapsed": false
   },
   "outputs": [],
   "source": [
    "grad_event.wait()"
   ]
  },
  {
   "cell_type": "code",
   "execution_count": 615,
   "metadata": {
    "collapsed": true
   },
   "outputs": [],
   "source": [
    "pcl.enqueue_copy(queue, gradient, grad_buf).wait()"
   ]
  },
  {
   "cell_type": "code",
   "execution_count": 619,
   "metadata": {
    "collapsed": false
   },
   "outputs": [
    {
     "data": {
      "text/plain": [
       "array([[ True,  True],\n",
       "       [ True,  True]], dtype=bool)"
      ]
     },
     "execution_count": 619,
     "metadata": {},
     "output_type": "execute_result"
    }
   ],
   "source": [
    "gradient.T == grad(X.values, theta, y.values)"
   ]
  },
  {
   "cell_type": "code",
   "execution_count": 617,
   "metadata": {
    "collapsed": false
   },
   "outputs": [
    {
     "data": {
      "text/plain": [
       "array([[ 0.09826134, -1.70264673],\n",
       "       [-0.01163261,  2.22991967]], dtype=float32)"
      ]
     },
     "execution_count": 617,
     "metadata": {},
     "output_type": "execute_result"
    }
   ],
   "source": [
    "gradient"
   ]
  },
  {
   "cell_type": "code",
   "execution_count": 618,
   "metadata": {
    "collapsed": false
   },
   "outputs": [
    {
     "data": {
      "text/plain": [
       "array([[ 0.09826134, -0.01163261],\n",
       "       [-1.70264673,  2.22991967]])"
      ]
     },
     "execution_count": 618,
     "metadata": {},
     "output_type": "execute_result"
    }
   ],
   "source": [
    "grad(X.values, theta, y.values)."
   ]
  },
  {
   "cell_type": "code",
   "execution_count": null,
   "metadata": {
    "collapsed": true
   },
   "outputs": [],
   "source": []
  }
 ],
 "metadata": {
  "kernelspec": {
   "display_name": "Python [conda env:ENVPy3]",
   "language": "python",
   "name": "conda-env-ENVPy3-py"
  },
  "language_info": {
   "codemirror_mode": {
    "name": "ipython",
    "version": 3
   },
   "file_extension": ".py",
   "mimetype": "text/x-python",
   "name": "python",
   "nbconvert_exporter": "python",
   "pygments_lexer": "ipython3",
   "version": "3.5.2"
  }
 },
 "nbformat": 4,
 "nbformat_minor": 2
}
