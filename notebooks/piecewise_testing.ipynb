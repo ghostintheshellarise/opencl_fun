{
 "cells": [
  {
   "cell_type": "code",
   "execution_count": 1,
   "metadata": {
    "collapsed": true
   },
   "outputs": [],
   "source": [
    "import os\n",
    "import pyopencl as pcl\n",
    "import numpy as np\n",
    "import scipy.stats as ss\n",
    "import pandas as pd\n",
    "import math\n",
    "import matplotlib.pyplot as plt"
   ]
  },
  {
   "cell_type": "code",
   "execution_count": 2,
   "metadata": {
    "collapsed": false
   },
   "outputs": [
    {
     "data": {
      "text/plain": [
       "True"
      ]
     },
     "execution_count": 2,
     "metadata": {},
     "output_type": "execute_result"
    }
   ],
   "source": [
    "clfile = os.path.join('..','src','glm_gpu','cl','logistic.cl')\n",
    "os.path.isfile(clfile)"
   ]
  },
  {
   "cell_type": "code",
   "execution_count": 43,
   "metadata": {
    "collapsed": false
   },
   "outputs": [],
   "source": [
    "os.environ['PYOPENCL_COMPILER_OUTPUT'] = '1'\n",
    "device = pcl.get_platforms()[0].get_devices()[2]\n",
    "cntx = pcl.Context([device])\n",
    "queue = pcl.CommandQueue(cntx)\n",
    "\n",
    "with open(clfile, 'r') as f:\n",
    "    programs = pcl.Program(cntx, f.read()).build()"
   ]
  },
  {
   "cell_type": "code",
   "execution_count": 44,
   "metadata": {
    "collapsed": false
   },
   "outputs": [
    {
     "data": {
      "text/plain": [
       "'AMD Radeon R9 M370X Compute Engine'"
      ]
     },
     "execution_count": 44,
     "metadata": {},
     "output_type": "execute_result"
    }
   ],
   "source": [
    "device.name"
   ]
  },
  {
   "cell_type": "code",
   "execution_count": 45,
   "metadata": {
    "collapsed": false
   },
   "outputs": [],
   "source": [
    "theta = np.array([0.5, 0.5], dtype=np.float32)"
   ]
  },
  {
   "cell_type": "code",
   "execution_count": 46,
   "metadata": {
    "collapsed": false
   },
   "outputs": [
    {
     "data": {
      "text/plain": [
       "dtype('float32')"
      ]
     },
     "execution_count": 46,
     "metadata": {},
     "output_type": "execute_result"
    }
   ],
   "source": [
    "theta.dtype"
   ]
  },
  {
   "cell_type": "code",
   "execution_count": 47,
   "metadata": {
    "collapsed": false
   },
   "outputs": [],
   "source": [
    "x0_1 = ss.norm(loc=10.0, scale=2.0)\n",
    "x0_0 = ss.norm(loc=7.0, scale=2.0)\n",
    "x1_1 = ss.norm(loc=5.0, scale=3.0)\n",
    "x1_0 = ss.norm(loc=-5.0, scale=3.0)"
   ]
  },
  {
   "cell_type": "code",
   "execution_count": 48,
   "metadata": {
    "collapsed": false
   },
   "outputs": [],
   "source": [
    "nsamps=2\n",
    "\n",
    "X_1 = pd.DataFrame(index=range(nsamps), \n",
    "                   columns=['x0','x1', 'y'])\n",
    "X_0 = pd.DataFrame(index=range(nsamps), \n",
    "                   columns=['x0','x1', 'y'])\n",
    "\n",
    "X_1.loc[:, 'x0'] = x0_1.rvs(size=(nsamps,)).astype(np.float32)\n",
    "X_1.loc[:, 'x1'] = x1_1.rvs(size=(nsamps,)).astype(np.float32)\n",
    "X_1.loc[:, 'y'] = np.ones(shape=(nsamps,)).astype(np.float32)\n",
    "\n",
    "X_0.loc[:, 'x0'] = x0_0.rvs(size=(nsamps,)).astype(np.float32)\n",
    "X_0.loc[:, 'x1'] = x1_0.rvs(size=(nsamps,)).astype(np.float32)\n",
    "X_0.loc[:, 'y'] = np.zeros(shape=(nsamps,)).astype(np.float32)\n"
   ]
  },
  {
   "cell_type": "code",
   "execution_count": 49,
   "metadata": {
    "collapsed": false
   },
   "outputs": [],
   "source": [
    "X_all = pd.concat((X_1, X_0), ignore_index=True)"
   ]
  },
  {
   "cell_type": "code",
   "execution_count": 50,
   "metadata": {
    "collapsed": false
   },
   "outputs": [],
   "source": [
    "X_all = X_all.reindex(np.random.permutation(X_all.index))"
   ]
  },
  {
   "cell_type": "code",
   "execution_count": 51,
   "metadata": {
    "collapsed": true
   },
   "outputs": [],
   "source": [
    "X = X_all.loc[:, ['x0', 'x1']]\n",
    "y = X_all.loc[:,'y']"
   ]
  },
  {
   "cell_type": "code",
   "execution_count": 52,
   "metadata": {
    "collapsed": false
   },
   "outputs": [
    {
     "data": {
      "text/plain": [
       "array([[ 13.2335968 ,   4.43416882],\n",
       "       [  6.71336794,  -1.77869785],\n",
       "       [  7.12713623,   6.31818056],\n",
       "       [  8.43808556,  -4.48261213]], dtype=float32)"
      ]
     },
     "execution_count": 52,
     "metadata": {},
     "output_type": "execute_result"
    }
   ],
   "source": [
    "X.values"
   ]
  },
  {
   "cell_type": "code",
   "execution_count": 53,
   "metadata": {
    "collapsed": true
   },
   "outputs": [],
   "source": [
    "cost_arr = np.zeros(shape=(X.shape[0],)).astype(np.float32)\n",
    "temp_avg = np.zeros(shape=(4,)).astype(np.float32)"
   ]
  },
  {
   "cell_type": "code",
   "execution_count": 54,
   "metadata": {
    "collapsed": false
   },
   "outputs": [],
   "source": [
    "# compute cost\n",
    "X_buf = pcl.Buffer(cntx, pcl.mem_flags.READ_ONLY | pcl.mem_flags.COPY_HOST_PTR, hostbuf=X.values)\n",
    "y_buf = pcl.Buffer(cntx, pcl.mem_flags.READ_ONLY | pcl.mem_flags.COPY_HOST_PTR, hostbuf=y.values)\n",
    "theta_buf = pcl.Buffer(cntx, pcl.mem_flags.READ_ONLY | pcl.mem_flags.COPY_HOST_PTR, hostbuf=theta)\n",
    "cost_buf = pcl.Buffer(cntx, pcl.mem_flags.READ_WRITE | pcl.mem_flags.COPY_HOST_PTR, hostbuf=cost_arr)\n",
    "temp_buf = pcl.Buffer(cntx, pcl.mem_flags.WRITE_ONLY, size=temp_avg.nbytes)\n",
    "scratch_buf = pcl.LocalMemory(np.float32().nbytes * 256)\n",
    "\n",
    "nrows = np.int32(X.shape[0])\n",
    "ncols = np.int32(X.shape[1])\n",
    "\n",
    "out = np.zeros(shape=(X.shape[0],), dtype=np.float32)\n",
    "out_buf = pcl.Buffer(cntx, pcl.mem_flags.WRITE_ONLY, size=out.nbytes)"
   ]
  },
  {
   "cell_type": "code",
   "execution_count": null,
   "metadata": {
    "collapsed": true
   },
   "outputs": [],
   "source": []
  },
  {
   "cell_type": "code",
   "execution_count": 55,
   "metadata": {
    "collapsed": false
   },
   "outputs": [],
   "source": [
    "sig_event = programs.sig(queue,\n",
    "                         X.shape,\n",
    "                         None,\n",
    "                         X_buf,\n",
    "                         theta_buf,\n",
    "                         out_buf,\n",
    "                         nrows,\n",
    "                         ncols)\n",
    "\n",
    "cost_event = programs.logistic_cost_ols(queue,\n",
    "                                        X.shape,\n",
    "                                        None,\n",
    "                                        X_buf,\n",
    "                                        theta_buf,\n",
    "                                        y_buf,\n",
    "                                        cost_buf,\n",
    "                                        nrows,\n",
    "                                        ncols)\n",
    "\n",
    "# reduction_event = programs.matrix_row_mean(queue,\n",
    "#                                            (1024,),\n",
    "#                                            (256,),\n",
    "#                                            cost_buf,\n",
    "#                                            temp_buf,\n",
    "#                                            scratch_buf,\n",
    "#                                            nrows,\n",
    "#                                            np.int32(1))"
   ]
  },
  {
   "cell_type": "code",
   "execution_count": 56,
   "metadata": {
    "collapsed": false
   },
   "outputs": [
    {
     "data": {
      "text/plain": [
       "(4, 2, (2,))"
      ]
     },
     "execution_count": 56,
     "metadata": {},
     "output_type": "execute_result"
    }
   ],
   "source": [
    "nrows, ncols, theta.shape"
   ]
  },
  {
   "cell_type": "code",
   "execution_count": 57,
   "metadata": {
    "collapsed": true
   },
   "outputs": [],
   "source": [
    "\n",
    "\n",
    "\n",
    "sig_event.wait()\n",
    "pcl.enqueue_copy(queue, out, out_buf).wait()\n",
    "\n",
    "cost_event.wait()\n",
    "pcl.enqueue_copy(queue, cost_arr, cost_buf).wait()\n",
    "\n",
    "# reduction_event.wait()\n",
    "# pcl.enqueue_copy(queue, temp_avg, temp_buf).wait()\n"
   ]
  },
  {
   "cell_type": "code",
   "execution_count": 69,
   "metadata": {
    "collapsed": false
   },
   "outputs": [],
   "source": [
    "def sig(X, theta):\n",
    "    lin = X.dot(theta)\n",
    "    sig = 1.0 / (1.0 + np.exp(-lin))\n",
    "    return sig\n",
    " \n",
    "    \n",
    "def cost(est, actual):\n",
    "    cost = ((est - actual)**2.0)\n",
    "    cost /= 2.0\n",
    "    return cost"
   ]
  },
  {
   "cell_type": "code",
   "execution_count": 70,
   "metadata": {
    "collapsed": false
   },
   "outputs": [],
   "source": [
    "my_out = sig(X.values, theta)\n",
    "my_cost = cost(my_out, y)"
   ]
  },
  {
   "cell_type": "code",
   "execution_count": 71,
   "metadata": {
    "collapsed": false
   },
   "outputs": [
    {
     "data": {
      "text/plain": [
       "((4,), (4,))"
      ]
     },
     "execution_count": 71,
     "metadata": {},
     "output_type": "execute_result"
    }
   ],
   "source": [
    "my_out.shape, out.shape"
   ]
  },
  {
   "cell_type": "code",
   "execution_count": 72,
   "metadata": {
    "collapsed": false
   },
   "outputs": [
    {
     "data": {
      "image/png": "[encoded data removed]",
      "text/plain": [
       "<matplotlib.figure.Figure at 0x118b03320>"
      ]
     },
     "metadata": {},
     "output_type": "display_data"
    }
   ],
   "source": [
    "x = list(range(len(my_out)))\n",
    "plt.scatter(x, my_out)\n",
    "plt.scatter(x, out, color='r')\n",
    "plt.show()\n"
   ]
  },
  {
   "cell_type": "code",
   "execution_count": 73,
   "metadata": {
    "collapsed": false
   },
   "outputs": [
    {
     "data": {
      "image/png": "[encoded data removed]",
      "text/plain": [
       "<matplotlib.figure.Figure at 0x118c57198>"
      ]
     },
     "metadata": {},
     "output_type": "display_data"
    }
   ],
   "source": [
    "x = list(range(len(my_cost)))\n",
    "plt.scatter(x, my_cost)\n",
    "plt.scatter(x, cost_arr)\n",
    "plt.show()"
   ]
  },
  {
   "cell_type": "code",
   "execution_count": 75,
   "metadata": {
    "collapsed": false
   },
   "outputs": [
    {
     "data": {
      "text/plain": [
       "0    True\n",
       "2    True\n",
       "1    True\n",
       "3    True\n",
       "Name: y, dtype: bool"
      ]
     },
     "execution_count": 75,
     "metadata": {},
     "output_type": "execute_result"
    }
   ],
   "source": [
    "my_cost == cost_arr"
   ]
  },
  {
   "cell_type": "code",
   "execution_count": 62,
   "metadata": {
    "collapsed": false
   },
   "outputs": [
    {
     "data": {
      "text/plain": [
       "array([ 8.83388329,  2.46733499,  6.72265816,  1.97773671], dtype=float32)"
      ]
     },
     "execution_count": 62,
     "metadata": {},
     "output_type": "execute_result"
    }
   ],
   "source": [
    "X.values.dot(theta)"
   ]
  },
  {
   "cell_type": "code",
   "execution_count": 63,
   "metadata": {
    "collapsed": false
   },
   "outputs": [
    {
     "data": {
      "text/plain": [
       "array([[ 13.2335968 ,   4.43416882],\n",
       "       [  6.71336794,  -1.77869785],\n",
       "       [  7.12713623,   6.31818056],\n",
       "       [  8.43808556,  -4.48261213]], dtype=float32)"
      ]
     },
     "execution_count": 63,
     "metadata": {},
     "output_type": "execute_result"
    }
   ],
   "source": [
    "X.values"
   ]
  },
  {
   "cell_type": "code",
   "execution_count": 24,
   "metadata": {
    "collapsed": false
   },
   "outputs": [
    {
     "data": {
      "text/plain": [
       "6.511075495"
      ]
     },
     "execution_count": 24,
     "metadata": {},
     "output_type": "execute_result"
    }
   ],
   "source": [
    "(7.93563604 + 5.08651495)/2.0"
   ]
  },
  {
   "cell_type": "code",
   "execution_count": 25,
   "metadata": {
    "collapsed": false
   },
   "outputs": [
    {
     "data": {
      "text/plain": [
       "array([ 0.5,  0.5], dtype=float32)"
      ]
     },
     "execution_count": 25,
     "metadata": {},
     "output_type": "execute_result"
    }
   ],
   "source": [
    "theta"
   ]
  },
  {
   "cell_type": "code",
   "execution_count": 26,
   "metadata": {
    "collapsed": false
   },
   "outputs": [
    {
     "data": {
      "text/plain": [
       "array([ 0.9384653 ,  0.99787712,  0.99965572,  0.84782028], dtype=float32)"
      ]
     },
     "execution_count": 26,
     "metadata": {},
     "output_type": "execute_result"
    }
   ],
   "source": [
    "out"
   ]
  },
  {
   "cell_type": "code",
   "execution_count": 27,
   "metadata": {
    "collapsed": false
   },
   "outputs": [
    {
     "data": {
      "text/plain": [
       "array([ True,  True,  True,  True], dtype=bool)"
      ]
     },
     "execution_count": 27,
     "metadata": {},
     "output_type": "execute_result"
    }
   ],
   "source": [
    "my_out.reshape((my_out.size, )) == out"
   ]
  },
  {
   "cell_type": "code",
   "execution_count": 28,
   "metadata": {
    "collapsed": false
   },
   "outputs": [
    {
     "data": {
      "text/plain": [
       "array([ True,  True,  True,  True], dtype=bool)"
      ]
     },
     "execution_count": 28,
     "metadata": {},
     "output_type": "execute_result"
    }
   ],
   "source": [
    "out == my_out"
   ]
  },
  {
   "cell_type": "code",
   "execution_count": 101,
   "metadata": {
    "collapsed": true
   },
   "outputs": [],
   "source": [
    "# ok now let's check the gradient stuff\n",
    "def grad(X, theta, y):\n",
    "    diff = y - sig(X, theta)\n",
    "    g = np.zeros(X.shape)\n",
    "    for i in range(X.shape[0]):\n",
    "        for j  in range(X.shape[1]):\n",
    "            g[i,j] = diff[i] * X[i,j]\n",
    "    return g"
   ]
  },
  {
   "cell_type": "code",
   "execution_count": 30,
   "metadata": {
    "collapsed": false
   },
   "outputs": [
    {
     "data": {
      "text/plain": [
       "3    0.0\n",
       "1    1.0\n",
       "0    1.0\n",
       "2    0.0\n",
       "Name: y, dtype: float32"
      ]
     },
     "execution_count": 30,
     "metadata": {},
     "output_type": "execute_result"
    }
   ],
   "source": [
    "y"
   ]
  },
  {
   "cell_type": "code",
   "execution_count": 31,
   "metadata": {
    "collapsed": false
   },
   "outputs": [
    {
     "data": {
      "text/plain": [
       "(array([[ -8.38373756e+00,   3.26977110e+00],\n",
       "        [  1.01601668e-02,   1.59633141e-02],\n",
       "        [  3.69165326e-03,   1.79856387e-03],\n",
       "        [ -6.21374750e+00,   3.30130386e+00]]),\n",
       " array([ 0.9384653 ,  0.99787712,  0.99965572,  0.84782028], dtype=float32),\n",
       " array([ 0.,  1.,  1.,  0.], dtype=float32))"
      ]
     },
     "execution_count": 31,
     "metadata": {},
     "output_type": "execute_result"
    }
   ],
   "source": [
    "theta = theta.reshape((theta.size,))\n",
    "grad(X.values, theta, y.values), sig(X.values, theta), y.values"
   ]
  },
  {
   "cell_type": "code",
   "execution_count": 32,
   "metadata": {
    "collapsed": true
   },
   "outputs": [],
   "source": [
    "gradient = np.zeros(shape=X.shape, dtype=np.float32)\n"
   ]
  },
  {
   "cell_type": "code",
   "execution_count": 33,
   "metadata": {
    "collapsed": false
   },
   "outputs": [],
   "source": [
    "X_buf = pcl.Buffer(cntx, pcl.mem_flags.READ_ONLY | pcl.mem_flags.COPY_HOST_PTR, hostbuf=X.values)\n",
    "y_buf = pcl.Buffer(cntx, pcl.mem_flags.READ_ONLY | pcl.mem_flags.COPY_HOST_PTR, hostbuf=y.values)\n",
    "theta_buf = pcl.Buffer(cntx, pcl.mem_flags.READ_ONLY | pcl.mem_flags.COPY_HOST_PTR, hostbuf=theta)\n",
    "grad_buf = pcl.Buffer(cntx, pcl.mem_flags.READ_WRITE | pcl.mem_flags.COPY_HOST_PTR , hostbuf=gradient)"
   ]
  },
  {
   "cell_type": "code",
   "execution_count": 34,
   "metadata": {
    "collapsed": false
   },
   "outputs": [],
   "source": [
    "grad_event = programs.logistic_gradient_ols(queue,\n",
    "                                            X.shape,\n",
    "                                            None,\n",
    "                                            X_buf,\n",
    "                                            theta_buf,\n",
    "                                            y_buf,\n",
    "                                            grad_buf,\n",
    "                                            nrows,\n",
    "                                            ncols)"
   ]
  },
  {
   "cell_type": "code",
   "execution_count": 35,
   "metadata": {
    "collapsed": false
   },
   "outputs": [
    {
     "data": {
      "text/plain": [
       "array([[ 0.,  0.],\n",
       "       [ 0.,  0.],\n",
       "       [ 0.,  0.],\n",
       "       [ 0.,  0.]], dtype=float32)"
      ]
     },
     "execution_count": 35,
     "metadata": {},
     "output_type": "execute_result"
    }
   ],
   "source": [
    "gradient"
   ]
  },
  {
   "cell_type": "code",
   "execution_count": 36,
   "metadata": {
    "collapsed": false
   },
   "outputs": [],
   "source": [
    "grad_event.wait()"
   ]
  },
  {
   "cell_type": "code",
   "execution_count": 37,
   "metadata": {
    "collapsed": true
   },
   "outputs": [],
   "source": [
    "pcl.enqueue_copy(queue, gradient, grad_buf).wait()"
   ]
  },
  {
   "cell_type": "code",
   "execution_count": 38,
   "metadata": {
    "collapsed": false
   },
   "outputs": [
    {
     "data": {
      "text/plain": [
       "array([[ -8.38373756e+00,   3.26977110e+00],\n",
       "       [  1.01601668e-02,   1.59633141e-02],\n",
       "       [  3.69165326e-03,   1.79856387e-03],\n",
       "       [ -6.21374750e+00,   3.30130386e+00]], dtype=float32)"
      ]
     },
     "execution_count": 38,
     "metadata": {},
     "output_type": "execute_result"
    }
   ],
   "source": [
    "gradient"
   ]
  },
  {
   "cell_type": "code",
   "execution_count": 39,
   "metadata": {
    "collapsed": false
   },
   "outputs": [
    {
     "data": {
      "text/plain": [
       "array([[ True,  True],\n",
       "       [ True,  True],\n",
       "       [ True,  True],\n",
       "       [ True,  True]], dtype=bool)"
      ]
     },
     "execution_count": 39,
     "metadata": {},
     "output_type": "execute_result"
    }
   ],
   "source": [
    "gradient == grad(X.values, theta, y.values)"
   ]
  },
  {
   "cell_type": "code",
   "execution_count": 40,
   "metadata": {
    "collapsed": false
   },
   "outputs": [
    {
     "data": {
      "text/plain": [
       "array([[ -8.38373756e+00,   3.26977110e+00],\n",
       "       [  1.01601668e-02,   1.59633141e-02],\n",
       "       [  3.69165326e-03,   1.79856387e-03],\n",
       "       [ -6.21374750e+00,   3.30130386e+00]], dtype=float32)"
      ]
     },
     "execution_count": 40,
     "metadata": {},
     "output_type": "execute_result"
    }
   ],
   "source": [
    "gradient"
   ]
  },
  {
   "cell_type": "code",
   "execution_count": 85,
   "metadata": {
    "collapsed": false
   },
   "outputs": [
    {
     "data": {
      "text/plain": [
       "array([[  1.92778767e-03,   6.45941996e-04],\n",
       "       [ -6.18851614e+00,   1.63963902e+00],\n",
       "       [  8.56587756e-03,   7.59361917e-03],\n",
       "       [ -7.41234922e+00,   3.93770432e+00]])"
      ]
     },
     "execution_count": 85,
     "metadata": {},
     "output_type": "execute_result"
    }
   ],
   "source": [
    "grad(X.values, theta, y.values)"
   ]
  },
  {
   "cell_type": "code",
   "execution_count": 42,
   "metadata": {
    "collapsed": true
   },
   "outputs": [],
   "source": [
    "# let's double check I can get this to work"
   ]
  },
  {
   "cell_type": "code",
   "execution_count": 107,
   "metadata": {
    "collapsed": true
   },
   "outputs": [],
   "source": [
    "def fit_params(X, y, theta):\n",
    "    tol = 1e-5\n",
    "    learning_rate = 1e-2\n",
    "    for i in range(0, 1000):\n",
    "        my_est = sig(X, theta)\n",
    "        my_cost = cost(my_est, y)\n",
    "        my_cost = my_cost.sum()\n",
    "        my_cost /= 2.\n",
    "        if my_cost < tol:\n",
    "            break\n",
    "        else:\n",
    "            my_gradient = grad(X, theta, y)\n",
    "            my_gradient = my_gradient.mean(axis=0)\n",
    "            theta = theta + learning_rate * my_gradient\n",
    "            \n",
    "    return theta"
   ]
  },
  {
   "cell_type": "code",
   "execution_count": 125,
   "metadata": {
    "collapsed": false
   },
   "outputs": [],
   "source": [
    "new_t = np.random.normal(size=theta.shape)\n",
    "fitted_theta = fit_params(X.values, y.values, new_t)"
   ]
  },
  {
   "cell_type": "code",
   "execution_count": 126,
   "metadata": {
    "collapsed": false
   },
   "outputs": [
    {
     "data": {
      "text/plain": [
       "array([-0.14121078,  1.35125726])"
      ]
     },
     "execution_count": 126,
     "metadata": {},
     "output_type": "execute_result"
    }
   ],
   "source": [
    "fitted_theta"
   ]
  },
  {
   "cell_type": "code",
   "execution_count": 127,
   "metadata": {
    "collapsed": false
   },
   "outputs": [
    {
     "data": {
      "text/plain": [
       "0.00070021012826479727"
      ]
     },
     "execution_count": 127,
     "metadata": {},
     "output_type": "execute_result"
    }
   ],
   "source": [
    "cost(sig(X.values, fitted_theta), y).sum()"
   ]
  },
  {
   "cell_type": "code",
   "execution_count": 128,
   "metadata": {
    "collapsed": false
   },
   "outputs": [
    {
     "data": {
      "text/plain": [
       "0.9950057140519678"
      ]
     },
     "execution_count": 128,
     "metadata": {},
     "output_type": "execute_result"
    }
   ],
   "source": [
    "cost(sig(X.values, np.random.normal(size=theta.shape)), y).sum()"
   ]
  },
  {
   "cell_type": "code",
   "execution_count": 138,
   "metadata": {
    "collapsed": true
   },
   "outputs": [],
   "source": [
    "# ok that works, let's see if I can get this to work with the gpu code\n",
    "def fit_gpu(X, y, theta, queue, cntx):\n",
    "    tol = 1e-5\n",
    "    learning_rate = 1e-2\n",
    "    nrows = np.int32(X.shape[0])\n",
    "    ncols = np.int32(X.shape[1])\n",
    "    for i in range(0, 1000):\n",
    "        cost_arr = np.zeros(shape=(X.shape[0],), dtype=np.float32)\n",
    "        X_buf = pcl.Buffer(cntx, pcl.mem_flags.READ_ONLY | pcl.mem_flags.COPY_HOST_PTR, hostbuf=X)\n",
    "        y_buf = pcl.Buffer(cntx, pcl.mem_flags.READ_ONLY | pcl.mem_flags.COPY_HOST_PTR, hostbuf=y)\n",
    "        theta_buf = pcl.Buffer(cntx, pcl.mem_flags.READ_ONLY | pcl.mem_flags.COPY_HOST_PTR, hostbuf=theta)\n",
    "        cost_buf = pcl.Buffer(cntx, pcl.mem_flags.READ_WRITE | pcl.mem_flags.COPY_HOST_PTR, hostbuf=cost_arr)\n",
    "        \n",
    "        cost_event = programs.logistic_cost_ols(queue,X.shape,None,X_buf,theta_buf, y_buf,cost_buf,nrows,ncols)\n",
    "        cost_event.wait()\n",
    "        pcl.enqueue_copy(queue, cost_arr, cost_buf)\n",
    "        cost_arr = cost_arr.sum()\n",
    "        cost_arr /= 2.\n",
    "        if cost_arr < tol:\n",
    "            break\n",
    "        else:\n",
    "            grad_buf = pcl.Buffer(cntx, pcl.mem_flags.WRITE_ONLY , size=X.nbytes)\n",
    "            grad_event = programs.logistic_gradient_ols(queue,X.shape,None,X_buf,theta_buf,y_buf,grad_buf,nrows,ncols)\n",
    "            grad_event.wait()\n",
    "            grad_arr = np.zeros(shape=X.shape, dtype=np.float32)\n",
    "            pcl.enqueue_copy(queue, grad_arr, grad_buf)\n",
    "            grad_arr = grad_arr.mean(axis=0)\n",
    "            theta = theta + learning_rate * grad_arr\n",
    "            \n",
    "    return theta\n",
    "            \n",
    "            \n",
    "        \n",
    "        \n",
    "        "
   ]
  },
  {
   "cell_type": "code",
   "execution_count": 145,
   "metadata": {
    "collapsed": false
   },
   "outputs": [
    {
     "name": "stdout",
     "output_type": "stream",
     "text": [
      "0.499499440193\n",
      "0.49914765358\n",
      "0.498549252748\n",
      "0.49753344059\n",
      "0.495814412832\n",
      "0.492922097445\n",
      "0.488103508949\n",
      "0.480207592249\n",
      "0.467612147331\n",
      "0.448338031769\n",
      "0.420562714338\n",
      "0.383552759886\n",
      "0.3384334445\n",
      "0.288002938032\n",
      "0.236046388745\n",
      "0.187085539103\n",
      "0.145481690764\n",
      "0.113489128649\n",
      "0.0906126797199\n",
      "0.0748503878713\n",
      "0.0640667527914\n",
      "0.0565915554762\n",
      "0.0512768924236\n",
      "0.0473753325641\n",
      "0.0444087833166\n",
      "0.0420715771616\n",
      "0.0401665046811\n",
      "0.0385647676885\n",
      "0.0371810495853\n",
      "0.035957954824\n",
      "0.0348563157022\n",
      "0.033848952502\n",
      "0.0329167544842\n",
      "0.0320460088551\n",
      "0.0312267541885\n",
      "0.0304515827447\n",
      "0.0297149177641\n",
      "0.029012452811\n",
      "0.0283407960087\n",
      "0.0276972278953\n",
      "0.0270795095712\n",
      "0.0264857597649\n",
      "0.0259143989533\n",
      "0.0253640394658\n",
      "0.0248334463686\n",
      "0.0243215374649\n",
      "0.023827329278\n",
      "0.0233499165624\n",
      "0.022888481617\n",
      "0.0224422551692\n",
      "0.0220105238259\n",
      "0.0215926412493\n",
      "0.0211879685521\n",
      "0.0207959320396\n",
      "0.0204159710556\n",
      "0.020047577098\n",
      "0.0196902602911\n",
      "0.0193435586989\n",
      "0.0190070271492\n",
      "0.0186802484095\n",
      "0.0183628369123\n",
      "0.0180544164032\n",
      "0.0177546348423\n",
      "0.017463138327\n",
      "0.0171796232462\n",
      "0.0169037692249\n",
      "0.0166352912784\n",
      "0.0163739211857\n",
      "0.0161193814129\n",
      "0.0158714298159\n",
      "0.0156298168004\n",
      "0.0153943262994\n",
      "0.0151647310704\n",
      "0.014940819703\n",
      "0.0147224077955\n",
      "0.0145092830062\n",
      "0.0143012814224\n",
      "0.0140982232988\n",
      "0.0138999391347\n",
      "0.0137062733993\n",
      "0.0135170789436\n",
      "0.013332198374\n",
      "0.0131515003741\n",
      "0.0129748471081\n",
      "0.0128021109849\n",
      "0.0126331653446\n",
      "0.0124678984284\n",
      "0.0123061938211\n",
      "0.0121479406953\n",
      "0.0119930393994\n",
      "0.0118413865566\n",
      "0.0116928778589\n",
      "0.0115474341437\n",
      "0.0114049613476\n",
      "0.0112653644755\n",
      "0.0111285746098\n",
      "0.0109944976866\n",
      "0.0108630694449\n",
      "0.0107342116535\n",
      "0.0106078526005\n",
      "0.0104839252308\n",
      "0.0103623596951\n",
      "0.0102430954576\n",
      "0.0101260673255\n",
      "0.0100112184882\n",
      "0.00989849213511\n",
      "0.00978783331811\n",
      "0.00967918429524\n",
      "0.0095724966377\n",
      "0.00946772098541\n",
      "0.00936480239034\n",
      "0.00926370453089\n",
      "0.00916437339038\n",
      "0.00906676892191\n",
      "0.00897085107863\n",
      "0.00887657795101\n",
      "0.00878390017897\n",
      "0.00869279634207\n",
      "0.00860321335495\n",
      "0.00851512420923\n",
      "0.00842848978937\n",
      "0.00834327936172\n",
      "0.00825945287943\n",
      "0.00817699171603\n",
      "0.00809585209936\n",
      "0.00801601167768\n",
      "0.00793743506074\n",
      "0.00786010362208\n",
      "0.00778397778049\n",
      "0.00770903890952\n",
      "0.00763526046649\n",
      "0.00756261218339\n",
      "0.00749107543379\n",
      "0.00742062786594\n",
      "0.00735123455524\n",
      "0.0072828871198\n",
      "0.00721555529162\n",
      "0.00714921811596\n",
      "0.00708386069164\n",
      "0.00701945880428\n",
      "0.00695599522442\n",
      "0.00689344014972\n",
      "0.0068317912519\n",
      "0.0067710224539\n",
      "0.00671111373231\n",
      "0.00665205577388\n",
      "0.00659382296726\n",
      "0.00653640273958\n",
      "0.006479782518\n",
      "0.00642393808812\n",
      "0.00636886293069\n",
      "0.00631454028189\n",
      "0.00626095430925\n",
      "0.00620809011161\n",
      "0.00615593837574\n",
      "0.00610448233783\n",
      "0.00605370802805\n",
      "0.00600360892713\n",
      "0.00595416268334\n",
      "0.00590536464006\n",
      "0.00585720408708\n",
      "0.00580966146663\n",
      "0.00576273351908\n",
      "0.00571640674025\n",
      "0.00567066809162\n",
      "0.00562551151961\n",
      "0.00558092398569\n",
      "0.00553689431399\n",
      "0.00549341412261\n",
      "0.00545047642663\n",
      "0.00540806539357\n",
      "0.00536617962644\n",
      "0.00532480701804\n",
      "0.00528393732384\n",
      "0.00524356262758\n",
      "0.00520367454737\n",
      "0.00516426982358\n",
      "0.0051253340207\n",
      "0.00508685596287\n",
      "0.00504883797839\n",
      "0.00501126749441\n",
      "0.00497413892299\n",
      "0.00493744388223\n",
      "0.00490117259324\n",
      "0.00486532412469\n",
      "0.00482988730073\n",
      "0.00479485746473\n",
      "0.0047602285631\n",
      "0.00472598895431\n",
      "0.00469213817269\n",
      "0.00465866969898\n",
      "0.00462557654828\n",
      "0.00459285452962\n",
      "0.0045604929328\n",
      "0.00452849129215\n",
      "0.00449684355408\n",
      "0.00446554087102\n",
      "0.00443458277732\n",
      "0.00440395763144\n",
      "0.00437366729602\n",
      "0.00434370385483\n",
      "0.00431406125426\n",
      "0.00428473716602\n",
      "0.0042557255365\n",
      "0.00422701891512\n",
      "0.00419862009585\n",
      "0.00417051836848\n",
      "0.00414271140471\n",
      "0.0041151936166\n",
      "0.00408796360716\n",
      "0.00406101765111\n",
      "0.00403434410691\n",
      "0.00400794949383\n",
      "0.00398182030767\n",
      "0.0039559607394\n",
      "0.0039303638041\n",
      "0.00390502577648\n",
      "0.00387993943878\n",
      "0.00385510758497\n",
      "0.00383052742109\n",
      "0.00380618893541\n",
      "0.00378209166229\n",
      "0.00375823164359\n",
      "0.0037346072495\n",
      "0.00371121824719\n",
      "0.00368805485778\n",
      "0.00366511731409\n",
      "0.00364240189083\n",
      "0.00361990695819\n",
      "0.00359762902372\n",
      "0.00357556296512\n",
      "0.00355371041223\n",
      "0.00353206391446\n",
      "0.00351062370464\n",
      "0.00348938652314\n",
      "0.003468349576\n",
      "0.00344751030207\n",
      "0.00342686474323\n",
      "0.00340641476214\n",
      "0.00338615104556\n",
      "0.00336607685313\n",
      "0.00334618869238\n",
      "0.00332648144104\n",
      "0.00330695486628\n",
      "0.0032876082696\n",
      "0.0032684369944\n",
      "0.00324944034219\n",
      "0.00323061319068\n",
      "0.00321195856668\n",
      "0.00319346948527\n",
      "0.00317514664494\n",
      "0.00315698515624\n",
      "0.00313898664899\n",
      "0.0031211480964\n",
      "0.00310346926562\n",
      "0.00308594107628\n",
      "0.00306856865063\n",
      "0.00305134733208\n",
      "0.00303427828476\n",
      "0.00301735498942\n",
      "0.00300058000721\n",
      "0.00298394821584\n",
      "0.00296745891683\n",
      "0.00295111350715\n",
      "0.00293490639888\n",
      "0.00291883712634\n",
      "0.00290290568955\n",
      "0.0028871097602\n",
      "0.00287144491449\n",
      "0.00285591301508\n",
      "0.00284051010385\n",
      "0.00282523524947\n",
      "0.00281008938327\n",
      "0.00279506947845\n",
      "0.00278017180972\n",
      "0.00276539847255\n",
      "0.00275074597448\n",
      "0.00273621594533\n",
      "0.00272180209868\n",
      "0.00270750699565\n",
      "0.00269332667813\n",
      "0.0026792625431\n",
      "0.00266531202942\n",
      "0.00265147536993\n",
      "0.00263774930499\n",
      "0.00262413243763\n",
      "0.00261062593199\n",
      "0.00259722606279\n",
      "0.00258393050171\n",
      "0.0025707418099\n",
      "0.00255765602924\n",
      "0.00254467432387\n",
      "0.00253179389983\n",
      "0.00251901498996\n",
      "0.00250633666292\n",
      "0.00249375635758\n",
      "0.00248127290979\n",
      "0.0024688844569\n",
      "0.00245659495704\n",
      "0.0024443983566\n",
      "0.00243229325861\n",
      "0.00242028478533\n",
      "0.00240836339071\n",
      "0.00239653512836\n",
      "0.00238479743712\n",
      "0.00237314822152\n",
      "0.00236158352345\n",
      "0.00235010916367\n",
      "0.00233872001991\n",
      "0.0023274156265\n",
      "0.00231619738042\n",
      "0.00230505969375\n",
      "0.00229400652461\n",
      "0.002283036476\n",
      "0.00227214442566\n",
      "0.00226133270189\n",
      "0.00225060246885\n",
      "0.00223994813859\n",
      "0.00222937297076\n",
      "0.00221887533553\n",
      "0.00220845243894\n",
      "0.00219810707495\n",
      "0.00218783668242\n",
      "0.00217763916589\n",
      "0.00216751312837\n",
      "0.00215746159665\n",
      "0.00214748084545\n",
      "0.00213757180609\n",
      "0.00212773238309\n",
      "0.00211796443909\n",
      "0.00210826518014\n",
      "0.00209863390774\n",
      "0.00208906992339\n",
      "0.00207957392558\n",
      "0.00207014451735\n",
      "0.00206078030169\n",
      "0.00205148174427\n",
      "0.00204224558547\n",
      "0.00203307555057\n",
      "0.0020239695441\n",
      "0.00201492500491\n",
      "0.00200594146736\n",
      "0.00199702335522\n",
      "0.00198816391639\n",
      "0.00197936571203\n",
      "0.00197062618099\n",
      "0.0019619462546\n",
      "0.00195332639851\n",
      "0.00194476370234\n",
      "0.00193625804968\n",
      "0.00192780932412\n",
      "0.00191941880621\n",
      "0.00191108277068\n",
      "0.00190280389506\n",
      "0.00189458066598\n",
      "0.00188641122077\n",
      "0.00187829579227\n",
      "0.0018702337984\n",
      "0.00186222419143\n",
      "0.00185426941607\n",
      "0.0018463653978\n",
      "0.00183851399925\n",
      "0.00183071312495\n",
      "0.00182296289131\n",
      "0.00181526388042\n",
      "0.00180761399679\n",
      "0.00180001615081\n",
      "0.00179246405605\n",
      "0.00178496108856\n",
      "0.00177750759758\n",
      "0.00177010102198\n",
      "0.00176274287514\n",
      "0.00175543071236\n",
      "0.00174816546496\n",
      "0.00174094678368\n",
      "0.00173377373721\n",
      "0.00172664527781\n",
      "0.00171956187114\n",
      "0.00171252281871\n",
      "0.00170552835334\n",
      "0.00169857777655\n",
      "0.00169167260174\n",
      "0.00168480875436\n",
      "0.00167798739858\n",
      "0.00167120981496\n",
      "0.00166447076481\n",
      "0.00165777583607\n",
      "0.0016511217691\n",
      "0.00164451042656\n",
      "0.0016379377339\n",
      "0.00163140613586\n",
      "0.0016249147011\n",
      "0.00161846191622\n",
      "0.00161204836331\n",
      "0.00160567520652\n",
      "0.00159933976829\n",
      "0.00159304309636\n",
      "0.00158678344451\n",
      "0.00158055964857\n",
      "0.00157437718008\n",
      "0.00156822928693\n",
      "0.00156211981084\n",
      "0.00155604572501\n",
      "0.00155000784434\n",
      "0.00154400616884\n",
      "0.00153804034926\n",
      "0.00153211050201\n",
      "0.00152621499728\n",
      "0.00152035336941\n",
      "0.00151452794671\n",
      "0.00150873558596\n",
      "0.00150297605433\n",
      "0.0014972522622\n",
      "0.00149156025145\n",
      "0.00148590258323\n",
      "0.00148027844261\n",
      "0.0014746846864\n",
      "0.00146912503988\n",
      "0.00146359659266\n",
      "0.00145809946116\n",
      "0.00145263492595\n",
      "0.00144720263779\n",
      "0.00144179956988\n",
      "0.00143642758485\n",
      "0.0014310865663\n",
      "0.00142577744555\n",
      "0.00142049673013\n",
      "0.00141524721403\n",
      "0.00141002575401\n",
      "0.00140483537689\n",
      "0.00139967445284\n",
      "0.00139454053715\n",
      "0.00138943747152\n",
      "0.00138436094858\n",
      "0.00137931306381\n",
      "0.00137429486495\n",
      "0.00136930332519\n",
      "0.00136434030719\n",
      "0.00135940324981\n",
      "0.00135449517984\n",
      "0.00134961435106\n",
      "0.00134475831874\n",
      "0.00133993057534\n",
      "0.00133513018955\n",
      "0.0013303529704\n",
      "0.00132560473867\n",
      "0.0013208828168\n",
      "0.00131618417799\n",
      "0.00131151347887\n",
      "0.00130686594639\n",
      "0.00130224390887\n",
      "0.00129764946178\n",
      "0.00129307748284\n",
      "0.00128853041679\n",
      "0.00128400791436\n",
      "0.00127950916067\n",
      "0.00127503578551\n",
      "0.00127058418002\n",
      "0.00126615876798\n",
      "0.00126175628975\n",
      "0.00125737756025\n",
      "0.00125302013475\n",
      "0.0012486865744\n",
      "0.00124437618069\n",
      "0.00124008837156\n",
      "0.00123582349624\n",
      "0.00123157980852\n",
      "0.00122735998593\n",
      "0.00122316146735\n",
      "0.00121898495127\n",
      "0.00121483101975\n",
      "0.00121069722809\n",
      "0.00120658637024\n",
      "0.0012024968164\n",
      "0.00119842716958\n",
      "0.00119438010734\n",
      "0.00119035248645\n",
      "0.00118634593673\n",
      "0.00118236069102\n",
      "0.00117839535233\n",
      "0.00117445073556\n",
      "0.00117052462883\n",
      "0.00116662157234\n",
      "0.00116273539606\n",
      "0.00115886959247\n",
      "0.00115502497647\n",
      "0.00115119863767\n",
      "0.00114739232231\n",
      "0.00114360428415\n",
      "0.00113983568735\n",
      "0.00113608676475\n",
      "0.00113235355821\n",
      "0.00112864247058\n",
      "0.00112494872883\n",
      "0.00112127442844\n",
      "0.00111761782318\n",
      "0.00111397844739\n",
      "0.00111035781447\n",
      "0.00110675639007\n",
      "0.00110317242797\n",
      "0.0010996038327\n",
      "0.00109605607577\n",
      "0.00109252345283\n",
      "0.00108900922351\n",
      "0.00108551245648\n",
      "0.00108203093987\n",
      "0.00107856828254\n",
      "0.00107512343675\n",
      "0.00107169302646\n",
      "0.00106828077696\n",
      "0.00106488482561\n",
      "0.00106150563806\n",
      "0.00105814216658\n",
      "0.00105479417834\n",
      "0.00105146376882\n",
      "0.00104814849328\n",
      "0.00104485068005\n",
      "0.00104156706948\n",
      "0.00103829975706\n",
      "0.00103504746221\n",
      "0.00103181134909\n",
      "0.00102859095205\n",
      "0.00102538533974\n",
      "0.00102219521068\n",
      "0.00101901998278\n",
      "0.00101585953962\n",
      "0.00101271551102\n",
      "0.00100958487019\n",
      "0.00100646819919\n",
      "0.00100336724427\n",
      "0.00100028188899\n",
      "0.000997208873741\n",
      "0.000994152040221\n",
      "0.000991108478047\n",
      "0.000988080981188\n",
      "0.000985064776614\n",
      "0.000982064870186\n",
      "0.000979076838121\n",
      "0.000976104289293\n",
      "0.000973144138698\n",
      "0.000970198947471\n",
      "0.000967266212683\n",
      "0.000964347971603\n",
      "0.000961443234701\n",
      "0.000958550721407\n",
      "0.000955672061536\n",
      "0.00095280748792\n",
      "0.00094995443942\n",
      "0.000947114895098\n",
      "0.000944289145991\n",
      "0.000941475504078\n",
      "0.000938674900681\n",
      "0.000935886462685\n",
      "0.00093311019009\n",
      "0.000930348236579\n",
      "0.000927597517148\n",
      "0.000924859719817\n",
      "0.00092213274911\n",
      "0.000919419282582\n",
      "0.000916717981454\n",
      "0.000914027914405\n",
      "0.000911350536626\n",
      "0.000908684858587\n",
      "0.000906031869818\n",
      "0.000903390056919\n",
      "0.000900761166122\n",
      "0.000898141937796\n",
      "0.000895535107702\n",
      "0.000892940151971\n",
      "0.000890355731826\n",
      "0.000887782778591\n",
      "0.000885222805664\n",
      "0.000882672611624\n",
      "0.000880133651663\n",
      "0.00087760691531\n",
      "0.000875090248883\n",
      "0.000872583652381\n",
      "0.000870088522788\n",
      "0.000867606780957\n",
      "0.000865132722538\n",
      "0.000862670480274\n",
      "0.000860218890011\n",
      "0.000857777195051\n",
      "0.000855347141623\n",
      "0.00085292692529\n",
      "0.000850517477375\n",
      "0.000848118157592\n",
      "0.000845729664434\n",
      "0.000843349436764\n",
      "0.000840981374495\n",
      "0.00083862314932\n",
      "0.000836273713503\n",
      "0.000833936501294\n",
      "0.00083160714712\n",
      "0.000829290074762\n",
      "0.000826981326099\n",
      "0.00082468270557\n",
      "0.000822392583359\n",
      "0.000820113171358\n",
      "0.000817843771074\n",
      "0.000815582636278\n",
      "0.000813332211692\n",
      "0.000811090343632\n",
      "0.000808858603705\n",
      "0.000806635944173\n",
      "0.00080442201579\n",
      "0.000802218331955\n",
      "0.000800023670308\n",
      "0.00079783675028\n",
      "0.000795660889708\n",
      "0.000793492479715\n",
      "0.000791333324742\n",
      "0.000789183424786\n",
      "0.000787042605225\n",
      "0.000784910866059\n",
      "0.000782786519267\n",
      "0.000780673115514\n",
      "0.000778566754889\n",
      "0.000776468950789\n",
      "0.000774380750954\n",
      "0.000772299594246\n",
      "0.000770228856709\n",
      "0.000768164929468\n",
      "0.000766109849792\n",
      "0.00076406460721\n",
      "0.000762026582379\n",
      "0.00075999571709\n",
      "0.000757974106818\n",
      "0.000755960587412\n",
      "0.00075395568274\n",
      "0.000751958461478\n",
      "0.000749969331082\n",
      "0.000747987360228\n",
      "0.000746014236938\n",
      "0.000744049553759\n",
      "0.000742091506254\n",
      "0.000740141491406\n",
      "0.000738200033084\n",
      "0.000736265676096\n",
      "0.000734340283088\n",
      "0.000732421351131\n",
      "0.000730509927962\n",
      "0.000728606013581\n",
      "0.000726710539311\n",
      "0.000724821584299\n",
      "0.000722940138076\n",
      "0.000721065793186\n",
      "0.000719200354069\n",
      "0.000717340386473\n",
      "0.000715489150025\n",
      "0.000713645189535\n",
      "0.000711807690095\n",
      "0.000709977815859\n",
      "0.000708153878804\n",
      "0.000706339604221\n",
      "0.000704530626535\n",
      "0.000702727935277\n",
      "0.000700934266206\n",
      "0.000699146825355\n",
      "0.000697366311215\n",
      "0.000695591093972\n",
      "0.000693824491464\n",
      "0.000692064408213\n",
      "0.000690310320351\n",
      "0.0006885646726\n",
      "0.000686824787408\n",
      "0.000685091363266\n",
      "0.00068336474942\n",
      "0.00068164448021\n",
      "0.000679930322804\n",
      "0.000678224081639\n",
      "0.000676522729918\n",
      "0.000674829643685\n",
      "0.000673141563311\n",
      "0.000671461224556\n",
      "0.000669785309583\n",
      "0.000668116786983\n",
      "0.000666455656756\n",
      "0.000664799124934\n",
      "0.000663149578031\n",
      "0.000661506666802\n",
      "0.000659869459923\n",
      "0.000658238772303\n",
      "0.000656612915918\n",
      "0.000654994102661\n",
      "0.000653381808661\n",
      "0.00065177551005\n",
      "0.00065017392626\n",
      "0.000648579734843\n",
      "0.00064699043287\n",
      "0.000645407475531\n",
      "0.000643831910565\n",
      "0.000642259430606\n",
      "0.000640694459435\n",
      "0.000639133912046\n",
      "0.000637580757029\n",
      "0.000636032316834\n",
      "0.000634491385426\n",
      "0.000632953597233\n",
      "0.00063142250292\n",
      "0.000629897229373\n",
      "0.000628377369139\n",
      "0.000626863271464\n",
      "0.000625354994554\n",
      "0.000623851374257\n",
      "0.000622352643404\n",
      "0.000620861246716\n",
      "0.000619373633526\n",
      "0.000617893063463\n",
      "0.000616417150013\n",
      "0.000614946126007\n",
      "0.000613479933236\n",
      "0.000612020783592\n",
      "0.000610565999523\n",
      "0.000609115115367\n",
      "0.000607671448961\n",
      "0.000606232904829\n",
      "0.000604798493441\n",
      "0.000603369669989\n",
      "0.000601945328526\n",
      "0.000600526574999\n",
      "0.000599113700446\n",
      "0.000597705191467\n",
      "0.000596302270424\n",
      "0.000594903423917\n",
      "0.000593509466853\n",
      "0.000592120457441\n",
      "0.000590737327002\n",
      "0.000589358212892\n",
      "0.000587984453887\n",
      "0.000586615526117\n",
      "0.000585251487792\n",
      "0.000583892629948\n",
      "0.000582536973525\n",
      "0.000581187952776\n",
      "0.000579843239393\n",
      "0.000578502484132\n",
      "0.000577167025767\n",
      "0.000575835234486\n",
      "0.000574508623686\n",
      "0.000573187833652\n",
      "0.000571871059947\n",
      "0.000570558418985\n",
      "0.000569250143599\n",
      "0.000567946350202\n",
      "0.000566647562664\n",
      "0.000565352966078\n",
      "0.000564063084312\n",
      "0.000562778091989\n",
      "0.000561497989111\n",
      "0.000560220971238\n",
      "0.000558948901016\n",
      "0.000557680614293\n",
      "0.000556417799089\n",
      "0.000555158476345\n",
      "0.000553903984837\n",
      "0.000552653509658\n",
      "0.000551407807507\n",
      "0.000550165888853\n",
      "0.000548927753698\n",
      "0.00054769491544\n",
      "0.000546465162188\n",
      "0.000545239832718\n",
      "0.000544020091183\n",
      "0.000542801863048\n",
      "0.000541590387002\n",
      "0.000540381879546\n",
      "0.000539176922757\n",
      "0.000537976855412\n",
      "0.000536780513357\n",
      "0.000535588769708\n",
      "0.000534400285687\n",
      "0.000533215410542\n",
      "0.000532034842763\n",
      "0.000530859339051\n",
      "0.000529687211383\n",
      "0.000528517819475\n",
      "0.000527353608049\n",
      "0.000526192889083\n",
      "0.000525036768522\n",
      "0.000523883209098\n",
      "0.000522735179402\n",
      "0.000521588488482\n",
      "0.000520448025782\n",
      "0.000519310124218\n",
      "0.000518176355399\n",
      "0.00051704631187\n",
      "0.000515919411555\n",
      "0.00051479623653\n",
      "0.000513677252457\n",
      "0.000512563099619\n",
      "0.000511450343765\n",
      "0.000510342069902\n",
      "0.000509238161612\n",
      "0.000508137396537\n",
      "0.000507040822413\n",
      "0.000505945761688\n",
      "0.000504856696352\n",
      "0.000503769551869\n",
      "0.000502686889376\n",
      "0.000501607777551\n",
      "0.000500532158185\n",
      "0.000499459856655\n",
      "0.000498391222209\n",
      "0.000497326196637\n",
      "0.000496264197864\n",
      "0.000495205633342\n",
      "0.00049415032845\n",
      "0.000493098748848\n",
      "0.000492050254252\n",
      "0.000491005310323\n",
      "0.000489963567816\n",
      "0.000488925201353\n",
      "0.000487890589284\n",
      "0.000486859033117\n",
      "0.00048583035823\n",
      "0.000484805583255\n",
      "0.000483783747768\n",
      "0.000482765753986\n",
      "0.000481750728795\n",
      "0.000480738643091\n",
      "0.000479729758808\n",
      "0.000478724454297\n",
      "0.00047772275866\n",
      "0.00047672225628\n",
      "0.000475727400044\n",
      "0.000474733620649\n",
      "0.00047374429414\n",
      "0.000472758256365\n",
      "0.000471774343168\n",
      "0.000470794620924\n",
      "0.000469817168778\n",
      "0.00046884312178\n",
      "0.0004678714904\n",
      "0.000466902914923\n",
      "0.000465938443085\n",
      "0.000464976968942\n",
      "0.000464017357444\n",
      "0.000463061121991\n",
      "0.000462108902866\n",
      "0.000461157935206\n",
      "0.000460210896563\n",
      "0.000459267175756\n",
      "0.000458325084765\n",
      "0.000457387883216\n",
      "0.000456451583887\n",
      "0.000455519388197\n",
      "0.000454589753645\n",
      "0.000453662651125\n",
      "0.000452738488093\n",
      "0.000451817380963\n",
      "0.000450899882708\n",
      "0.000449984392617\n",
      "0.000449071871117\n",
      "0.000448162318207\n",
      "0.000447254744358\n",
      "0.00044635112863\n",
      "0.000445448968094\n",
      "0.000444550678367\n",
      "0.000443654309493\n",
      "0.000442761258455\n",
      "0.000441871583462\n",
      "0.000440983276349\n",
      "0.000440098519903\n",
      "0.000439215014922\n",
      "0.000438336195657\n",
      "0.00043745856965\n",
      "0.000436584290583\n",
      "0.000435712281615\n",
      "0.000434843706898\n",
      "0.000433977576904\n",
      "0.000433113396866\n",
      "0.000432251777966\n",
      "0.000431393418694\n",
      "0.000430537300417\n",
      "0.000429683947004\n",
      "0.000428832281614\n",
      "0.000427983963164\n",
      "0.000427138264058\n",
      "0.000426295679063\n",
      "0.000425455073128\n",
      "0.000424616038799\n",
      "0.000423780787969\n",
      "0.000422947254265\n",
      "0.000422116572736\n",
      "0.000421287346398\n",
      "0.000420461903559\n",
      "0.000419638032326\n",
      "0.000418817420723\n",
      "0.00041799939936\n",
      "0.000417182862293\n",
      "0.000416368566221\n",
      "0.000415557587985\n",
      "0.000414749025367\n",
      "0.000413942121668\n",
      "0.000413137953728\n",
      "0.000412336230511\n",
      "0.000411536631873\n",
      "0.000410739070503\n",
      "0.000409944332205\n",
      "0.000409151776694\n",
      "0.0004083623935\n",
      "0.000407573883422\n",
      "0.000406788283726\n",
      "0.000406004983233\n",
      "0.000405224098358\n",
      "0.000404445687309\n",
      "0.000403669168008\n",
      "0.000402894685976\n",
      "0.000402123259846\n",
      "0.0004013532307\n",
      "0.000400585675379\n",
      "0.000399820622988\n",
      "0.000399058015319\n",
      "0.000398297357606\n",
      "0.000397538067773\n",
      "0.000396782183088\n",
      "0.000396027753595\n",
      "0.000395275448682\n",
      "0.000394524860894\n",
      "0.000393777736463\n",
      "0.000393031776184\n",
      "0.000392288900912\n",
      "0.000391547306208\n",
      "0.000390807952499\n",
      "0.000390070432331\n",
      "0.000389335938962\n",
      "0.000388602726161\n",
      "0.000387871870771\n",
      "0.000387143460102\n",
      "0.000386416330002\n",
      "0.000385691848351\n",
      "0.000384969025617\n",
      "0.000384248152841\n",
      "0.000383530044928\n",
      "0.000382812664611\n",
      "0.000382099184208\n",
      "0.000381386344088\n",
      "0.000380676239729\n",
      "0.000379966804758\n",
      "0.000379261298804\n",
      "0.000378556578653\n",
      "0.000377854477847\n",
      "0.000377154123271\n",
      "0.000376455078367\n",
      "0.00037575836177\n",
      "0.000375064118998\n",
      "0.000374371535145\n",
      "0.000373680493794\n",
      "0.000372992362827\n",
      "0.000372305017663\n",
      "0.000371619564248\n",
      "0.000370936468244\n",
      "0.000370255467715\n",
      "0.000369576766388\n",
      "0.000368899054592\n",
      "0.000368223671103\n",
      "0.000367549277144\n",
      "0.000366878230125\n",
      "0.000366208056221\n",
      "0.000365539628547\n",
      "0.000364874227671\n",
      "0.000364208826795\n",
      "0.000363546831068\n",
      "0.000362886639778\n",
      "0.000362227263395\n",
      "0.000361570011592\n",
      "0.000360915291822\n",
      "0.000360261445167\n",
      "0.000359609402949\n",
      "0.000358959543519\n",
      "0.000358311343007\n",
      "0.000357664772309\n",
      "0.00035701986053\n",
      "0.000356377742719\n",
      "0.000355736643542\n",
      "0.000355097465217\n",
      "0.000354459421942\n",
      "0.000353823998012\n",
      "0.000353189127054\n",
      "0.000352556555299\n",
      "0.00035192607902\n",
      "0.000351296679582\n",
      "0.000350669579348\n",
      "0.000350044108927\n",
      "0.000349420151906\n",
      "0.000348797504557\n",
      "0.00034817692358\n",
      "0.00034755829256\n",
      "0.000346941058524\n",
      "0.000346325308783\n",
      "0.000345711450791\n",
      "0.000345098640537\n",
      "0.000344488071278\n",
      "0.000343878549756\n",
      "0.000343271851307\n",
      "0.000342666578945\n",
      "0.000342061190167\n",
      "0.000341458944604\n",
      "0.000340858212439\n"
     ]
    }
   ],
   "source": [
    "new_t = np.random.normal(size=theta.shape).astype(np.float32)\n",
    "fitted_t_gpu = fit_gpu(X.values, y.values, new_t, queue, cntx)"
   ]
  },
  {
   "cell_type": "code",
   "execution_count": 146,
   "metadata": {
    "collapsed": false
   },
   "outputs": [
    {
     "data": {
      "text/plain": [
       "array([-0.14194939,  1.35674989], dtype=float32)"
      ]
     },
     "execution_count": 146,
     "metadata": {},
     "output_type": "execute_result"
    }
   ],
   "source": [
    "fitted_t_gpu"
   ]
  },
  {
   "cell_type": "code",
   "execution_count": 147,
   "metadata": {
    "collapsed": false
   },
   "outputs": [],
   "source": [
    "fitted_theta = fit_params(X.values, y.values, new_t)"
   ]
  },
  {
   "cell_type": "code",
   "execution_count": 148,
   "metadata": {
    "collapsed": false
   },
   "outputs": [
    {
     "data": {
      "text/plain": [
       "array([-0.14194934,  1.35674932])"
      ]
     },
     "execution_count": 148,
     "metadata": {},
     "output_type": "execute_result"
    }
   ],
   "source": [
    "fitted_theta"
   ]
  },
  {
   "cell_type": "code",
   "execution_count": 149,
   "metadata": {
    "collapsed": false
   },
   "outputs": [
    {
     "data": {
      "text/plain": [
       "array([ -4.57286920e-08,   5.71909325e-07])"
      ]
     },
     "execution_count": 149,
     "metadata": {},
     "output_type": "execute_result"
    }
   ],
   "source": [
    "fitted_t_gpu - fitted_theta"
   ]
  },
  {
   "cell_type": "code",
   "execution_count": null,
   "metadata": {
    "collapsed": true
   },
   "outputs": [],
   "source": []
  }
 ],
 "metadata": {
  "kernelspec": {
   "display_name": "Python [conda env:ENVPy3]",
   "language": "python",
   "name": "conda-env-ENVPy3-py"
  },
  "language_info": {
   "codemirror_mode": {
    "name": "ipython",
    "version": 3
   },
   "file_extension": ".py",
   "mimetype": "text/x-python",
   "name": "python",
   "nbconvert_exporter": "python",
   "pygments_lexer": "ipython3",
   "version": "3.5.2"
  }
 },
 "nbformat": 4,
 "nbformat_minor": 2
}
