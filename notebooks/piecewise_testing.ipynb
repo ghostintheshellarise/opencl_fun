{
 "cells": [
  {
   "cell_type": "code",
   "execution_count": 1,
   "metadata": {
    "collapsed": true
   },
   "outputs": [],
   "source": [
    "import os\n",
    "import pyopencl as pcl\n",
    "import numpy as np\n",
    "import scipy.stats as ss\n",
    "import pandas as pd\n",
    "import math\n",
    "import matplotlib.pyplot as plt"
   ]
  },
  {
   "cell_type": "code",
   "execution_count": 2,
   "metadata": {
    "collapsed": false
   },
   "outputs": [
    {
     "data": {
      "text/plain": [
       "True"
      ]
     },
     "execution_count": 2,
     "metadata": {},
     "output_type": "execute_result"
    }
   ],
   "source": [
    "clfile = os.path.join('..','src','glm_gpu','cl','logistic.cl')\n",
    "os.path.isfile(clfile)"
   ]
  },
  {
   "cell_type": "code",
   "execution_count": 494,
   "metadata": {
    "collapsed": false
   },
   "outputs": [],
   "source": [
    "os.environ['PYOPENCL_COMPILER_OUTPUT'] = '1'\n",
    "device = pcl.get_platforms()[0].get_devices()[2]\n",
    "cntx = pcl.Context([device])\n",
    "queue = pcl.CommandQueue(cntx)\n",
    "\n",
    "with open(clfile, 'r') as f:\n",
    "    programs = pcl.Program(cntx, f.read()).build()"
   ]
  },
  {
   "cell_type": "code",
   "execution_count": 495,
   "metadata": {
    "collapsed": false
   },
   "outputs": [
    {
     "data": {
      "text/plain": [
       "'AMD Radeon R9 M370X Compute Engine'"
      ]
     },
     "execution_count": 495,
     "metadata": {},
     "output_type": "execute_result"
    }
   ],
   "source": [
    "device.name"
   ]
  },
  {
   "cell_type": "code",
   "execution_count": 496,
   "metadata": {
    "collapsed": false
   },
   "outputs": [],
   "source": [
    "theta = np.array([0.5, 0.5], dtype=np.float32)"
   ]
  },
  {
   "cell_type": "code",
   "execution_count": 497,
   "metadata": {
    "collapsed": false
   },
   "outputs": [
    {
     "data": {
      "text/plain": [
       "dtype('float32')"
      ]
     },
     "execution_count": 497,
     "metadata": {},
     "output_type": "execute_result"
    }
   ],
   "source": [
    "theta.dtype"
   ]
  },
  {
   "cell_type": "code",
   "execution_count": 498,
   "metadata": {
    "collapsed": false
   },
   "outputs": [],
   "source": [
    "x0_1 = ss.norm(loc=10.0, scale=2.0)\n",
    "x0_0 = ss.norm(loc=7.0, scale=2.0)\n",
    "x1_1 = ss.norm(loc=5.0, scale=3.0)\n",
    "x1_0 = ss.norm(loc=-5.0, scale=3.0)"
   ]
  },
  {
   "cell_type": "code",
   "execution_count": 499,
   "metadata": {
    "collapsed": false
   },
   "outputs": [],
   "source": [
    "nsamps=1\n",
    "\n",
    "X_1 = pd.DataFrame(index=range(nsamps), \n",
    "                   columns=['x0','x1', 'y'])\n",
    "X_0 = pd.DataFrame(index=range(nsamps), \n",
    "                   columns=['x0','x1', 'y'])\n",
    "\n",
    "X_1.loc[:, 'x0'] = x0_1.rvs(size=(nsamps,)).astype(np.float32)\n",
    "X_1.loc[:, 'x1'] = x1_1.rvs(size=(nsamps,)).astype(np.float32)\n",
    "X_1.loc[:, 'y'] = np.ones(shape=(nsamps,)).astype(np.float32)\n",
    "\n",
    "X_0.loc[:, 'x0'] = x0_0.rvs(size=(nsamps,)).astype(np.float32)\n",
    "X_0.loc[:, 'x1'] = x1_0.rvs(size=(nsamps,)).astype(np.float32)\n",
    "X_0.loc[:, 'y'] = np.zeros(shape=(nsamps,)).astype(np.float32)\n"
   ]
  },
  {
   "cell_type": "code",
   "execution_count": 500,
   "metadata": {
    "collapsed": false
   },
   "outputs": [],
   "source": [
    "X_all = pd.concat((X_1, X_0), ignore_index=True)"
   ]
  },
  {
   "cell_type": "code",
   "execution_count": 501,
   "metadata": {
    "collapsed": false
   },
   "outputs": [],
   "source": [
    "X_all = X_all.reindex(np.random.permutation(X_all.index))"
   ]
  },
  {
   "cell_type": "code",
   "execution_count": 502,
   "metadata": {
    "collapsed": true
   },
   "outputs": [],
   "source": [
    "X = X_all.loc[:, ['x0', 'x1']]\n",
    "y = X_all.loc[:,'y']"
   ]
  },
  {
   "cell_type": "code",
   "execution_count": 503,
   "metadata": {
    "collapsed": false
   },
   "outputs": [
    {
     "data": {
      "text/plain": [
       "array([[  8.12192249,  -7.17198944],\n",
       "       [ 12.19423199,   9.9346981 ]], dtype=float32)"
      ]
     },
     "execution_count": 503,
     "metadata": {},
     "output_type": "execute_result"
    }
   ],
   "source": [
    "X.values"
   ]
  },
  {
   "cell_type": "code",
   "execution_count": 504,
   "metadata": {
    "collapsed": true
   },
   "outputs": [],
   "source": [
    "cost_arr = np.zeros(shape=(X.shape[0],)).astype(np.float32)\n",
    "temp_avg = np.zeros(shape=(4,)).astype(np.float32)"
   ]
  },
  {
   "cell_type": "code",
   "execution_count": 505,
   "metadata": {
    "collapsed": false
   },
   "outputs": [],
   "source": [
    "# compute cost\n",
    "X_buf = pcl.Buffer(cntx, pcl.mem_flags.READ_ONLY | pcl.mem_flags.COPY_HOST_PTR, hostbuf=X.values)\n",
    "y_buf = pcl.Buffer(cntx, pcl.mem_flags.READ_ONLY | pcl.mem_flags.COPY_HOST_PTR, hostbuf=y.values)\n",
    "\n",
    "theta_buf = pcl.Buffer(cntx, pcl.mem_flags.READ_ONLY | pcl.mem_flags.COPY_HOST_PTR, hostbuf=theta)\n",
    "\n",
    "cost_buf = pcl.Buffer(cntx, pcl.mem_flags.READ_WRITE | pcl.mem_flags.COPY_HOST_PTR, hostbuf=cost_arr)\n",
    "temp_buf = pcl.Buffer(cntx, pcl.mem_flags.WRITE_ONLY, size=temp_avg.nbytes)\n",
    "scratch_buf = pcl.LocalMemory(np.float32().nbytes * 256)\n",
    "\n",
    "nrows = np.int32(X.shape[0])\n",
    "ncols = np.int32(X.shape[1])\n",
    "\n",
    "out = np.zeros(shape=(X.shape[0],), dtype=np.float32)\n",
    "out_buf = pcl.Buffer(cntx, pcl.mem_flags.WRITE_ONLY, size=out.nbytes)"
   ]
  },
  {
   "cell_type": "code",
   "execution_count": null,
   "metadata": {
    "collapsed": true
   },
   "outputs": [],
   "source": []
  },
  {
   "cell_type": "code",
   "execution_count": 506,
   "metadata": {
    "collapsed": false
   },
   "outputs": [],
   "source": [
    "sig_event = programs.sig(queue,\n",
    "                         X.shape,\n",
    "                         None,\n",
    "                         X_buf,\n",
    "                         theta_buf,\n",
    "                         out_buf,\n",
    "                         nrows,\n",
    "                         ncols)\n",
    "\n",
    "# cost_event = programs.logistic_cost_ols(queue,\n",
    "#                                         X.shape,\n",
    "#                                         None,\n",
    "#                                         X_buf,\n",
    "#                                         theta_buf,\n",
    "#                                         y_buf,\n",
    "#                                         cost_buf,\n",
    "#                                         nrows,\n",
    "#                                         ncols)\n",
    "\n",
    "# reduction_event = programs.matrix_row_mean(queue,\n",
    "#                                            (1024,),\n",
    "#                                            (256,),\n",
    "#                                            cost_buf,\n",
    "#                                            temp_buf,\n",
    "#                                            scratch_buf,\n",
    "#                                            nrows,\n",
    "#                                            np.int32(1))"
   ]
  },
  {
   "cell_type": "code",
   "execution_count": 507,
   "metadata": {
    "collapsed": false
   },
   "outputs": [
    {
     "data": {
      "text/plain": [
       "(2, 2, (2,))"
      ]
     },
     "execution_count": 507,
     "metadata": {},
     "output_type": "execute_result"
    }
   ],
   "source": [
    "nrows, ncols, theta.shape"
   ]
  },
  {
   "cell_type": "code",
   "execution_count": 508,
   "metadata": {
    "collapsed": true
   },
   "outputs": [],
   "source": [
    "\n",
    "\n",
    "\n",
    "sig_event.wait()\n",
    "pcl.enqueue_copy(queue, out, out_buf).wait()\n",
    "\n",
    "# cost_event.wait()\n",
    "# pcl.enqueue_copy(queue, cost_arr, cost_buf).wait()\n",
    "\n",
    "# reduction_event.wait()\n",
    "# pcl.enqueue_copy(queue, temp_avg, temp_buf).wait()\n"
   ]
  },
  {
   "cell_type": "code",
   "execution_count": 509,
   "metadata": {
    "collapsed": false
   },
   "outputs": [],
   "source": [
    "def sig(X, theta):\n",
    "    lin = X.dot(theta)\n",
    "    sig = 1.0 / (1.0 + np.exp(-lin))\n",
    "    return sig\n",
    " \n",
    "    \n",
    "def cost(est, actual):\n",
    "    cost = ((est - actual)**2.0)\n",
    "    cost /= 2.0\n",
    "    cost = cost.sum()\n",
    "    return cost"
   ]
  },
  {
   "cell_type": "code",
   "execution_count": 510,
   "metadata": {
    "collapsed": false
   },
   "outputs": [],
   "source": [
    "my_out = sig(X.values, theta)"
   ]
  },
  {
   "cell_type": "code",
   "execution_count": 511,
   "metadata": {
    "collapsed": false
   },
   "outputs": [
    {
     "data": {
      "text/plain": [
       "((2,), (2,))"
      ]
     },
     "execution_count": 511,
     "metadata": {},
     "output_type": "execute_result"
    }
   ],
   "source": [
    "my_out.shape, out.shape"
   ]
  },
  {
   "cell_type": "code",
   "execution_count": 512,
   "metadata": {
    "collapsed": false
   },
   "outputs": [
    {
     "data": {
      "image/png": "[encoded data removed]",
      "text/plain": [
       "<matplotlib.figure.Figure at 0x112e8b668>"
      ]
     },
     "metadata": {},
     "output_type": "display_data"
    }
   ],
   "source": [
    "x = list(range(len(my_out)))\n",
    "plt.scatter(x, my_out)\n",
    "plt.scatter(x, out, color='r')\n",
    "plt.show()\n"
   ]
  },
  {
   "cell_type": "code",
   "execution_count": 513,
   "metadata": {
    "collapsed": false
   },
   "outputs": [
    {
     "data": {
      "text/plain": [
       "array([  0.47496653,  11.06446457], dtype=float32)"
      ]
     },
     "execution_count": 513,
     "metadata": {},
     "output_type": "execute_result"
    }
   ],
   "source": [
    "X.values.dot(theta)"
   ]
  },
  {
   "cell_type": "code",
   "execution_count": null,
   "metadata": {
    "collapsed": false
   },
   "outputs": [],
   "source": []
  },
  {
   "cell_type": "code",
   "execution_count": 514,
   "metadata": {
    "collapsed": false
   },
   "outputs": [
    {
     "data": {
      "text/plain": [
       "array([ True,  True], dtype=bool)"
      ]
     },
     "execution_count": 514,
     "metadata": {},
     "output_type": "execute_result"
    }
   ],
   "source": [
    "out == my_out"
   ]
  },
  {
   "cell_type": "code",
   "execution_count": 515,
   "metadata": {
    "collapsed": false
   },
   "outputs": [
    {
     "data": {
      "text/plain": [
       "array([[  8.12192249,  -7.17198944],\n",
       "       [ 12.19423199,   9.9346981 ]], dtype=float32)"
      ]
     },
     "execution_count": 515,
     "metadata": {},
     "output_type": "execute_result"
    }
   ],
   "source": [
    "X.values"
   ]
  },
  {
   "cell_type": "code",
   "execution_count": 516,
   "metadata": {
    "collapsed": false
   },
   "outputs": [
    {
     "data": {
      "text/plain": [
       "array([  0.94993305,  22.12892914], dtype=float32)"
      ]
     },
     "execution_count": 516,
     "metadata": {},
     "output_type": "execute_result"
    }
   ],
   "source": [
    "X.values.sum(axis=1)"
   ]
  },
  {
   "cell_type": "code",
   "execution_count": 469,
   "metadata": {
    "collapsed": false
   },
   "outputs": [
    {
     "data": {
      "text/plain": [
       "array([  4.63284636,  15.84094238], dtype=float32)"
      ]
     },
     "execution_count": 469,
     "metadata": {},
     "output_type": "execute_result"
    }
   ],
   "source": [
    "out"
   ]
  },
  {
   "cell_type": "code",
   "execution_count": 418,
   "metadata": {
    "collapsed": false
   },
   "outputs": [
    {
     "data": {
      "text/plain": [
       "array([ 0.99967003,  0.14995772], dtype=float32)"
      ]
     },
     "execution_count": 418,
     "metadata": {},
     "output_type": "execute_result"
    }
   ],
   "source": [
    "my_out"
   ]
  },
  {
   "cell_type": "code",
   "execution_count": 419,
   "metadata": {
    "collapsed": true
   },
   "outputs": [],
   "source": [
    "out -= 1.0"
   ]
  },
  {
   "cell_type": "code",
   "execution_count": 213,
   "metadata": {
    "collapsed": false
   },
   "outputs": [
    {
     "data": {
      "text/plain": [
       "array([ True,  True,  True,  True], dtype=bool)"
      ]
     },
     "execution_count": 213,
     "metadata": {},
     "output_type": "execute_result"
    }
   ],
   "source": [
    "np.e == out"
   ]
  },
  {
   "cell_type": "code",
   "execution_count": null,
   "metadata": {
    "collapsed": true
   },
   "outputs": [],
   "source": []
  }
 ],
 "metadata": {
  "kernelspec": {
   "display_name": "Python [conda env:ENVPy3]",
   "language": "python",
   "name": "conda-env-ENVPy3-py"
  },
  "language_info": {
   "codemirror_mode": {
    "name": "ipython",
    "version": 3
   },
   "file_extension": ".py",
   "mimetype": "text/x-python",
   "name": "python",
   "nbconvert_exporter": "python",
   "pygments_lexer": "ipython3",
   "version": "3.5.2"
  }
 },
 "nbformat": 4,
 "nbformat_minor": 2
}
