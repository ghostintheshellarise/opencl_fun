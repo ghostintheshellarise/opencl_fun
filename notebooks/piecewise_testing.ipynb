{
 "cells": [
  {
   "cell_type": "code",
   "execution_count": 1,
   "metadata": {
    "collapsed": true
   },
   "outputs": [],
   "source": [
    "import os\n",
    "import pyopencl as pcl\n",
    "import numpy as np\n",
    "import scipy.stats as ss\n",
    "import pandas as pd\n",
    "import math\n",
    "from sklearn.model_selection import train_test_split\n",
    "import matplotlib.pyplot as plt"
   ]
  },
  {
   "cell_type": "code",
   "execution_count": null,
   "metadata": {
    "collapsed": false
   },
   "outputs": [],
   "source": [
    "clfile = os.path.join('..','src','glm_gpu','cl','logistic.cl')\n",
    "os.path.isfile(clfile)"
   ]
  },
  {
   "cell_type": "code",
   "execution_count": null,
   "metadata": {
    "collapsed": false
   },
   "outputs": [],
   "source": [
    "os.environ['PYOPENCL_COMPILER_OUTPUT'] = '1'\n",
    "device = pcl.get_platforms()[0].get_devices()[2]\n",
    "cntx = pcl.Context([device])\n",
    "queue = pcl.CommandQueue(cntx)\n",
    "\n",
    "with open(clfile, 'r') as f:\n",
    "    programs = pcl.Program(cntx, f.read()).build()"
   ]
  },
  {
   "cell_type": "code",
   "execution_count": null,
   "metadata": {
    "collapsed": false
   },
   "outputs": [],
   "source": [
    "device.name"
   ]
  },
  {
   "cell_type": "code",
   "execution_count": null,
   "metadata": {
    "collapsed": false
   },
   "outputs": [],
   "source": [
    "theta = np.array([0.5, 0.5], dtype=np.float32)"
   ]
  },
  {
   "cell_type": "code",
   "execution_count": null,
   "metadata": {
    "collapsed": false
   },
   "outputs": [],
   "source": [
    "theta.dtype"
   ]
  },
  {
   "cell_type": "code",
   "execution_count": 2,
   "metadata": {
    "collapsed": false
   },
   "outputs": [],
   "source": [
    "x0_1 = ss.norm(loc=10.0, scale=2.0)\n",
    "x0_0 = ss.norm(loc=7.0, scale=2.0)\n",
    "x1_1 = ss.norm(loc=5.0, scale=3.0)\n",
    "x1_0 = ss.norm(loc=-5.0, scale=3.0)\n",
    "\n",
    "nsamps=1024\n",
    "\n",
    "X_1 = pd.DataFrame(index=range(nsamps), \n",
    "                   columns=['x0','x1', 'y'])\n",
    "X_0 = pd.DataFrame(index=range(nsamps), \n",
    "                   columns=['x0','x1', 'y'])\n",
    "\n",
    "X_1.loc[:, 'x0'] = x0_1.rvs(size=(nsamps,)).astype(np.float32)\n",
    "X_1.loc[:, 'x1'] = x1_1.rvs(size=(nsamps,)).astype(np.float32)\n",
    "X_1.loc[:, 'y'] = np.ones(shape=(nsamps,)).astype(np.float32)\n",
    "\n",
    "X_0.loc[:, 'x0'] = x0_0.rvs(size=(nsamps,)).astype(np.float32)\n",
    "X_0.loc[:, 'x1'] = x1_0.rvs(size=(nsamps,)).astype(np.float32)\n",
    "X_0.loc[:, 'y'] = np.zeros(shape=(nsamps,)).astype(np.float32)\n",
    "\n",
    "\n",
    "X_all = pd.concat((X_1, X_0), ignore_index=True)\n",
    "\n",
    "X_all = X_all.reindex(np.random.permutation(X_all.index))\n",
    "\n",
    "X = X_all.loc[:, ['x0', 'x1']]\n",
    "y = X_all.loc[:,'y']"
   ]
  },
  {
   "cell_type": "code",
   "execution_count": null,
   "metadata": {
    "collapsed": false
   },
   "outputs": [],
   "source": [
    "X.values"
   ]
  },
  {
   "cell_type": "code",
   "execution_count": null,
   "metadata": {
    "collapsed": true
   },
   "outputs": [],
   "source": [
    "cost_arr = np.zeros(shape=(X.shape[0],)).astype(np.float32)\n",
    "temp_avg = np.zeros(shape=(4,)).astype(np.float32)"
   ]
  },
  {
   "cell_type": "code",
   "execution_count": null,
   "metadata": {
    "collapsed": false
   },
   "outputs": [],
   "source": [
    "# compute cost\n",
    "X_buf = pcl.Buffer(cntx, pcl.mem_flags.READ_ONLY | pcl.mem_flags.COPY_HOST_PTR, hostbuf=X.values)\n",
    "y_buf = pcl.Buffer(cntx, pcl.mem_flags.READ_ONLY | pcl.mem_flags.COPY_HOST_PTR, hostbuf=y.values)\n",
    "theta_buf = pcl.Buffer(cntx, pcl.mem_flags.READ_ONLY | pcl.mem_flags.COPY_HOST_PTR, hostbuf=theta)\n",
    "cost_buf = pcl.Buffer(cntx, pcl.mem_flags.READ_WRITE | pcl.mem_flags.COPY_HOST_PTR, hostbuf=cost_arr)\n",
    "temp_buf = pcl.Buffer(cntx, pcl.mem_flags.WRITE_ONLY, size=temp_avg.nbytes)\n",
    "scratch_buf = pcl.LocalMemory(np.float32().nbytes * 256)\n",
    "\n",
    "nrows = np.int32(X.shape[0])\n",
    "ncols = np.int32(X.shape[1])\n",
    "\n",
    "out = np.zeros(shape=(X.shape[0],), dtype=np.float32)\n",
    "out_buf = pcl.Buffer(cntx, pcl.mem_flags.WRITE_ONLY, size=out.nbytes)"
   ]
  },
  {
   "cell_type": "code",
   "execution_count": null,
   "metadata": {
    "collapsed": true
   },
   "outputs": [],
   "source": []
  },
  {
   "cell_type": "code",
   "execution_count": null,
   "metadata": {
    "collapsed": false
   },
   "outputs": [],
   "source": [
    "sig_event = programs.sig(queue,\n",
    "                         X.shape,\n",
    "                         None,\n",
    "                         X_buf,\n",
    "                         theta_buf,\n",
    "                         out_buf,\n",
    "                         nrows,\n",
    "                         ncols)\n",
    "\n",
    "cost_event = programs.logistic_cost_ols(queue,\n",
    "                                        X.shape,\n",
    "                                        None,\n",
    "                                        X_buf,\n",
    "                                        theta_buf,\n",
    "                                        y_buf,\n",
    "                                        cost_buf,\n",
    "                                        nrows,\n",
    "                                        ncols)\n",
    "\n",
    "# reduction_event = programs.matrix_row_mean(queue,\n",
    "#                                            (1024,),\n",
    "#                                            (256,),\n",
    "#                                            cost_buf,\n",
    "#                                            temp_buf,\n",
    "#                                            scratch_buf,\n",
    "#                                            nrows,\n",
    "#                                            np.int32(1))"
   ]
  },
  {
   "cell_type": "code",
   "execution_count": null,
   "metadata": {
    "collapsed": false
   },
   "outputs": [],
   "source": [
    "nrows, ncols, theta.shape"
   ]
  },
  {
   "cell_type": "code",
   "execution_count": null,
   "metadata": {
    "collapsed": true
   },
   "outputs": [],
   "source": [
    "\n",
    "\n",
    "\n",
    "sig_event.wait()\n",
    "pcl.enqueue_copy(queue, out, out_buf).wait()\n",
    "\n",
    "cost_event.wait()\n",
    "pcl.enqueue_copy(queue, cost_arr, cost_buf).wait()\n",
    "\n",
    "# reduction_event.wait()\n",
    "# pcl.enqueue_copy(queue, temp_avg, temp_buf).wait()\n"
   ]
  },
  {
   "cell_type": "code",
   "execution_count": 50,
   "metadata": {
    "collapsed": false
   },
   "outputs": [],
   "source": [
    "def sig(X, theta):\n",
    "    lin = X.dot(theta)\n",
    "    sig = 1.0 / (1.0 + np.exp(-lin))\n",
    "    return sig\n",
    " \n",
    "    \n",
    "def lr_cost(X, theta, y):\n",
    "    est = sig(X, theta)\n",
    "    log_est = np.log(est)\n",
    "    cost = y*log_est + (1-y) * (1-log_est)\n",
    "    cost *= -1\n",
    "    return cost\n",
    "\n",
    "def cost_ss(est, actual):\n",
    "    cost = ((est - actual)**2.0)\n",
    "    cost /= 2.0\n",
    "    return cost"
   ]
  },
  {
   "cell_type": "code",
   "execution_count": null,
   "metadata": {
    "collapsed": false
   },
   "outputs": [],
   "source": [
    "my_out = sig(X.values, theta)\n",
    "my_cost = cost(my_out, y)"
   ]
  },
  {
   "cell_type": "code",
   "execution_count": null,
   "metadata": {
    "collapsed": false
   },
   "outputs": [],
   "source": [
    "my_out.shape, out.shape"
   ]
  },
  {
   "cell_type": "code",
   "execution_count": null,
   "metadata": {
    "collapsed": false
   },
   "outputs": [],
   "source": [
    "x = list(range(len(my_out)))\n",
    "plt.scatter(x, my_out)\n",
    "plt.scatter(x, out, color='r')\n",
    "plt.show()\n"
   ]
  },
  {
   "cell_type": "code",
   "execution_count": null,
   "metadata": {
    "collapsed": false
   },
   "outputs": [],
   "source": [
    "x = list(range(len(my_cost)))\n",
    "plt.scatter(x, my_cost)\n",
    "plt.scatter(x, cost_arr)\n",
    "plt.show()"
   ]
  },
  {
   "cell_type": "code",
   "execution_count": null,
   "metadata": {
    "collapsed": false
   },
   "outputs": [],
   "source": [
    "my_cost == cost_arr"
   ]
  },
  {
   "cell_type": "code",
   "execution_count": null,
   "metadata": {
    "collapsed": false
   },
   "outputs": [],
   "source": [
    "X.values.dot(theta)"
   ]
  },
  {
   "cell_type": "code",
   "execution_count": null,
   "metadata": {
    "collapsed": false
   },
   "outputs": [],
   "source": [
    "X.values"
   ]
  },
  {
   "cell_type": "code",
   "execution_count": null,
   "metadata": {
    "collapsed": false
   },
   "outputs": [],
   "source": [
    "(7.93563604 + 5.08651495)/2.0"
   ]
  },
  {
   "cell_type": "code",
   "execution_count": null,
   "metadata": {
    "collapsed": false
   },
   "outputs": [],
   "source": [
    "theta"
   ]
  },
  {
   "cell_type": "code",
   "execution_count": null,
   "metadata": {
    "collapsed": false
   },
   "outputs": [],
   "source": [
    "out"
   ]
  },
  {
   "cell_type": "code",
   "execution_count": null,
   "metadata": {
    "collapsed": false
   },
   "outputs": [],
   "source": [
    "my_out.reshape((my_out.size, )) == out"
   ]
  },
  {
   "cell_type": "code",
   "execution_count": null,
   "metadata": {
    "collapsed": false
   },
   "outputs": [],
   "source": [
    "out == my_out"
   ]
  },
  {
   "cell_type": "code",
   "execution_count": 29,
   "metadata": {
    "collapsed": true
   },
   "outputs": [],
   "source": [
    "# ok now let's check the gradient stuff\n",
    "def grad(X, theta, y):\n",
    "    diff = y - sig(X, theta)\n",
    "    g = np.zeros(X.shape)\n",
    "    for i in range(X.shape[0]):\n",
    "        for j  in range(X.shape[1]):\n",
    "            g[i,j] = diff[i] * X[i,j]\n",
    "    return g"
   ]
  },
  {
   "cell_type": "code",
   "execution_count": null,
   "metadata": {
    "collapsed": false
   },
   "outputs": [],
   "source": [
    "y"
   ]
  },
  {
   "cell_type": "code",
   "execution_count": null,
   "metadata": {
    "collapsed": false
   },
   "outputs": [],
   "source": [
    "theta = theta.reshape((theta.size,))\n",
    "grad(X.values, theta, y.values), sig(X.values, theta), y.values"
   ]
  },
  {
   "cell_type": "code",
   "execution_count": null,
   "metadata": {
    "collapsed": true
   },
   "outputs": [],
   "source": [
    "gradient = np.zeros(shape=X.shape, dtype=np.float32)\n"
   ]
  },
  {
   "cell_type": "code",
   "execution_count": null,
   "metadata": {
    "collapsed": false
   },
   "outputs": [],
   "source": [
    "X_buf = pcl.Buffer(cntx, pcl.mem_flags.READ_ONLY | pcl.mem_flags.COPY_HOST_PTR, hostbuf=X.values)\n",
    "y_buf = pcl.Buffer(cntx, pcl.mem_flags.READ_ONLY | pcl.mem_flags.COPY_HOST_PTR, hostbuf=y.values)\n",
    "theta_buf = pcl.Buffer(cntx, pcl.mem_flags.READ_ONLY | pcl.mem_flags.COPY_HOST_PTR, hostbuf=theta)\n",
    "grad_buf = pcl.Buffer(cntx, pcl.mem_flags.READ_WRITE | pcl.mem_flags.COPY_HOST_PTR , hostbuf=gradient)"
   ]
  },
  {
   "cell_type": "code",
   "execution_count": null,
   "metadata": {
    "collapsed": false
   },
   "outputs": [],
   "source": [
    "grad_event = programs.logistic_gradient_ols(queue,\n",
    "                                            X.shape,\n",
    "                                            None,\n",
    "                                            X_buf,\n",
    "                                            theta_buf,\n",
    "                                            y_buf,\n",
    "                                            grad_buf,\n",
    "                                            nrows,\n",
    "                                            ncols)"
   ]
  },
  {
   "cell_type": "code",
   "execution_count": null,
   "metadata": {
    "collapsed": false
   },
   "outputs": [],
   "source": [
    "gradient"
   ]
  },
  {
   "cell_type": "code",
   "execution_count": null,
   "metadata": {
    "collapsed": false
   },
   "outputs": [],
   "source": [
    "grad_event.wait()"
   ]
  },
  {
   "cell_type": "code",
   "execution_count": null,
   "metadata": {
    "collapsed": true
   },
   "outputs": [],
   "source": [
    "pcl.enqueue_copy(queue, gradient, grad_buf).wait()"
   ]
  },
  {
   "cell_type": "code",
   "execution_count": null,
   "metadata": {
    "collapsed": false
   },
   "outputs": [],
   "source": [
    "gradient"
   ]
  },
  {
   "cell_type": "code",
   "execution_count": null,
   "metadata": {
    "collapsed": false
   },
   "outputs": [],
   "source": [
    "gradient == grad(X.values, theta, y.values)"
   ]
  },
  {
   "cell_type": "code",
   "execution_count": null,
   "metadata": {
    "collapsed": false
   },
   "outputs": [],
   "source": [
    "gradient"
   ]
  },
  {
   "cell_type": "code",
   "execution_count": null,
   "metadata": {
    "collapsed": false
   },
   "outputs": [],
   "source": [
    "grad(X.values, theta, y.values)"
   ]
  },
  {
   "cell_type": "code",
   "execution_count": null,
   "metadata": {
    "collapsed": true
   },
   "outputs": [],
   "source": [
    "# let's double check I can get this to work"
   ]
  },
  {
   "cell_type": "code",
   "execution_count": 61,
   "metadata": {
    "collapsed": true
   },
   "outputs": [],
   "source": [
    "def sig(X, theta):\n",
    "    lin = X.dot(theta)\n",
    "    sig = 1.0 / (1.0 + np.exp(-lin))\n",
    "    return sig\n",
    " \n",
    "    \n",
    "def lr_cost(X, theta, y):\n",
    "    est = sig(X, theta)\n",
    "    log_est = np.log(est)\n",
    "    cost = y*log_est + (1-y) * (1-log_est)\n",
    "    cost *= -1\n",
    "    return cost\n",
    "\n",
    "def cost_ss(est, actual):\n",
    "    cost = ((est - actual)**2.0)\n",
    "    cost /= 2.0\n",
    "    return cost\n",
    "\n",
    "def grad(X, theta, y):\n",
    "    diff = y - sig(X, theta)\n",
    "    g = np.zeros(X.shape)\n",
    "    for i in range(X.shape[0]):\n",
    "        for j  in range(X.shape[1]):\n",
    "            g[i,j] = diff[i] * X[i,j]\n",
    "    return g\n",
    "\n",
    "def fit_params(X, y, theta):\n",
    "    tol = 1e-5\n",
    "    learning_rate = 1e-2\n",
    "    costs = [np.inf]\n",
    "    for i in range(0, 1000):\n",
    "        my_cost = lr_cost(X, theta, y)\n",
    "        my_cost = my_cost.sum()\n",
    "        costs.append(my_cost)\n",
    "        if abs(my_cost - costs[-2]) < tol:\n",
    "            break\n",
    "        else:\n",
    "            my_gradient = grad(X, theta, y)\n",
    "            my_gradient = my_gradient.mean(axis=0)\n",
    "            theta = theta + learning_rate * my_gradient\n",
    "            \n",
    "    return theta, costs"
   ]
  },
  {
   "cell_type": "code",
   "execution_count": 66,
   "metadata": {
    "collapsed": false
   },
   "outputs": [],
   "source": [
    "X_train, X_test, y_train, y_test = train_test_split(X, y, train_size=0.6)\n",
    "new_t = np.random.normal(size=(X_train.shape[1], )).astype(np.float32)\n",
    "fitted_theta, outcost = fit_params(X_train.values, y_train.values, new_t)"
   ]
  },
  {
   "cell_type": "code",
   "execution_count": 67,
   "metadata": {
    "collapsed": false
   },
   "outputs": [
    {
     "data": {
      "text/plain": [
       "array([ 0.03598584,  1.04095844])"
      ]
     },
     "execution_count": 67,
     "metadata": {},
     "output_type": "execute_result"
    }
   ],
   "source": [
    "fitted_theta"
   ]
  },
  {
   "cell_type": "code",
   "execution_count": 68,
   "metadata": {
    "collapsed": false
   },
   "outputs": [
    {
     "data": {
      "text/plain": [
       "-2363.4378906858246"
      ]
     },
     "execution_count": 68,
     "metadata": {},
     "output_type": "execute_result"
    }
   ],
   "source": [
    "lr_cost(X_test.values, fitted_theta, y_test.values).sum()"
   ]
  },
  {
   "cell_type": "code",
   "execution_count": 69,
   "metadata": {
    "collapsed": false
   },
   "outputs": [
    {
     "data": {
      "image/png": "[encoded data removed]",
      "text/plain": [
       "<matplotlib.figure.Figure at 0x116806588>"
      ]
     },
     "metadata": {},
     "output_type": "display_data"
    }
   ],
   "source": [
    "plt.figure(figsize=(10,6))\n",
    "plt.plot(outcost[1:])\n",
    "plt.xlabel('Iteration')\n",
    "plt.ylabel('Cost')\n",
    "plt.title('Cost During Fitting')\n",
    "plt.show()"
   ]
  },
  {
   "cell_type": "code",
   "execution_count": 44,
   "metadata": {
    "collapsed": true
   },
   "outputs": [],
   "source": [
    "ssc = cost_ss(sig(X_test.values, fitted_theta), y_test.values)"
   ]
  },
  {
   "cell_type": "code",
   "execution_count": 47,
   "metadata": {
    "collapsed": false
   },
   "outputs": [
    {
     "data": {
      "text/plain": [
       "0.016629054794092435"
      ]
     },
     "execution_count": 47,
     "metadata": {},
     "output_type": "execute_result"
    }
   ],
   "source": [
    "ssc.sum()/X_test.shape[0]"
   ]
  },
  {
   "cell_type": "code",
   "execution_count": null,
   "metadata": {
    "collapsed": false
   },
   "outputs": [],
   "source": [
    "cost(sig(X.values, fitted_theta), y).sum()"
   ]
  },
  {
   "cell_type": "code",
   "execution_count": null,
   "metadata": {
    "collapsed": false
   },
   "outputs": [],
   "source": [
    "cost(sig(X.values, np.random.normal(size=theta.shape)), y).sum()"
   ]
  },
  {
   "cell_type": "code",
   "execution_count": null,
   "metadata": {
    "collapsed": true
   },
   "outputs": [],
   "source": [
    "# ok that works, let's see if I can get this to work with the gpu code\n",
    "def fit_gpu(X, y, theta, queue, cntx):\n",
    "    tol = 1e-5\n",
    "    learning_rate = 1e-2\n",
    "    nrows = np.int32(X.shape[0])\n",
    "    ncols = np.int32(X.shape[1])\n",
    "    costs = []\n",
    "    for i in range(0, 1000):\n",
    "        cost_arr = np.zeros(shape=(X.shape[0],), dtype=np.float32)\n",
    "        X_buf = pcl.Buffer(cntx, pcl.mem_flags.READ_ONLY | pcl.mem_flags.COPY_HOST_PTR, hostbuf=X)\n",
    "        y_buf = pcl.Buffer(cntx, pcl.mem_flags.READ_ONLY | pcl.mem_flags.COPY_HOST_PTR, hostbuf=y)\n",
    "        theta_buf = pcl.Buffer(cntx, pcl.mem_flags.READ_ONLY | pcl.mem_flags.COPY_HOST_PTR, hostbuf=theta)\n",
    "        cost_buf = pcl.Buffer(cntx, pcl.mem_flags.READ_WRITE | pcl.mem_flags.COPY_HOST_PTR, hostbuf=cost_arr)\n",
    "        \n",
    "        cost_event = programs.logistic_cost_ols(queue,X.shape,None,X_buf,theta_buf, y_buf,cost_buf,nrows,ncols)\n",
    "        cost_event.wait()\n",
    "        pcl.enqueue_copy(queue, cost_arr, cost_buf)\n",
    "        cost_arr = cost_arr.sum()\n",
    "        cost_arr /= 2.\n",
    "        costs.append(cost_arr)\n",
    "        if cost_arr < tol:\n",
    "            break\n",
    "        else:\n",
    "            grad_buf = pcl.Buffer(cntx, pcl.mem_flags.WRITE_ONLY , size=X.nbytes)\n",
    "            grad_event = programs.logistic_gradient_ols(queue,X.shape,None,X_buf,theta_buf,y_buf,grad_buf,nrows,ncols)\n",
    "            grad_event.wait()\n",
    "            grad_arr = np.zeros(shape=X.shape, dtype=np.float32)\n",
    "            pcl.enqueue_copy(queue, grad_arr, grad_buf)\n",
    "            grad_arr = grad_arr.mean(axis=0)\n",
    "            theta = theta + learning_rate * grad_arr\n",
    "            \n",
    "    return theta, costs\n",
    "            \n",
    "            \n",
    "        \n",
    "        \n",
    "        "
   ]
  },
  {
   "cell_type": "code",
   "execution_count": null,
   "metadata": {
    "collapsed": false
   },
   "outputs": [],
   "source": [
    "X_train, X_test, y_train, y_test = train_test_split(X, y, train_size=0.6)\n",
    "new_t = np.random.normal(size=theta.shape).astype(np.float32)\n",
    "fitted_t_gpu = fit_gpu(X_train.values, y_train.values, new_t, queue, cntx)"
   ]
  },
  {
   "cell_type": "code",
   "execution_count": null,
   "metadata": {
    "collapsed": false
   },
   "outputs": [],
   "source": [
    "fitted_t_gpu"
   ]
  },
  {
   "cell_type": "code",
   "execution_count": null,
   "metadata": {
    "collapsed": false
   },
   "outputs": [],
   "source": [
    "fitted_theta = fit_params(X.values, y.values, new_t)"
   ]
  },
  {
   "cell_type": "code",
   "execution_count": null,
   "metadata": {
    "collapsed": false
   },
   "outputs": [],
   "source": [
    "fitted_theta"
   ]
  },
  {
   "cell_type": "code",
   "execution_count": null,
   "metadata": {
    "collapsed": false
   },
   "outputs": [],
   "source": [
    "fitted_t_gpu - fitted_theta"
   ]
  },
  {
   "cell_type": "code",
   "execution_count": null,
   "metadata": {
    "collapsed": true
   },
   "outputs": [],
   "source": []
  }
 ],
 "metadata": {
  "kernelspec": {
   "display_name": "Python [conda env:ENVPy3]",
   "language": "python",
   "name": "conda-env-ENVPy3-py"
  },
  "language_info": {
   "codemirror_mode": {
    "name": "ipython",
    "version": 3
   },
   "file_extension": ".py",
   "mimetype": "text/x-python",
   "name": "python",
   "nbconvert_exporter": "python",
   "pygments_lexer": "ipython3",
   "version": "3.5.2"
  }
 },
 "nbformat": 4,
 "nbformat_minor": 2
}
