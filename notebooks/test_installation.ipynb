{
 "cells": [
  {
   "cell_type": "code",
   "execution_count": 22,
   "metadata": {
    "collapsed": true
   },
   "outputs": [],
   "source": [
    "import os"
   ]
  },
  {
   "cell_type": "code",
   "execution_count": 23,
   "metadata": {
    "collapsed": false
   },
   "outputs": [
    {
     "name": "stdout",
     "output_type": "stream",
     "text": [
      "running develop\n",
      "running egg_info\n",
      "writing dependency_links to src/glm_gpu.egg-info/dependency_links.txt\n",
      "writing top-level names to src/glm_gpu.egg-info/top_level.txt\n",
      "writing src/glm_gpu.egg-info/PKG-INFO\n",
      "reading manifest file 'src/glm_gpu.egg-info/SOURCES.txt'\n",
      "reading manifest template 'MANIFEST.in'\n",
      "writing manifest file 'src/glm_gpu.egg-info/SOURCES.txt'\n",
      "running build_ext\n",
      "Creating /Users/antalek/anaconda/envs/ENVPy3/lib/python3.5/site-packages/glm-gpu.egg-link (link to src)\n",
      "glm-gpu 0.0.dev0 is already the active version in easy-install.pth\n",
      "\n",
      "Installed /Users/antalek/Documents/ProgrammingProjects/OpenCL/opencl_fun/src\n",
      "Processing dependencies for glm-gpu==0.0.dev0\n",
      "Finished processing dependencies for glm-gpu==0.0.dev0\n"
     ]
    }
   ],
   "source": [
    "%%bash\n",
    "cd ..\n",
    "python setup.py develop"
   ]
  },
  {
   "cell_type": "code",
   "execution_count": 24,
   "metadata": {
    "collapsed": false
   },
   "outputs": [
    {
     "name": "stdout",
     "output_type": "stream",
     "text": [
      "/Users/antalek/anaconda/envs/ENVPy3/bin/python\n"
     ]
    }
   ],
   "source": [
    "%%bash\n",
    "which python"
   ]
  },
  {
   "cell_type": "code",
   "execution_count": 26,
   "metadata": {
    "collapsed": false
   },
   "outputs": [
    {
     "name": "stderr",
     "output_type": "stream",
     "text": [
      "Traceback (most recent call last):\n",
      "  File \"<string>\", line 1, in <module>\n",
      "  File \"/Users/antalek/Documents/ProgrammingProjects/OpenCL/opencl_fun/src/glm_gpu/__init__.py\", line 1, in <module>\n",
      "    from .lr_model import LogisticRegressionGPU\n",
      "  File \"/Users/antalek/Documents/ProgrammingProjects/OpenCL/opencl_fun/src/glm_gpu/lr_model.py\", line 9, in <module>\n",
      "    settings.CL_PREFERRED_DEVICE)\n",
      "  File \"/Users/antalek/Documents/ProgrammingProjects/OpenCL/opencl_fun/src/glm_gpu/cl_manager.py\", line 40, in __init__\n",
      "    self.programs = pcl.Program(self.context, f.read()).build()\n",
      "  File \"/Users/antalek/anaconda/envs/ENVPy3/lib/python3.5/site-packages/pyopencl/__init__.py\", line 438, in build\n",
      "    options_bytes=options_bytes, source=self._source)\n",
      "  File \"/Users/antalek/anaconda/envs/ENVPy3/lib/python3.5/site-packages/pyopencl/__init__.py\", line 473, in _build_and_catch_errors\n",
      "    raise err\n",
      "pyopencl.cffi_cl.RuntimeError: clBuildProgram failed: BUILD_PROGRAM_FAILURE - \n",
      "\n",
      "Build on <pyopencl.Device 'AMD Radeon R9 M370X Compute Engine' on 'Apple' at 0x1021c00>:\n",
      "\n",
      "Error returned by cvms_element_build_from_source\n",
      "(options: -I /Users/antalek/anaconda/envs/ENVPy3/lib/python3.5/site-packages/pyopencl/cl)\n",
      "(source saved as /var/folders/4x/f3rlcx6s3ng53wr5nkrnlhb00000gp/T/tmpc2w3jz5f.cl)\n"
     ]
    }
   ],
   "source": [
    "%%bash \n",
    "python -c 'import glm_gpu'"
   ]
  },
  {
   "cell_type": "code",
   "execution_count": 34,
   "metadata": {
    "collapsed": false
   },
   "outputs": [
    {
     "data": {
      "text/plain": [
       "True"
      ]
     },
     "execution_count": 34,
     "metadata": {},
     "output_type": "execute_result"
    }
   ],
   "source": [
    "clfile = os.path.join('..','src','glm_gpu','cl','logistic.cl')\n",
    "os.path.isfile(clfile)"
   ]
  },
  {
   "cell_type": "code",
   "execution_count": 35,
   "metadata": {
    "collapsed": false
   },
   "outputs": [],
   "source": [
    "import pyopencl as pcl"
   ]
  },
  {
   "cell_type": "code",
   "execution_count": 46,
   "metadata": {
    "collapsed": false
   },
   "outputs": [],
   "source": [
    "os.environ['PYOPENCL_COMPILER_OUTPUT'] = '1'\n",
    "dev = pcl.get_platforms()[0].get_devices()[1]\n",
    "cntx = pcl.Context( [dev])\n",
    "queue = pcl.CommandQueue(cntx)\n",
    "with open(clfile, 'r') as f:\n",
    "    programs = pcl.Program(cntx, f.read()).build()"
   ]
  },
  {
   "cell_type": "code",
   "execution_count": 47,
   "metadata": {
    "collapsed": true
   },
   "outputs": [],
   "source": [
    "%%bash \n",
    "python -c 'import glm_gpu'"
   ]
  },
  {
   "cell_type": "code",
   "execution_count": null,
   "metadata": {
    "collapsed": true
   },
   "outputs": [],
   "source": [
    "# alright, fixed all the bugs (hopefully)"
   ]
  }
 ],
 "metadata": {
  "kernelspec": {
   "display_name": "Python [conda env:ENVPy3]",
   "language": "python",
   "name": "conda-env-ENVPy3-py"
  },
  "language_info": {
   "codemirror_mode": {
    "name": "ipython",
    "version": 3
   },
   "file_extension": ".py",
   "mimetype": "text/x-python",
   "name": "python",
   "nbconvert_exporter": "python",
   "pygments_lexer": "ipython3",
   "version": "3.5.2"
  }
 },
 "nbformat": 4,
 "nbformat_minor": 2
}
