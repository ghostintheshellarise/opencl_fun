{
 "cells": [
  {
   "cell_type": "code",
   "execution_count": 1,
   "metadata": {
    "collapsed": true
   },
   "outputs": [],
   "source": [
    "import pyopencl as pcl\n",
    "import os\n",
    "import numpy as np\n",
    "import seaborn as sns\n",
    "import matplotlib.pyplot as plt"
   ]
  },
  {
   "cell_type": "code",
   "execution_count": 2,
   "metadata": {
    "collapsed": false
   },
   "outputs": [],
   "source": [
    "dev = pcl.get_platforms()[0].get_devices()[2]"
   ]
  },
  {
   "cell_type": "code",
   "execution_count": 3,
   "metadata": {
    "collapsed": false
   },
   "outputs": [
    {
     "data": {
      "text/plain": [
       "'AMD Radeon R9 M370X Compute Engine'"
      ]
     },
     "execution_count": 3,
     "metadata": {},
     "output_type": "execute_result"
    }
   ],
   "source": [
    "dev.name"
   ]
  },
  {
   "cell_type": "code",
   "execution_count": 4,
   "metadata": {
    "collapsed": false
   },
   "outputs": [
    {
     "name": "stdout",
     "output_type": "stream",
     "text": [
      "local device memory:  32 KB\n"
     ]
    }
   ],
   "source": [
    "print('local device memory: ', dev.local_mem_size // 1024, 'KB')"
   ]
  },
  {
   "cell_type": "code",
   "execution_count": 5,
   "metadata": {
    "collapsed": false
   },
   "outputs": [
    {
     "data": {
      "text/plain": [
       "256"
      ]
     },
     "execution_count": 5,
     "metadata": {},
     "output_type": "execute_result"
    }
   ],
   "source": [
    "dev.max_work_group_size"
   ]
  },
  {
   "cell_type": "code",
   "execution_count": 6,
   "metadata": {
    "collapsed": false
   },
   "outputs": [
    {
     "name": "stdout",
     "output_type": "stream",
     "text": [
      "True True\n"
     ]
    }
   ],
   "source": [
    "clfile = os.path.abspath(os.path.join('..','src','cl','mmath.cl'))\n",
    "setfile = os.path.abspath(os.path.join('..','src', 'cl', 'settings.h'))\n",
    "print(os.path.isfile(clfile), os.path.isfile(setfile))"
   ]
  },
  {
   "cell_type": "code",
   "execution_count": 7,
   "metadata": {
    "collapsed": true
   },
   "outputs": [],
   "source": [
    "cntx = pcl.Context( [dev])\n",
    "queue = pcl.CommandQueue(cntx)"
   ]
  },
  {
   "cell_type": "code",
   "execution_count": 8,
   "metadata": {
    "collapsed": false
   },
   "outputs": [],
   "source": [
    "os.environ['PYOPENCL_COMPILER_OUTPUT'] = '1'\n",
    "with open(clfile,'r') as f:\n",
    "    prgs = pcl.Program(cntx, f.read(),).build(options=[])"
   ]
  },
  {
   "cell_type": "code",
   "execution_count": 9,
   "metadata": {
    "collapsed": true
   },
   "outputs": [],
   "source": [
    "inarr = np.random.normal(size=(16,16)).astype(np.float32)"
   ]
  },
  {
   "cell_type": "code",
   "execution_count": 10,
   "metadata": {
    "collapsed": true
   },
   "outputs": [],
   "source": [
    "outarr = np.random.normal(size=(16*4,32)).astype(np.float32)"
   ]
  },
  {
   "cell_type": "code",
   "execution_count": 11,
   "metadata": {
    "collapsed": true
   },
   "outputs": [],
   "source": [
    "inbuf = pcl.Buffer(cntx, pcl.mem_flags.READ_ONLY | pcl.mem_flags.COPY_HOST_PTR, hostbuf=inarr)\n",
    "outbuf = pcl.Buffer(cntx, pcl.mem_flags.READ_WRITE | pcl.mem_flags.COPY_HOST_PTR, hostbuf=outarr)"
   ]
  },
  {
   "cell_type": "code",
   "execution_count": 12,
   "metadata": {
    "collapsed": false
   },
   "outputs": [],
   "source": [
    "e = prgs.zeroPad(queue,\n",
    "                 outarr.shape,\n",
    "                 (16,16),\n",
    "                 np.int32(inarr.shape[0]),\n",
    "                 np.int32(inarr.shape[1]),\n",
    "                 inbuf,\n",
    "                 np.int32(outarr.shape[0]),\n",
    "                 np.int32(outarr.shape[1]), \n",
    "                 outbuf)"
   ]
  },
  {
   "cell_type": "code",
   "execution_count": 13,
   "metadata": {
    "collapsed": true
   },
   "outputs": [],
   "source": [
    "e.wait()"
   ]
  },
  {
   "cell_type": "code",
   "execution_count": 14,
   "metadata": {
    "collapsed": false
   },
   "outputs": [],
   "source": [
    "pcl.enqueue_copy(queue, outarr, outbuf).wait()"
   ]
  },
  {
   "cell_type": "code",
   "execution_count": 15,
   "metadata": {
    "collapsed": false
   },
   "outputs": [
    {
     "data": {
      "text/plain": [
       "array([[-0.26152289, -0.98023987,  0.90099198, ...,  0.        ,\n",
       "         0.        ,  0.        ],\n",
       "       [-0.4227975 ,  1.2956171 ,  0.85089654, ...,  0.        ,\n",
       "         0.        ,  0.        ],\n",
       "       [ 0.26511353, -0.12731043, -1.56002021, ...,  0.        ,\n",
       "         0.        ,  0.        ],\n",
       "       ..., \n",
       "       [ 0.        ,  0.        ,  0.        , ...,  0.        ,\n",
       "         0.        ,  0.        ],\n",
       "       [ 0.        ,  0.        ,  0.        , ...,  0.        ,\n",
       "         0.        ,  0.        ],\n",
       "       [ 0.        ,  0.        ,  0.        , ...,  0.        ,\n",
       "         0.        ,  0.        ]], dtype=float32)"
      ]
     },
     "execution_count": 15,
     "metadata": {},
     "output_type": "execute_result"
    }
   ],
   "source": [
    "outarr"
   ]
  },
  {
   "cell_type": "code",
   "execution_count": 16,
   "metadata": {
    "collapsed": false
   },
   "outputs": [
    {
     "data": {
      "text/plain": [
       "(64, 32)"
      ]
     },
     "execution_count": 16,
     "metadata": {},
     "output_type": "execute_result"
    }
   ],
   "source": [
    "outarr.shape"
   ]
  },
  {
   "cell_type": "code",
   "execution_count": 17,
   "metadata": {
    "collapsed": false
   },
   "outputs": [
    {
     "data": {
      "image/png": "[encoded data removed]",
      "text/plain": [
       "<matplotlib.figure.Figure at 0x112e69a58>"
      ]
     },
     "metadata": {},
     "output_type": "display_data"
    }
   ],
   "source": [
    "sns.heatmap(outarr)\n",
    "plt.show()"
   ]
  },
  {
   "cell_type": "code",
   "execution_count": 18,
   "metadata": {
    "collapsed": false
   },
   "outputs": [
    {
     "data": {
      "text/plain": [
       "2048"
      ]
     },
     "execution_count": 18,
     "metadata": {},
     "output_type": "execute_result"
    }
   ],
   "source": [
    "outarr.size"
   ]
  },
  {
   "cell_type": "code",
   "execution_count": 19,
   "metadata": {
    "collapsed": false
   },
   "outputs": [
    {
     "data": {
      "text/plain": [
       "0.0"
      ]
     },
     "execution_count": 19,
     "metadata": {},
     "output_type": "execute_result"
    }
   ],
   "source": [
    "outarr[-1,-1]"
   ]
  },
  {
   "cell_type": "code",
   "execution_count": 198,
   "metadata": {
    "collapsed": false
   },
   "outputs": [],
   "source": [
    "os.environ['PYOPENCL_COMPILER_OUTPUT'] = '1'\n",
    "with open(clfile,'r') as f:\n",
    "    prgs = pcl.Program(cntx, f.read(),).build(options=[])"
   ]
  },
  {
   "cell_type": "code",
   "execution_count": 199,
   "metadata": {
    "collapsed": false
   },
   "outputs": [],
   "source": [
    "inarr = np.ones(shape=(16*3,16*6), dtype=np.float32)\n",
    "outarr = np.zeros(shape=(inarr.shape[1],inarr.shape[0]), dtype=np.float32)"
   ]
  },
  {
   "cell_type": "code",
   "execution_count": 200,
   "metadata": {
    "collapsed": true
   },
   "outputs": [],
   "source": [
    "for x in range(inarr.shape[0]):\n",
    "    inarr[x,:] *= (x+1)"
   ]
  },
  {
   "cell_type": "code",
   "execution_count": 201,
   "metadata": {
    "collapsed": false
   },
   "outputs": [],
   "source": [
    "inbuf = pcl.Buffer(cntx, pcl.mem_flags.READ_ONLY | pcl.mem_flags.COPY_HOST_PTR, hostbuf=inarr)\n",
    "outbuf = pcl.Buffer(cntx, pcl.mem_flags.READ_WRITE | pcl.mem_flags.COPY_HOST_PTR, hostbuf=outarr)\n",
    "e = prgs.transpose(queue,\n",
    "                   inarr.shape,\n",
    "                   (16,16),\n",
    "                   np.int32(inarr.shape[0]),\n",
    "                   np.int32(inarr.shape[1]),\n",
    "                   inbuf,\n",
    "                   outbuf)"
   ]
  },
  {
   "cell_type": "code",
   "execution_count": 202,
   "metadata": {
    "collapsed": false
   },
   "outputs": [],
   "source": [
    "e.wait()\n",
    "pcl.enqueue_copy(queue, outarr, outbuf).wait()"
   ]
  },
  {
   "cell_type": "code",
   "execution_count": null,
   "metadata": {
    "collapsed": false
   },
   "outputs": [],
   "source": []
  },
  {
   "cell_type": "code",
   "execution_count": 203,
   "metadata": {
    "collapsed": false
   },
   "outputs": [
    {
     "data": {
      "image/png": "[encoded data removed]",
      "text/plain": [
       "<matplotlib.figure.Figure at 0x126db0e80>"
      ]
     },
     "metadata": {},
     "output_type": "display_data"
    },
    {
     "data": {
      "image/png": "[encoded data removed]",
      "text/plain": [
       "<matplotlib.figure.Figure at 0x115571198>"
      ]
     },
     "metadata": {},
     "output_type": "display_data"
    }
   ],
   "source": [
    "sns.heatmap(inarr)\n",
    "plt.show()\n",
    "sns.heatmap(outarr)\n",
    "plt.show()"
   ]
  },
  {
   "cell_type": "code",
   "execution_count": 204,
   "metadata": {
    "collapsed": false
   },
   "outputs": [],
   "source": [
    "os.environ['PYOPENCL_COMPILER_OUTPUT'] = '1'\n",
    "with open(clfile,'r') as f:\n",
    "    prgs = pcl.Program(cntx, f.read(),).build(options=[])"
   ]
  },
  {
   "cell_type": "code",
   "execution_count": 205,
   "metadata": {
    "collapsed": true
   },
   "outputs": [],
   "source": [
    "inarr = np.ones(shape=(16*3,16*2), dtype=np.float32)\n",
    "outarr = np.zeros(shape=(inarr.shape[0]-16,inarr.shape[1]-16), dtype=np.float32)\n",
    "for x in range(inarr.shape[0]):\n",
    "    inarr[x,:] *= (x+1)"
   ]
  },
  {
   "cell_type": "code",
   "execution_count": 206,
   "metadata": {
    "collapsed": true
   },
   "outputs": [],
   "source": [
    "inbuf = pcl.Buffer(cntx, pcl.mem_flags.READ_ONLY | pcl.mem_flags.COPY_HOST_PTR, hostbuf=inarr)\n",
    "outbuf = pcl.Buffer(cntx, pcl.mem_flags.READ_WRITE | pcl.mem_flags.COPY_HOST_PTR, hostbuf=outarr)\n",
    "e = prgs.zeroTrim(queue,\n",
    "                  inarr.shape,\n",
    "                  (16,16),\n",
    "                  np.int32(inarr.shape[0]),\n",
    "                  np.int32(inarr.shape[1]),\n",
    "                  inbuf,\n",
    "                  np.int32(outarr.shape[0]),\n",
    "                  np.int32(outarr.shape[1]),\n",
    "                  outbuf)"
   ]
  },
  {
   "cell_type": "code",
   "execution_count": 207,
   "metadata": {
    "collapsed": true
   },
   "outputs": [],
   "source": [
    "e.wait()\n",
    "pcl.enqueue_copy(queue, outarr, outbuf).wait()"
   ]
  },
  {
   "cell_type": "code",
   "execution_count": 208,
   "metadata": {
    "collapsed": false
   },
   "outputs": [
    {
     "data": {
      "text/plain": [
       "array([[  1.,   1.,   1.,   1.,   1.,   1.,   1.,   1.,   1.,   1.,   1.,\n",
       "          1.,   1.,   1.,   1.,   1.],\n",
       "       [  2.,   2.,   2.,   2.,   2.,   2.,   2.,   2.,   2.,   2.,   2.,\n",
       "          2.,   2.,   2.,   2.,   2.],\n",
       "       [  3.,   3.,   3.,   3.,   3.,   3.,   3.,   3.,   3.,   3.,   3.,\n",
       "          3.,   3.,   3.,   3.,   3.],\n",
       "       [  4.,   4.,   4.,   4.,   4.,   4.,   4.,   4.,   4.,   4.,   4.,\n",
       "          4.,   4.,   4.,   4.,   4.],\n",
       "       [  5.,   5.,   5.,   5.,   5.,   5.,   5.,   5.,   5.,   5.,   5.,\n",
       "          5.,   5.,   5.,   5.,   5.],\n",
       "       [  6.,   6.,   6.,   6.,   6.,   6.,   6.,   6.,   6.,   6.,   6.,\n",
       "          6.,   6.,   6.,   6.,   6.],\n",
       "       [  7.,   7.,   7.,   7.,   7.,   7.,   7.,   7.,   7.,   7.,   7.,\n",
       "          7.,   7.,   7.,   7.,   7.],\n",
       "       [  8.,   8.,   8.,   8.,   8.,   8.,   8.,   8.,   8.,   8.,   8.,\n",
       "          8.,   8.,   8.,   8.,   8.],\n",
       "       [  9.,   9.,   9.,   9.,   9.,   9.,   9.,   9.,   9.,   9.,   9.,\n",
       "          9.,   9.,   9.,   9.,   9.],\n",
       "       [ 10.,  10.,  10.,  10.,  10.,  10.,  10.,  10.,  10.,  10.,  10.,\n",
       "         10.,  10.,  10.,  10.,  10.],\n",
       "       [ 11.,  11.,  11.,  11.,  11.,  11.,  11.,  11.,  11.,  11.,  11.,\n",
       "         11.,  11.,  11.,  11.,  11.],\n",
       "       [ 12.,  12.,  12.,  12.,  12.,  12.,  12.,  12.,  12.,  12.,  12.,\n",
       "         12.,  12.,  12.,  12.,  12.],\n",
       "       [ 13.,  13.,  13.,  13.,  13.,  13.,  13.,  13.,  13.,  13.,  13.,\n",
       "         13.,  13.,  13.,  13.,  13.],\n",
       "       [ 14.,  14.,  14.,  14.,  14.,  14.,  14.,  14.,  14.,  14.,  14.,\n",
       "         14.,  14.,  14.,  14.,  14.],\n",
       "       [ 15.,  15.,  15.,  15.,  15.,  15.,  15.,  15.,  15.,  15.,  15.,\n",
       "         15.,  15.,  15.,  15.,  15.],\n",
       "       [ 16.,  16.,  16.,  16.,  16.,  16.,  16.,  16.,  16.,  16.,  16.,\n",
       "         16.,  16.,  16.,  16.,  16.],\n",
       "       [ 17.,  17.,  17.,  17.,  17.,  17.,  17.,  17.,  17.,  17.,  17.,\n",
       "         17.,  17.,  17.,  17.,  17.],\n",
       "       [ 18.,  18.,  18.,  18.,  18.,  18.,  18.,  18.,  18.,  18.,  18.,\n",
       "         18.,  18.,  18.,  18.,  18.],\n",
       "       [ 19.,  19.,  19.,  19.,  19.,  19.,  19.,  19.,  19.,  19.,  19.,\n",
       "         19.,  19.,  19.,  19.,  19.],\n",
       "       [ 20.,  20.,  20.,  20.,  20.,  20.,  20.,  20.,  20.,  20.,  20.,\n",
       "         20.,  20.,  20.,  20.,  20.],\n",
       "       [ 21.,  21.,  21.,  21.,  21.,  21.,  21.,  21.,  21.,  21.,  21.,\n",
       "         21.,  21.,  21.,  21.,  21.],\n",
       "       [ 22.,  22.,  22.,  22.,  22.,  22.,  22.,  22.,  22.,  22.,  22.,\n",
       "         22.,  22.,  22.,  22.,  22.],\n",
       "       [ 23.,  23.,  23.,  23.,  23.,  23.,  23.,  23.,  23.,  23.,  23.,\n",
       "         23.,  23.,  23.,  23.,  23.],\n",
       "       [ 24.,  24.,  24.,  24.,  24.,  24.,  24.,  24.,  24.,  24.,  24.,\n",
       "         24.,  24.,  24.,  24.,  24.],\n",
       "       [ 25.,  25.,  25.,  25.,  25.,  25.,  25.,  25.,  25.,  25.,  25.,\n",
       "         25.,  25.,  25.,  25.,  25.],\n",
       "       [ 26.,  26.,  26.,  26.,  26.,  26.,  26.,  26.,  26.,  26.,  26.,\n",
       "         26.,  26.,  26.,  26.,  26.],\n",
       "       [ 27.,  27.,  27.,  27.,  27.,  27.,  27.,  27.,  27.,  27.,  27.,\n",
       "         27.,  27.,  27.,  27.,  27.],\n",
       "       [ 28.,  28.,  28.,  28.,  28.,  28.,  28.,  28.,  28.,  28.,  28.,\n",
       "         28.,  28.,  28.,  28.,  28.],\n",
       "       [ 29.,  29.,  29.,  29.,  29.,  29.,  29.,  29.,  29.,  29.,  29.,\n",
       "         29.,  29.,  29.,  29.,  29.],\n",
       "       [ 30.,  30.,  30.,  30.,  30.,  30.,  30.,  30.,  30.,  30.,  30.,\n",
       "         30.,  30.,  30.,  30.,  30.],\n",
       "       [ 31.,  31.,  31.,  31.,  31.,  31.,  31.,  31.,  31.,  31.,  31.,\n",
       "         31.,  31.,  31.,  31.,  31.],\n",
       "       [ 32.,  32.,  32.,  32.,  32.,  32.,  32.,  32.,  32.,  32.,  32.,\n",
       "         32.,  32.,  32.,  32.,  32.]], dtype=float32)"
      ]
     },
     "execution_count": 208,
     "metadata": {},
     "output_type": "execute_result"
    }
   ],
   "source": [
    "outarr"
   ]
  },
  {
   "cell_type": "code",
   "execution_count": 209,
   "metadata": {
    "collapsed": false
   },
   "outputs": [
    {
     "data": {
      "image/png": "[encoded data removed]",
      "text/plain": [
       "<matplotlib.figure.Figure at 0x11555bd30>"
      ]
     },
     "metadata": {},
     "output_type": "display_data"
    },
    {
     "data": {
      "image/png": "[encoded data removed]",
      "text/plain": [
       "<matplotlib.figure.Figure at 0x118dcaa20>"
      ]
     },
     "metadata": {},
     "output_type": "display_data"
    }
   ],
   "source": [
    "sns.heatmap(inarr)\n",
    "plt.show()\n",
    "sns.heatmap(outarr)\n",
    "plt.show()"
   ]
  },
  {
   "cell_type": "code",
   "execution_count": 210,
   "metadata": {
    "collapsed": false
   },
   "outputs": [],
   "source": [
    "# test the matrix multiplication"
   ]
  },
  {
   "cell_type": "code",
   "execution_count": 1083,
   "metadata": {
    "collapsed": false
   },
   "outputs": [
    {
     "name": "stderr",
     "output_type": "stream",
     "text": [
      "/Users/antalek/anaconda/envs/ENVPy3/lib/python3.5/site-packages/pyopencl/cffi_cl.py:1472: CompilerWarning: From-source build succeeded, but resulted in non-empty logs:\n",
      "Build on <pyopencl.Device 'AMD Radeon R9 M370X Compute Engine' on 'Apple' at 0x1021c00> succeeded, but said:\n",
      "\n",
      "<program source>:114:13: warning: unused variable 'gid_0'\n",
      "  const int gid_0 = get_global_id(0);\n",
      "            ^\n",
      "<program source>:115:13: warning: unused variable 'gid_1'\n",
      "  const int gid_1 = get_global_id(1);\n",
      "            ^\n",
      "\n",
      "  warn(text, CompilerWarning)\n"
     ]
    }
   ],
   "source": [
    "os.environ['PYOPENCL_COMPILER_OUTPUT'] = '1'\n",
    "with open(clfile,'r') as f:\n",
    "    prgs = pcl.Program(cntx, f.read(),).build(options=[])"
   ]
  },
  {
   "cell_type": "code",
   "execution_count": 1109,
   "metadata": {
    "collapsed": true
   },
   "outputs": [],
   "source": [
    "M = np.int32(16*(16*200))\n",
    "K = np.int32(16*(16*10))\n",
    "N = np.int32(16*(16*15))\n",
    "\n",
    "\n",
    "a = np.ones(shape=(M, K), dtype=np.float32)\n",
    "b = np.ones(shape=(K, N), dtype=np.float32)\n",
    "for i in range(0, N):\n",
    "    b[:, i] *= (i+1)\n",
    "# a = np.random.normal(size=(M, K)).astype(np.float32)\n",
    "# b = np.random.normal(size=(K, N)).astype(np.float32)"
   ]
  },
  {
   "cell_type": "code",
   "execution_count": 1110,
   "metadata": {
    "collapsed": false
   },
   "outputs": [
    {
     "name": "stdout",
     "output_type": "stream",
     "text": [
      "CPU times: user 12.5 s, sys: 231 ms, total: 12.7 s\n",
      "Wall time: 6.57 s\n"
     ]
    }
   ],
   "source": [
    "%%time\n",
    "c = a.dot(b)"
   ]
  },
  {
   "cell_type": "code",
   "execution_count": 1111,
   "metadata": {
    "collapsed": false
   },
   "outputs": [
    {
     "data": {
      "text/plain": [
       "0.732421875"
      ]
     },
     "execution_count": 1111,
     "metadata": {},
     "output_type": "execute_result"
    }
   ],
   "source": [
    "c.nbytes / (1024**3)"
   ]
  },
  {
   "cell_type": "code",
   "execution_count": 1112,
   "metadata": {
    "collapsed": false
   },
   "outputs": [
    {
     "data": {
      "text/plain": [
       "(dtype('float32'), (51200, 3840))"
      ]
     },
     "execution_count": 1112,
     "metadata": {},
     "output_type": "execute_result"
    }
   ],
   "source": [
    "c.dtype, c.shape"
   ]
  },
  {
   "cell_type": "code",
   "execution_count": 1113,
   "metadata": {
    "collapsed": false
   },
   "outputs": [],
   "source": [
    "a_buf = pcl.Buffer(cntx, pcl.mem_flags.READ_ONLY | pcl.mem_flags.COPY_HOST_PTR, hostbuf=a)\n",
    "b_buf = pcl.Buffer(cntx, pcl.mem_flags.READ_ONLY | pcl.mem_flags.COPY_HOST_PTR, hostbuf=b)\n",
    "b_trans_buf = pcl.Buffer(cntx, pcl.mem_flags.READ_WRITE, size=b.nbytes)\n",
    "c_buf = pcl.Buffer(cntx, pcl.mem_flags.WRITE_ONLY, size=c.nbytes)"
   ]
  },
  {
   "cell_type": "code",
   "execution_count": 1114,
   "metadata": {
    "collapsed": false
   },
   "outputs": [
    {
     "data": {
      "text/plain": [
       "(51200, 2560, 3840)"
      ]
     },
     "execution_count": 1114,
     "metadata": {},
     "output_type": "execute_result"
    }
   ],
   "source": [
    "M, K, N"
   ]
  },
  {
   "cell_type": "code",
   "execution_count": 1115,
   "metadata": {
    "collapsed": true
   },
   "outputs": [],
   "source": [
    "c_out = np.zeros(shape=c.shape,dtype=np.float32)"
   ]
  },
  {
   "cell_type": "code",
   "execution_count": 1116,
   "metadata": {
    "collapsed": false
   },
   "outputs": [
    {
     "name": "stdout",
     "output_type": "stream",
     "text": [
      "CPU times: user 4.19 ms, sys: 900 µs, total: 5.09 ms\n",
      "Wall time: 4.21 ms\n"
     ]
    }
   ],
   "source": [
    "%%time\n",
    "# first, transpose b\n",
    "transpose_b_event = prgs.transpose(queue,\n",
    "                                   b.shape, \n",
    "                                   (16,16),\n",
    "                                   np.int32(b.shape[0]),\n",
    "                                   np.int32(b.shape[1]),\n",
    "                                   b_buf,\n",
    "                                   b_trans_buf)\n",
    "\n",
    "# now multiply a and bT\n",
    "# compute the global and local sizes\n",
    "# M = np.int32(a.shape[0])\n",
    "# K = np.int32(a.shape[1])\n",
    "# N = np.int32(b.shape[1])\n",
    "\n",
    "g = (int(M/8), int(N/8))\n",
    "l = (int(128/8), int(128/8))\n",
    "\n",
    "multiply_event = prgs.SPGMM(queue,\n",
    "                            g,\n",
    "                            l,\n",
    "                            M,\n",
    "                            N,\n",
    "                            K,\n",
    "                            a_buf,\n",
    "                            b_trans_buf,\n",
    "                            c_buf)\n",
    "\n",
    "\n",
    "\n",
    "\n"
   ]
  },
  {
   "cell_type": "code",
   "execution_count": 1117,
   "metadata": {
    "collapsed": false
   },
   "outputs": [
    {
     "name": "stdout",
     "output_type": "stream",
     "text": [
      "CPU times: user 825 µs, sys: 324 ms, total: 325 ms\n",
      "Wall time: 359 ms\n"
     ]
    }
   ],
   "source": [
    "%%time\n",
    "transpose_b_event.wait()"
   ]
  },
  {
   "cell_type": "code",
   "execution_count": 1118,
   "metadata": {
    "collapsed": false
   },
   "outputs": [
    {
     "name": "stdout",
     "output_type": "stream",
     "text": [
      "CPU times: user 1.65 ms, sys: 2.39 ms, total: 4.04 ms\n",
      "Wall time: 23.3 s\n"
     ]
    }
   ],
   "source": [
    "%%time\n",
    "multiply_event.wait()"
   ]
  },
  {
   "cell_type": "code",
   "execution_count": 1119,
   "metadata": {
    "collapsed": false
   },
   "outputs": [
    {
     "name": "stdout",
     "output_type": "stream",
     "text": [
      "CPU times: user 882 µs, sys: 184 ms, total: 185 ms\n",
      "Wall time: 967 ms\n"
     ]
    }
   ],
   "source": [
    "%%time\n",
    "pcl.enqueue_copy(queue, c_out, c_buf).wait()"
   ]
  },
  {
   "cell_type": "code",
   "execution_count": 1120,
   "metadata": {
    "collapsed": true
   },
   "outputs": [],
   "source": [
    "b_trans_arr = np.zeros(shape=b.T.shape, dtype=np.float32)\n",
    "pcl.enqueue_copy(queue, b_trans_arr, b_trans_buf).wait()"
   ]
  },
  {
   "cell_type": "code",
   "execution_count": 1121,
   "metadata": {
    "collapsed": false
   },
   "outputs": [
    {
     "data": {
      "text/plain": [
       "True"
      ]
     },
     "execution_count": 1121,
     "metadata": {},
     "output_type": "execute_result"
    }
   ],
   "source": [
    "(b.T == b_trans_arr).all()"
   ]
  },
  {
   "cell_type": "code",
   "execution_count": 1122,
   "metadata": {
    "collapsed": false
   },
   "outputs": [
    {
     "data": {
      "text/plain": [
       "array([[  2.56000000e+03,   5.12000000e+03,   7.68000000e+03, ...,\n",
       "          9.82528000e+06,   9.82784000e+06,   9.83040000e+06],\n",
       "       [  2.56000000e+03,   5.12000000e+03,   7.68000000e+03, ...,\n",
       "          9.82528000e+06,   9.82784000e+06,   9.83040000e+06],\n",
       "       [  2.56000000e+03,   5.12000000e+03,   7.68000000e+03, ...,\n",
       "          9.82528000e+06,   9.82784000e+06,   9.83040000e+06],\n",
       "       ..., \n",
       "       [  2.56000000e+03,   5.12000000e+03,   7.68000000e+03, ...,\n",
       "          9.82528000e+06,   9.82784000e+06,   9.83040000e+06],\n",
       "       [  2.56000000e+03,   5.12000000e+03,   7.68000000e+03, ...,\n",
       "          9.82528000e+06,   9.82784000e+06,   9.83040000e+06],\n",
       "       [  2.56000000e+03,   5.12000000e+03,   7.68000000e+03, ...,\n",
       "          9.82528000e+06,   9.82784000e+06,   9.83040000e+06]], dtype=float32)"
      ]
     },
     "execution_count": 1122,
     "metadata": {},
     "output_type": "execute_result"
    }
   ],
   "source": [
    "c_out"
   ]
  },
  {
   "cell_type": "code",
   "execution_count": 1123,
   "metadata": {
    "collapsed": false
   },
   "outputs": [
    {
     "data": {
      "text/plain": [
       "True"
      ]
     },
     "execution_count": 1123,
     "metadata": {},
     "output_type": "execute_result"
    }
   ],
   "source": [
    "(c_out == c).all()"
   ]
  },
  {
   "cell_type": "code",
   "execution_count": 1124,
   "metadata": {
    "collapsed": false
   },
   "outputs": [
    {
     "data": {
      "text/plain": [
       "True"
      ]
     },
     "execution_count": 1124,
     "metadata": {},
     "output_type": "execute_result"
    }
   ],
   "source": [
    "c_out.shape == c.shape"
   ]
  },
  {
   "cell_type": "code",
   "execution_count": 1125,
   "metadata": {
    "collapsed": false
   },
   "outputs": [
    {
     "data": {
      "text/plain": [
       "array([[ 0.,  0.,  0., ...,  0.,  0.,  0.],\n",
       "       [ 0.,  0.,  0., ...,  0.,  0.,  0.],\n",
       "       [ 0.,  0.,  0., ...,  0.,  0.,  0.],\n",
       "       ..., \n",
       "       [ 0.,  0.,  0., ...,  0.,  0.,  0.],\n",
       "       [ 0.,  0.,  0., ...,  0.,  0.,  0.],\n",
       "       [ 0.,  0.,  0., ...,  0.,  0.,  0.]], dtype=float32)"
      ]
     },
     "execution_count": 1125,
     "metadata": {},
     "output_type": "execute_result"
    }
   ],
   "source": [
    "c_out - c "
   ]
  },
  {
   "cell_type": "code",
   "execution_count": 1126,
   "metadata": {
    "collapsed": false
   },
   "outputs": [
    {
     "data": {
      "text/plain": [
       "array([[  2.56000000e+03,   5.12000000e+03,   7.68000000e+03, ...,\n",
       "          9.82528000e+06,   9.82784000e+06,   9.83040000e+06],\n",
       "       [  2.56000000e+03,   5.12000000e+03,   7.68000000e+03, ...,\n",
       "          9.82528000e+06,   9.82784000e+06,   9.83040000e+06],\n",
       "       [  2.56000000e+03,   5.12000000e+03,   7.68000000e+03, ...,\n",
       "          9.82528000e+06,   9.82784000e+06,   9.83040000e+06],\n",
       "       ..., \n",
       "       [  2.56000000e+03,   5.12000000e+03,   7.68000000e+03, ...,\n",
       "          9.82528000e+06,   9.82784000e+06,   9.83040000e+06],\n",
       "       [  2.56000000e+03,   5.12000000e+03,   7.68000000e+03, ...,\n",
       "          9.82528000e+06,   9.82784000e+06,   9.83040000e+06],\n",
       "       [  2.56000000e+03,   5.12000000e+03,   7.68000000e+03, ...,\n",
       "          9.82528000e+06,   9.82784000e+06,   9.83040000e+06]], dtype=float32)"
      ]
     },
     "execution_count": 1126,
     "metadata": {},
     "output_type": "execute_result"
    }
   ],
   "source": [
    "c"
   ]
  },
  {
   "cell_type": "code",
   "execution_count": 1127,
   "metadata": {
    "collapsed": false
   },
   "outputs": [
    {
     "data": {
      "text/plain": [
       "(6400, 480)"
      ]
     },
     "execution_count": 1127,
     "metadata": {},
     "output_type": "execute_result"
    }
   ],
   "source": [
    "g"
   ]
  },
  {
   "cell_type": "code",
   "execution_count": 1128,
   "metadata": {
    "collapsed": false
   },
   "outputs": [
    {
     "data": {
      "text/plain": [
       "array([[   2560.,    5120.,    7680., ...,  158720.,  161280.,  163840.],\n",
       "       [   2560.,    5120.,    7680., ...,  158720.,  161280.,  163840.],\n",
       "       [   2560.,    5120.,    7680., ...,  158720.,  161280.,  163840.],\n",
       "       ..., \n",
       "       [   2560.,    5120.,    7680., ...,  158720.,  161280.,  163840.],\n",
       "       [   2560.,    5120.,    7680., ...,  158720.,  161280.,  163840.],\n",
       "       [   2560.,    5120.,    7680., ...,  158720.,  161280.,  163840.]], dtype=float32)"
      ]
     },
     "execution_count": 1128,
     "metadata": {},
     "output_type": "execute_result"
    }
   ],
   "source": [
    "c_out[96:96*2, 0:64]"
   ]
  },
  {
   "cell_type": "code",
   "execution_count": 1129,
   "metadata": {
    "collapsed": false
   },
   "outputs": [
    {
     "data": {
      "text/plain": [
       "(51200, 3840)"
      ]
     },
     "execution_count": 1129,
     "metadata": {},
     "output_type": "execute_result"
    }
   ],
   "source": [
    "c_out.shape"
   ]
  },
  {
   "cell_type": "code",
   "execution_count": 1130,
   "metadata": {
    "collapsed": false
   },
   "outputs": [
    {
     "data": {
      "text/plain": [
       "9830400.0"
      ]
     },
     "execution_count": 1130,
     "metadata": {},
     "output_type": "execute_result"
    }
   ],
   "source": [
    "c_out.max()"
   ]
  },
  {
   "cell_type": "code",
   "execution_count": 1131,
   "metadata": {
    "collapsed": false
   },
   "outputs": [
    {
     "data": {
      "text/plain": [
       "(51200, 2560, 3840)"
      ]
     },
     "execution_count": 1131,
     "metadata": {},
     "output_type": "execute_result"
    }
   ],
   "source": [
    "M,K,N"
   ]
  },
  {
   "cell_type": "code",
   "execution_count": null,
   "metadata": {
    "collapsed": false
   },
   "outputs": [
    {
     "data": {
      "image/png": "[encoded data removed]",
      "text/plain": [
       "<matplotlib.figure.Figure at 0x1194748d0>"
      ]
     },
     "metadata": {},
     "output_type": "display_data"
    }
   ],
   "source": [
    "sns.heatmap(c_out,\n",
    "            xticklabels=False,\n",
    "            yticklabels=False)\n",
    "plt.show()"
   ]
  },
  {
   "cell_type": "code",
   "execution_count": null,
   "metadata": {
    "collapsed": false
   },
   "outputs": [],
   "source": [
    "sns.heatmap(c,\n",
    "            xticklabels=False,\n",
    "            yticklabels=False)\n",
    "plt.show()"
   ]
  },
  {
   "cell_type": "code",
   "execution_count": null,
   "metadata": {
    "collapsed": true
   },
   "outputs": [],
   "source": []
  }
 ],
 "metadata": {
  "kernelspec": {
   "display_name": "Python [conda env:ENVPy3]",
   "language": "python",
   "name": "conda-env-ENVPy3-py"
  },
  "language_info": {
   "codemirror_mode": {
    "name": "ipython",
    "version": 3
   },
   "file_extension": ".py",
   "mimetype": "text/x-python",
   "name": "python",
   "nbconvert_exporter": "python",
   "pygments_lexer": "ipython3",
   "version": "3.5.2"
  }
 },
 "nbformat": 4,
 "nbformat_minor": 2
}
