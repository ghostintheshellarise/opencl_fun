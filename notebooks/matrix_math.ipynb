{
 "cells": [
  {
   "cell_type": "code",
   "execution_count": 1,
   "metadata": {
    "collapsed": true
   },
   "outputs": [],
   "source": [
    "import pyopencl as pcl\n",
    "import os\n",
    "import numpy as np\n",
    "import seaborn as sns\n",
    "import matplotlib.pyplot as plt"
   ]
  },
  {
   "cell_type": "code",
   "execution_count": 2,
   "metadata": {
    "collapsed": false
   },
   "outputs": [],
   "source": [
    "dev = pcl.get_platforms()[0].get_devices()[2]"
   ]
  },
  {
   "cell_type": "code",
   "execution_count": 3,
   "metadata": {
    "collapsed": false
   },
   "outputs": [
    {
     "data": {
      "text/plain": [
       "'AMD Radeon R9 M370X Compute Engine'"
      ]
     },
     "execution_count": 3,
     "metadata": {},
     "output_type": "execute_result"
    }
   ],
   "source": [
    "dev.name"
   ]
  },
  {
   "cell_type": "code",
   "execution_count": 4,
   "metadata": {
    "collapsed": false
   },
   "outputs": [
    {
     "name": "stdout",
     "output_type": "stream",
     "text": [
      "local device memory:  32 KB\n"
     ]
    }
   ],
   "source": [
    "print('local device memory: ', dev.local_mem_size // 1024, 'KB')"
   ]
  },
  {
   "cell_type": "code",
   "execution_count": 5,
   "metadata": {
    "collapsed": false
   },
   "outputs": [
    {
     "data": {
      "text/plain": [
       "256"
      ]
     },
     "execution_count": 5,
     "metadata": {},
     "output_type": "execute_result"
    }
   ],
   "source": [
    "dev.max_work_group_size"
   ]
  },
  {
   "cell_type": "code",
   "execution_count": 6,
   "metadata": {
    "collapsed": false
   },
   "outputs": [
    {
     "name": "stdout",
     "output_type": "stream",
     "text": [
      "True True\n"
     ]
    }
   ],
   "source": [
    "clfile = os.path.abspath(os.path.join('..','src','cl','mmath.cl'))\n",
    "setfile = os.path.abspath(os.path.join('..','src', 'cl', 'settings.h'))\n",
    "print(os.path.isfile(clfile), os.path.isfile(setfile))"
   ]
  },
  {
   "cell_type": "code",
   "execution_count": 7,
   "metadata": {
    "collapsed": true
   },
   "outputs": [],
   "source": [
    "cntx = pcl.Context( [dev])\n",
    "queue = pcl.CommandQueue(cntx)"
   ]
  },
  {
   "cell_type": "code",
   "execution_count": null,
   "metadata": {
    "collapsed": false
   },
   "outputs": [],
   "source": [
    "os.environ['PYOPENCL_COMPILER_OUTPUT'] = '1'\n",
    "with open(clfile,'r') as f:\n",
    "    prgs = pcl.Program(cntx, f.read(),).build(options=[])"
   ]
  },
  {
   "cell_type": "code",
   "execution_count": null,
   "metadata": {
    "collapsed": true
   },
   "outputs": [],
   "source": [
    "inarr = np.random.normal(size=(16,16)).astype(np.float32)"
   ]
  },
  {
   "cell_type": "code",
   "execution_count": null,
   "metadata": {
    "collapsed": true
   },
   "outputs": [],
   "source": [
    "outarr = np.random.normal(size=(16*4,32)).astype(np.float32)"
   ]
  },
  {
   "cell_type": "code",
   "execution_count": null,
   "metadata": {
    "collapsed": true
   },
   "outputs": [],
   "source": [
    "inbuf = pcl.Buffer(cntx, pcl.mem_flags.READ_ONLY | pcl.mem_flags.COPY_HOST_PTR, hostbuf=inarr)\n",
    "outbuf = pcl.Buffer(cntx, pcl.mem_flags.READ_WRITE | pcl.mem_flags.COPY_HOST_PTR, hostbuf=outarr)"
   ]
  },
  {
   "cell_type": "code",
   "execution_count": null,
   "metadata": {
    "collapsed": false
   },
   "outputs": [],
   "source": [
    "e = prgs.zeroPad(queue,\n",
    "                 outarr.shape,\n",
    "                 (16,16),\n",
    "                 np.int32(inarr.shape[0]),\n",
    "                 np.int32(inarr.shape[1]),\n",
    "                 inbuf,\n",
    "                 np.int32(outarr.shape[0]),\n",
    "                 np.int32(outarr.shape[1]), \n",
    "                 outbuf)"
   ]
  },
  {
   "cell_type": "code",
   "execution_count": null,
   "metadata": {
    "collapsed": true
   },
   "outputs": [],
   "source": [
    "e.wait()"
   ]
  },
  {
   "cell_type": "code",
   "execution_count": null,
   "metadata": {
    "collapsed": false
   },
   "outputs": [],
   "source": [
    "pcl.enqueue_copy(queue, outarr, outbuf).wait()"
   ]
  },
  {
   "cell_type": "code",
   "execution_count": null,
   "metadata": {
    "collapsed": false
   },
   "outputs": [],
   "source": [
    "outarr"
   ]
  },
  {
   "cell_type": "code",
   "execution_count": null,
   "metadata": {
    "collapsed": false
   },
   "outputs": [],
   "source": [
    "outarr.shape"
   ]
  },
  {
   "cell_type": "code",
   "execution_count": null,
   "metadata": {
    "collapsed": false
   },
   "outputs": [],
   "source": [
    "sns.heatmap(outarr)\n",
    "plt.show()"
   ]
  },
  {
   "cell_type": "code",
   "execution_count": null,
   "metadata": {
    "collapsed": false
   },
   "outputs": [],
   "source": [
    "outarr.size"
   ]
  },
  {
   "cell_type": "code",
   "execution_count": null,
   "metadata": {
    "collapsed": false
   },
   "outputs": [],
   "source": [
    "outarr[-1,-1]"
   ]
  },
  {
   "cell_type": "code",
   "execution_count": 8,
   "metadata": {
    "collapsed": false
   },
   "outputs": [],
   "source": [
    "os.environ['PYOPENCL_COMPILER_OUTPUT'] = '1'\n",
    "with open(clfile,'r') as f:\n",
    "    prgs = pcl.Program(cntx, f.read(),).build(options=[])"
   ]
  },
  {
   "cell_type": "code",
   "execution_count": 9,
   "metadata": {
    "collapsed": false
   },
   "outputs": [],
   "source": [
    "inarr = np.ones(shape=(16*3,16*6), dtype=np.float32)\n",
    "outarr = np.zeros(shape=(inarr.shape[1],inarr.shape[0]), dtype=np.float32)"
   ]
  },
  {
   "cell_type": "code",
   "execution_count": 10,
   "metadata": {
    "collapsed": true
   },
   "outputs": [],
   "source": [
    "for x in range(inarr.shape[0]):\n",
    "    inarr[x,:] *= (x+1)"
   ]
  },
  {
   "cell_type": "code",
   "execution_count": 11,
   "metadata": {
    "collapsed": false
   },
   "outputs": [],
   "source": [
    "inbuf = pcl.Buffer(cntx, pcl.mem_flags.READ_ONLY | pcl.mem_flags.COPY_HOST_PTR, hostbuf=inarr)\n",
    "outbuf = pcl.Buffer(cntx, pcl.mem_flags.READ_WRITE | pcl.mem_flags.COPY_HOST_PTR, hostbuf=outarr)\n",
    "e = prgs.transpose(queue,\n",
    "                   inarr.shape,\n",
    "                   (16,16),\n",
    "                   np.int32(inarr.shape[0]),\n",
    "                   np.int32(inarr.shape[1]),\n",
    "                   inbuf,\n",
    "                   outbuf)"
   ]
  },
  {
   "cell_type": "code",
   "execution_count": 12,
   "metadata": {
    "collapsed": false
   },
   "outputs": [],
   "source": [
    "e.wait()\n",
    "pcl.enqueue_copy(queue, outarr, outbuf).wait()"
   ]
  },
  {
   "cell_type": "code",
   "execution_count": null,
   "metadata": {
    "collapsed": false
   },
   "outputs": [],
   "source": []
  },
  {
   "cell_type": "code",
   "execution_count": 13,
   "metadata": {
    "collapsed": false
   },
   "outputs": [
    {
     "data": {
      "image/png": "[encoded data removed]",
      "text/plain": [
       "<matplotlib.figure.Figure at 0x114d04da0>"
      ]
     },
     "metadata": {},
     "output_type": "display_data"
    },
    {
     "data": {
      "image/png": "[encoded data removed]",
      "text/plain": [
       "<matplotlib.figure.Figure at 0x114fbd240>"
      ]
     },
     "metadata": {},
     "output_type": "display_data"
    }
   ],
   "source": [
    "sns.heatmap(inarr)\n",
    "plt.show()\n",
    "sns.heatmap(outarr)\n",
    "plt.show()"
   ]
  },
  {
   "cell_type": "code",
   "execution_count": 14,
   "metadata": {
    "collapsed": false
   },
   "outputs": [],
   "source": [
    "os.environ['PYOPENCL_COMPILER_OUTPUT'] = '1'\n",
    "with open(clfile,'r') as f:\n",
    "    prgs = pcl.Program(cntx, f.read(),).build(options=[])"
   ]
  },
  {
   "cell_type": "code",
   "execution_count": 15,
   "metadata": {
    "collapsed": true
   },
   "outputs": [],
   "source": [
    "inarr = np.ones(shape=(16*3,16*2), dtype=np.float32)\n",
    "outarr = np.zeros(shape=(inarr.shape[0]-16,inarr.shape[1]-16), dtype=np.float32)\n",
    "for x in range(inarr.shape[0]):\n",
    "    inarr[x,:] *= (x+1)"
   ]
  },
  {
   "cell_type": "code",
   "execution_count": 16,
   "metadata": {
    "collapsed": true
   },
   "outputs": [],
   "source": [
    "inbuf = pcl.Buffer(cntx, pcl.mem_flags.READ_ONLY | pcl.mem_flags.COPY_HOST_PTR, hostbuf=inarr)\n",
    "outbuf = pcl.Buffer(cntx, pcl.mem_flags.READ_WRITE | pcl.mem_flags.COPY_HOST_PTR, hostbuf=outarr)\n",
    "e = prgs.zeroTrim(queue,\n",
    "                  inarr.shape,\n",
    "                  (16,16),\n",
    "                  np.int32(inarr.shape[0]),\n",
    "                  np.int32(inarr.shape[1]),\n",
    "                  inbuf,\n",
    "                  np.int32(outarr.shape[0]),\n",
    "                  np.int32(outarr.shape[1]),\n",
    "                  outbuf)"
   ]
  },
  {
   "cell_type": "code",
   "execution_count": 17,
   "metadata": {
    "collapsed": true
   },
   "outputs": [],
   "source": [
    "e.wait()\n",
    "pcl.enqueue_copy(queue, outarr, outbuf).wait()"
   ]
  },
  {
   "cell_type": "code",
   "execution_count": 18,
   "metadata": {
    "collapsed": false
   },
   "outputs": [
    {
     "data": {
      "text/plain": [
       "array([[  1.,   1.,   1.,   1.,   1.,   1.,   1.,   1.,   1.,   1.,   1.,\n",
       "          1.,   1.,   1.,   1.,   1.],\n",
       "       [  2.,   2.,   2.,   2.,   2.,   2.,   2.,   2.,   2.,   2.,   2.,\n",
       "          2.,   2.,   2.,   2.,   2.],\n",
       "       [  3.,   3.,   3.,   3.,   3.,   3.,   3.,   3.,   3.,   3.,   3.,\n",
       "          3.,   3.,   3.,   3.,   3.],\n",
       "       [  4.,   4.,   4.,   4.,   4.,   4.,   4.,   4.,   4.,   4.,   4.,\n",
       "          4.,   4.,   4.,   4.,   4.],\n",
       "       [  5.,   5.,   5.,   5.,   5.,   5.,   5.,   5.,   5.,   5.,   5.,\n",
       "          5.,   5.,   5.,   5.,   5.],\n",
       "       [  6.,   6.,   6.,   6.,   6.,   6.,   6.,   6.,   6.,   6.,   6.,\n",
       "          6.,   6.,   6.,   6.,   6.],\n",
       "       [  7.,   7.,   7.,   7.,   7.,   7.,   7.,   7.,   7.,   7.,   7.,\n",
       "          7.,   7.,   7.,   7.,   7.],\n",
       "       [  8.,   8.,   8.,   8.,   8.,   8.,   8.,   8.,   8.,   8.,   8.,\n",
       "          8.,   8.,   8.,   8.,   8.],\n",
       "       [  9.,   9.,   9.,   9.,   9.,   9.,   9.,   9.,   9.,   9.,   9.,\n",
       "          9.,   9.,   9.,   9.,   9.],\n",
       "       [ 10.,  10.,  10.,  10.,  10.,  10.,  10.,  10.,  10.,  10.,  10.,\n",
       "         10.,  10.,  10.,  10.,  10.],\n",
       "       [ 11.,  11.,  11.,  11.,  11.,  11.,  11.,  11.,  11.,  11.,  11.,\n",
       "         11.,  11.,  11.,  11.,  11.],\n",
       "       [ 12.,  12.,  12.,  12.,  12.,  12.,  12.,  12.,  12.,  12.,  12.,\n",
       "         12.,  12.,  12.,  12.,  12.],\n",
       "       [ 13.,  13.,  13.,  13.,  13.,  13.,  13.,  13.,  13.,  13.,  13.,\n",
       "         13.,  13.,  13.,  13.,  13.],\n",
       "       [ 14.,  14.,  14.,  14.,  14.,  14.,  14.,  14.,  14.,  14.,  14.,\n",
       "         14.,  14.,  14.,  14.,  14.],\n",
       "       [ 15.,  15.,  15.,  15.,  15.,  15.,  15.,  15.,  15.,  15.,  15.,\n",
       "         15.,  15.,  15.,  15.,  15.],\n",
       "       [ 16.,  16.,  16.,  16.,  16.,  16.,  16.,  16.,  16.,  16.,  16.,\n",
       "         16.,  16.,  16.,  16.,  16.],\n",
       "       [ 17.,  17.,  17.,  17.,  17.,  17.,  17.,  17.,  17.,  17.,  17.,\n",
       "         17.,  17.,  17.,  17.,  17.],\n",
       "       [ 18.,  18.,  18.,  18.,  18.,  18.,  18.,  18.,  18.,  18.,  18.,\n",
       "         18.,  18.,  18.,  18.,  18.],\n",
       "       [ 19.,  19.,  19.,  19.,  19.,  19.,  19.,  19.,  19.,  19.,  19.,\n",
       "         19.,  19.,  19.,  19.,  19.],\n",
       "       [ 20.,  20.,  20.,  20.,  20.,  20.,  20.,  20.,  20.,  20.,  20.,\n",
       "         20.,  20.,  20.,  20.,  20.],\n",
       "       [ 21.,  21.,  21.,  21.,  21.,  21.,  21.,  21.,  21.,  21.,  21.,\n",
       "         21.,  21.,  21.,  21.,  21.],\n",
       "       [ 22.,  22.,  22.,  22.,  22.,  22.,  22.,  22.,  22.,  22.,  22.,\n",
       "         22.,  22.,  22.,  22.,  22.],\n",
       "       [ 23.,  23.,  23.,  23.,  23.,  23.,  23.,  23.,  23.,  23.,  23.,\n",
       "         23.,  23.,  23.,  23.,  23.],\n",
       "       [ 24.,  24.,  24.,  24.,  24.,  24.,  24.,  24.,  24.,  24.,  24.,\n",
       "         24.,  24.,  24.,  24.,  24.],\n",
       "       [ 25.,  25.,  25.,  25.,  25.,  25.,  25.,  25.,  25.,  25.,  25.,\n",
       "         25.,  25.,  25.,  25.,  25.],\n",
       "       [ 26.,  26.,  26.,  26.,  26.,  26.,  26.,  26.,  26.,  26.,  26.,\n",
       "         26.,  26.,  26.,  26.,  26.],\n",
       "       [ 27.,  27.,  27.,  27.,  27.,  27.,  27.,  27.,  27.,  27.,  27.,\n",
       "         27.,  27.,  27.,  27.,  27.],\n",
       "       [ 28.,  28.,  28.,  28.,  28.,  28.,  28.,  28.,  28.,  28.,  28.,\n",
       "         28.,  28.,  28.,  28.,  28.],\n",
       "       [ 29.,  29.,  29.,  29.,  29.,  29.,  29.,  29.,  29.,  29.,  29.,\n",
       "         29.,  29.,  29.,  29.,  29.],\n",
       "       [ 30.,  30.,  30.,  30.,  30.,  30.,  30.,  30.,  30.,  30.,  30.,\n",
       "         30.,  30.,  30.,  30.,  30.],\n",
       "       [ 31.,  31.,  31.,  31.,  31.,  31.,  31.,  31.,  31.,  31.,  31.,\n",
       "         31.,  31.,  31.,  31.,  31.],\n",
       "       [ 32.,  32.,  32.,  32.,  32.,  32.,  32.,  32.,  32.,  32.,  32.,\n",
       "         32.,  32.,  32.,  32.,  32.]], dtype=float32)"
      ]
     },
     "execution_count": 18,
     "metadata": {},
     "output_type": "execute_result"
    }
   ],
   "source": [
    "outarr"
   ]
  },
  {
   "cell_type": "code",
   "execution_count": 19,
   "metadata": {
    "collapsed": false
   },
   "outputs": [
    {
     "data": {
      "image/png": "[encoded data removed]",
      "text/plain": [
       "<matplotlib.figure.Figure at 0x114fc4748>"
      ]
     },
     "metadata": {},
     "output_type": "display_data"
    },
    {
     "data": {
      "image/png": "[encoded data removed]",
      "text/plain": [
       "<matplotlib.figure.Figure at 0x119c23710>"
      ]
     },
     "metadata": {},
     "output_type": "display_data"
    }
   ],
   "source": [
    "sns.heatmap(inarr)\n",
    "plt.show()\n",
    "sns.heatmap(outarr)\n",
    "plt.show()"
   ]
  },
  {
   "cell_type": "code",
   "execution_count": 20,
   "metadata": {
    "collapsed": false
   },
   "outputs": [],
   "source": [
    "# test the matrix multiplication"
   ]
  },
  {
   "cell_type": "code",
   "execution_count": 223,
   "metadata": {
    "collapsed": false
   },
   "outputs": [],
   "source": [
    "os.environ['PYOPENCL_COMPILER_OUTPUT'] = '1'\n",
    "with open(clfile,'r') as f:\n",
    "    prgs = pcl.Program(cntx, f.read(),).build(options=[])"
   ]
  },
  {
   "cell_type": "code",
   "execution_count": 224,
   "metadata": {
    "collapsed": true
   },
   "outputs": [],
   "source": [
    "M = np.int32(16*(16*1))\n",
    "K = np.int32(16*(16*2))\n",
    "N = np.int32(16*(16*2))\n",
    "\n",
    "\n",
    "a = np.ones(shape=(M, K), dtype=np.float32)\n",
    "b = np.ones(shape=(K, N), dtype=np.float32)\n",
    "for i in range(0, N):\n",
    "    b[:, i] *= (i+1)\n",
    "# a = np.random.normal(size=(M, K)).astype(np.float32)\n",
    "# b = np.random.normal(size=(K, N)).astype(np.float32)"
   ]
  },
  {
   "cell_type": "code",
   "execution_count": 225,
   "metadata": {
    "collapsed": false
   },
   "outputs": [
    {
     "name": "stdout",
     "output_type": "stream",
     "text": [
      "CPU times: user 3.17 ms, sys: 2.15 ms, total: 5.32 ms\n",
      "Wall time: 4.77 ms\n"
     ]
    }
   ],
   "source": [
    "%%time\n",
    "c = a.dot(b)"
   ]
  },
  {
   "cell_type": "code",
   "execution_count": 226,
   "metadata": {
    "collapsed": false
   },
   "outputs": [
    {
     "data": {
      "text/plain": [
       "0.00048828125"
      ]
     },
     "execution_count": 226,
     "metadata": {},
     "output_type": "execute_result"
    }
   ],
   "source": [
    "c.nbytes / (1024**3)"
   ]
  },
  {
   "cell_type": "code",
   "execution_count": 227,
   "metadata": {
    "collapsed": false
   },
   "outputs": [
    {
     "data": {
      "text/plain": [
       "(dtype('float32'), (256, 512))"
      ]
     },
     "execution_count": 227,
     "metadata": {},
     "output_type": "execute_result"
    }
   ],
   "source": [
    "c.dtype, c.shape"
   ]
  },
  {
   "cell_type": "code",
   "execution_count": 228,
   "metadata": {
    "collapsed": false
   },
   "outputs": [],
   "source": [
    "a_buf = pcl.Buffer(cntx, pcl.mem_flags.READ_ONLY | pcl.mem_flags.COPY_HOST_PTR, hostbuf=a)\n",
    "b_buf = pcl.Buffer(cntx, pcl.mem_flags.READ_ONLY | pcl.mem_flags.COPY_HOST_PTR, hostbuf=b)\n",
    "b_trans_buf = pcl.Buffer(cntx, pcl.mem_flags.READ_WRITE, size=b.nbytes)\n",
    "c_buf = pcl.Buffer(cntx, pcl.mem_flags.WRITE_ONLY, size=c.nbytes)"
   ]
  },
  {
   "cell_type": "code",
   "execution_count": 229,
   "metadata": {
    "collapsed": false
   },
   "outputs": [
    {
     "data": {
      "text/plain": [
       "(256, 512, 512)"
      ]
     },
     "execution_count": 229,
     "metadata": {},
     "output_type": "execute_result"
    }
   ],
   "source": [
    "M, K, N"
   ]
  },
  {
   "cell_type": "code",
   "execution_count": 245,
   "metadata": {
    "collapsed": true
   },
   "outputs": [],
   "source": [
    "c_out = np.zeros(shape=c.shape,dtype=np.float32)"
   ]
  },
  {
   "cell_type": "code",
   "execution_count": 246,
   "metadata": {
    "collapsed": false
   },
   "outputs": [
    {
     "name": "stdout",
     "output_type": "stream",
     "text": [
      "CPU times: user 4.44 ms, sys: 1.28 ms, total: 5.72 ms\n",
      "Wall time: 4.69 ms\n"
     ]
    }
   ],
   "source": [
    "%%time\n",
    "# first, transpose b\n",
    "transpose_b_event = prgs.transpose(queue,\n",
    "                                   b.shape, \n",
    "                                   (16,16),\n",
    "                                   np.int32(b.shape[0]),\n",
    "                                   np.int32(b.shape[1]),\n",
    "                                   b_buf,\n",
    "                                   b_trans_buf)\n",
    "\n",
    "# now multiply a and bT\n",
    "# compute the global and local sizes\n",
    "# M = np.int32(a.shape[0])\n",
    "# K = np.int32(a.shape[1])\n",
    "# N = np.int32(b.shape[1])\n",
    "\n",
    "g = (int(M/16), int(N/16))\n",
    "l = (16, 16)\n",
    "\n",
    "# multiply_event = prgs.SPGMM2(queue,\n",
    "#                             g,\n",
    "#                             l,\n",
    "#                             M,\n",
    "#                             N,\n",
    "#                             K,\n",
    "#                             a_buf,\n",
    "#                             b_trans_buf,\n",
    "#                             c_buf)\n",
    "\n",
    "multiply_event = prgs.matrixMul(queue,\n",
    "                                g,\n",
    "                                l,\n",
    "                                c_buf,\n",
    "                                a_buf,\n",
    "                                b_buf,\n",
    "                                K,\n",
    "                                N)\n",
    "\n",
    "\n",
    "\n",
    "\n"
   ]
  },
  {
   "cell_type": "code",
   "execution_count": 247,
   "metadata": {
    "collapsed": false
   },
   "outputs": [
    {
     "name": "stdout",
     "output_type": "stream",
     "text": [
      "CPU times: user 501 µs, sys: 1.12 ms, total: 1.62 ms\n",
      "Wall time: 348 ms\n"
     ]
    }
   ],
   "source": [
    "%%time\n",
    "transpose_b_event.wait()"
   ]
  },
  {
   "cell_type": "code",
   "execution_count": 248,
   "metadata": {
    "collapsed": false
   },
   "outputs": [
    {
     "name": "stdout",
     "output_type": "stream",
     "text": [
      "CPU times: user 161 µs, sys: 58 µs, total: 219 µs\n",
      "Wall time: 168 µs\n"
     ]
    }
   ],
   "source": [
    "%%time\n",
    "multiply_event.wait()"
   ]
  },
  {
   "cell_type": "code",
   "execution_count": 249,
   "metadata": {
    "collapsed": false
   },
   "outputs": [
    {
     "name": "stdout",
     "output_type": "stream",
     "text": [
      "CPU times: user 611 µs, sys: 1.13 ms, total: 1.74 ms\n",
      "Wall time: 940 µs\n"
     ]
    }
   ],
   "source": [
    "%%time\n",
    "pcl.enqueue_copy(queue, c_out, c_buf).wait()"
   ]
  },
  {
   "cell_type": "code",
   "execution_count": 250,
   "metadata": {
    "collapsed": true
   },
   "outputs": [],
   "source": [
    "b_trans_arr = np.zeros(shape=b.T.shape, dtype=np.float32)\n",
    "pcl.enqueue_copy(queue, b_trans_arr, b_trans_buf).wait()"
   ]
  },
  {
   "cell_type": "code",
   "execution_count": 251,
   "metadata": {
    "collapsed": false
   },
   "outputs": [
    {
     "data": {
      "text/plain": [
       "True"
      ]
     },
     "execution_count": 251,
     "metadata": {},
     "output_type": "execute_result"
    }
   ],
   "source": [
    "(b.T == b_trans_arr).all()"
   ]
  },
  {
   "cell_type": "code",
   "execution_count": 252,
   "metadata": {
    "collapsed": false
   },
   "outputs": [
    {
     "data": {
      "text/plain": [
       "array([[  5.12000000e+02,   1.02400000e+03,   1.53600000e+03, ...,\n",
       "         -2.19235473e-04,  -5.10447363e-14,  -5.10447363e-14],\n",
       "       [  5.12000000e+02,   1.02400000e+03,   1.53600000e+03, ...,\n",
       "         -5.10447363e-14,  -5.10447363e-14,  -5.10447363e-14],\n",
       "       [  5.12000000e+02,   1.02400000e+03,   1.53600000e+03, ...,\n",
       "         -5.10447363e-14,  -5.10447363e-14,  -5.10447363e-14],\n",
       "       ..., \n",
       "       [ -3.17465100e+11,  -3.17465100e+11,  -3.17465100e+11, ...,\n",
       "         -5.10447363e-14,  -5.10447363e-14,  -5.10447363e-14],\n",
       "       [ -3.17465100e+11,  -3.17465100e+11,  -3.17465100e+11, ...,\n",
       "         -5.10447363e-14,  -5.10447363e-14,  -5.10447363e-14],\n",
       "       [ -3.17465100e+11,  -3.17465100e+11,  -3.17465100e+11, ...,\n",
       "         -5.10447363e-14,  -5.10447363e-14,  -5.10447363e-14]], dtype=float32)"
      ]
     },
     "execution_count": 252,
     "metadata": {},
     "output_type": "execute_result"
    }
   ],
   "source": [
    "c_out"
   ]
  },
  {
   "cell_type": "code",
   "execution_count": 253,
   "metadata": {
    "collapsed": false
   },
   "outputs": [
    {
     "data": {
      "text/plain": [
       "False"
      ]
     },
     "execution_count": 253,
     "metadata": {},
     "output_type": "execute_result"
    }
   ],
   "source": [
    "(c_out == c).all()"
   ]
  },
  {
   "cell_type": "code",
   "execution_count": 254,
   "metadata": {
    "collapsed": false
   },
   "outputs": [
    {
     "data": {
      "text/plain": [
       "True"
      ]
     },
     "execution_count": 254,
     "metadata": {},
     "output_type": "execute_result"
    }
   ],
   "source": [
    "c_out.shape == c.shape"
   ]
  },
  {
   "cell_type": "code",
   "execution_count": 255,
   "metadata": {
    "collapsed": false
   },
   "outputs": [
    {
     "data": {
      "text/plain": [
       "array([[  0.00000000e+00,   0.00000000e+00,   0.00000000e+00, ...,\n",
       "         -2.61120000e+05,  -2.61632000e+05,  -2.62144000e+05],\n",
       "       [  0.00000000e+00,   0.00000000e+00,   0.00000000e+00, ...,\n",
       "         -2.61120000e+05,  -2.61632000e+05,  -2.62144000e+05],\n",
       "       [  0.00000000e+00,   0.00000000e+00,   0.00000000e+00, ...,\n",
       "         -2.61120000e+05,  -2.61632000e+05,  -2.62144000e+05],\n",
       "       ..., \n",
       "       [ -3.17465100e+11,  -3.17465100e+11,  -3.17465100e+11, ...,\n",
       "         -2.61120000e+05,  -2.61632000e+05,  -2.62144000e+05],\n",
       "       [ -3.17465100e+11,  -3.17465100e+11,  -3.17465100e+11, ...,\n",
       "         -2.61120000e+05,  -2.61632000e+05,  -2.62144000e+05],\n",
       "       [ -3.17465100e+11,  -3.17465100e+11,  -3.17465100e+11, ...,\n",
       "         -2.61120000e+05,  -2.61632000e+05,  -2.62144000e+05]], dtype=float32)"
      ]
     },
     "execution_count": 255,
     "metadata": {},
     "output_type": "execute_result"
    }
   ],
   "source": [
    "c_out - c "
   ]
  },
  {
   "cell_type": "code",
   "execution_count": 256,
   "metadata": {
    "collapsed": false
   },
   "outputs": [
    {
     "data": {
      "text/plain": [
       "(16, 32)"
      ]
     },
     "execution_count": 256,
     "metadata": {},
     "output_type": "execute_result"
    }
   ],
   "source": [
    "g"
   ]
  },
  {
   "cell_type": "code",
   "execution_count": 257,
   "metadata": {
    "collapsed": false
   },
   "outputs": [
    {
     "data": {
      "text/plain": [
       "(256, 512, 512)"
      ]
     },
     "execution_count": 257,
     "metadata": {},
     "output_type": "execute_result"
    }
   ],
   "source": [
    "M,K,N"
   ]
  },
  {
   "cell_type": "code",
   "execution_count": 258,
   "metadata": {
    "collapsed": false
   },
   "outputs": [
    {
     "data": {
      "image/png": "[encoded data removed]",
      "text/plain": [
       "<matplotlib.figure.Figure at 0x1156ddf98>"
      ]
     },
     "metadata": {},
     "output_type": "display_data"
    }
   ],
   "source": [
    "sns.heatmap(c_out,\n",
    "            xticklabels=False,\n",
    "            yticklabels=False)\n",
    "plt.show()"
   ]
  },
  {
   "cell_type": "code",
   "execution_count": 244,
   "metadata": {
    "collapsed": false
   },
   "outputs": [
    {
     "data": {
      "image/png": "[encoded data removed]",
      "text/plain": [
       "<matplotlib.figure.Figure at 0x11a0e0da0>"
      ]
     },
     "metadata": {},
     "output_type": "display_data"
    }
   ],
   "source": [
    "sns.heatmap(c,\n",
    "            xticklabels=False,\n",
    "            yticklabels=False)\n",
    "plt.show()"
   ]
  },
  {
   "cell_type": "code",
   "execution_count": null,
   "metadata": {
    "collapsed": true
   },
   "outputs": [],
   "source": []
  }
 ],
 "metadata": {
  "kernelspec": {
   "display_name": "Python [conda env:ENVPy3]",
   "language": "python",
   "name": "conda-env-ENVPy3-py"
  },
  "language_info": {
   "codemirror_mode": {
    "name": "ipython",
    "version": 3
   },
   "file_extension": ".py",
   "mimetype": "text/x-python",
   "name": "python",
   "nbconvert_exporter": "python",
   "pygments_lexer": "ipython3",
   "version": "3.5.2"
  }
 },
 "nbformat": 4,
 "nbformat_minor": 2
}
