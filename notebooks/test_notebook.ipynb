{
 "cells": [
  {
   "cell_type": "markdown",
   "metadata": {},
   "source": [
    "# First pyopencl notebook and program\n",
    "[Based on the code from this blog post.](https://karthikhegde.blogspot.com/2013/09/hope-you-liked-previous-introductory.html)"
   ]
  },
  {
   "cell_type": "code",
   "execution_count": 4,
   "metadata": {
    "collapsed": true
   },
   "outputs": [],
   "source": [
    "import os\n",
    "import pyopencl as pcl\n",
    "import numpy as np"
   ]
  },
  {
   "cell_type": "code",
   "execution_count": 54,
   "metadata": {
    "collapsed": false
   },
   "outputs": [
    {
     "name": "stdout",
     "output_type": "stream",
     "text": [
      "Intel(R) Core(TM) i7-4870HQ CPU @ 2.50GHz CPU 17.179869184\n",
      "Iris Pro GPU 1.610612736\n",
      "AMD Radeon R9 M370X Compute Engine GPU 2.147483648\n"
     ]
    }
   ],
   "source": [
    "# let's try to find available devices\n",
    "platforms = pcl.get_platforms()\n",
    "for p in platforms:\n",
    "    devs = p.get_devices()\n",
    "    for d in devs:\n",
    "        print(d.name, pcl.device_type.to_string(d.type), d.global_mem_size / 10**9)"
   ]
  },
  {
   "cell_type": "code",
   "execution_count": 55,
   "metadata": {
    "collapsed": true
   },
   "outputs": [],
   "source": [
    "# let's select the AMD radeon card in this case\n",
    "dev=None\n",
    "for p in pcl.get_platforms():\n",
    "    devs = p.get_devices()\n",
    "    for d in devs:\n",
    "        if pcl.device_type.to_string(d.type) == 'GPU' and (d.global_mem_size / 10**9) > 2.0:\n",
    "            dev = d"
   ]
  },
  {
   "cell_type": "code",
   "execution_count": 57,
   "metadata": {
    "collapsed": false
   },
   "outputs": [
    {
     "data": {
      "text/plain": [
       "'AMD Radeon R9 M370X Compute Engine'"
      ]
     },
     "execution_count": 57,
     "metadata": {},
     "output_type": "execute_result"
    }
   ],
   "source": [
    "print(dev.name)"
   ]
  },
  {
   "cell_type": "code",
   "execution_count": 74,
   "metadata": {
    "collapsed": false
   },
   "outputs": [],
   "source": [
    "# make the opencl context\n",
    "# cntx = pcl.create_some_context()\n",
    "cntx = pcl.Context(devices=[dev])\n",
    "queue = pcl.CommandQueue(cntx, device=dev)"
   ]
  },
  {
   "cell_type": "code",
   "execution_count": 75,
   "metadata": {
    "collapsed": true
   },
   "outputs": [],
   "source": [
    "# make the numpy arrays\n",
    "n1 = np.arange(0, 10, dtype=np.int32)\n",
    "n2 = np.arange(0, 10, dtype=np.int32)\n",
    "out = np.empty(shape = n1.shape, dtype=np.int32)"
   ]
  },
  {
   "cell_type": "code",
   "execution_count": 76,
   "metadata": {
    "collapsed": true
   },
   "outputs": [],
   "source": [
    "# create the opencl buffers\n",
    "n1_buf = pcl.Buffer(cntx, pcl.mem_flags.READ_ONLY | pcl.mem_flags.COPY_HOST_PTR, hostbuf=n1)\n",
    "n2_buf = pcl.Buffer(cntx, pcl.mem_flags.READ_ONLY | pcl.mem_flags.COPY_HOST_PTR, hostbuf=n2)\n",
    "out_buf = pcl.Buffer(cntx, pcl.mem_flags.WRITE_ONLY, out.nbytes)"
   ]
  },
  {
   "cell_type": "code",
   "execution_count": 77,
   "metadata": {
    "collapsed": false
   },
   "outputs": [
    {
     "data": {
      "text/plain": [
       "True"
      ]
     },
     "execution_count": 77,
     "metadata": {},
     "output_type": "execute_result"
    }
   ],
   "source": [
    "# get the location of the opencl code\n",
    "first_cl_file = os.path.join('..', 'src', 'cl', 'first.cl')\n",
    "os.path.isfile(first_cl_file)"
   ]
  },
  {
   "cell_type": "code",
   "execution_count": 78,
   "metadata": {
    "collapsed": true
   },
   "outputs": [],
   "source": [
    "# build the kernel\n",
    "with open(first_cl_file, 'r') as f:\n",
    "    build = pcl.Program(cntx, f.read()).build()\n",
    "    "
   ]
  },
  {
   "cell_type": "code",
   "execution_count": 79,
   "metadata": {
    "collapsed": false
   },
   "outputs": [],
   "source": [
    "# launch the kernel\n",
    "launch = build.first(queue, n1.shape, n2.shape, n1_buf, n2_buf, out_buf)"
   ]
  },
  {
   "cell_type": "code",
   "execution_count": 80,
   "metadata": {
    "collapsed": true
   },
   "outputs": [],
   "source": [
    "launch.wait()"
   ]
  },
  {
   "cell_type": "code",
   "execution_count": 81,
   "metadata": {
    "collapsed": false
   },
   "outputs": [],
   "source": [
    "# read the output\n",
    "pcl.enqueue_copy(queue, out, out_buf).wait()"
   ]
  },
  {
   "cell_type": "code",
   "execution_count": 82,
   "metadata": {
    "collapsed": false
   },
   "outputs": [
    {
     "data": {
      "text/plain": [
       "array([  0,   2,   8,  18,  32,  50,  72,  98, 128, 162], dtype=int32)"
      ]
     },
     "execution_count": 82,
     "metadata": {},
     "output_type": "execute_result"
    }
   ],
   "source": [
    "print(out)"
   ]
  },
  {
   "cell_type": "code",
   "execution_count": 88,
   "metadata": {
    "collapsed": false
   },
   "outputs": [
    {
     "name": "stdout",
     "output_type": "stream",
     "text": [
      "[NbConvertApp] Converting notebook test_notebook.ipynb to script\n",
      "[NbConvertApp] Writing 2079 bytes to ../scripts/test_script.py\n"
     ]
    }
   ],
   "source": [
    "# save this notebook to a script\n",
    "!jupyter nbconvert --to script test_notebook.ipynb --output='../scripts/test_script'"
   ]
  },
  {
   "cell_type": "code",
   "execution_count": 86,
   "metadata": {
    "collapsed": false
   },
   "outputs": [],
   "source": [
    "# !jupyter nbconvert --help"
   ]
  },
  {
   "cell_type": "code",
   "execution_count": null,
   "metadata": {
    "collapsed": true
   },
   "outputs": [],
   "source": []
  }
 ],
 "metadata": {
  "kernelspec": {
   "display_name": "Python [conda env:ENVPy3]",
   "language": "python",
   "name": "conda-env-ENVPy3-py"
  },
  "language_info": {
   "codemirror_mode": {
    "name": "ipython",
    "version": 3
   },
   "file_extension": ".py",
   "mimetype": "text/x-python",
   "name": "python",
   "nbconvert_exporter": "python",
   "pygments_lexer": "ipython3",
   "version": "3.5.2"
  }
 },
 "nbformat": 4,
 "nbformat_minor": 2
}
