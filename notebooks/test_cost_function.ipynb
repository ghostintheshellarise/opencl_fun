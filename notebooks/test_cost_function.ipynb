{
 "cells": [
  {
   "cell_type": "code",
   "execution_count": 1,
   "metadata": {
    "collapsed": true
   },
   "outputs": [],
   "source": [
    "import os\n",
    "import pyopencl as pcl\n",
    "import numpy as np"
   ]
  },
  {
   "cell_type": "code",
   "execution_count": 2,
   "metadata": {
    "collapsed": false
   },
   "outputs": [
    {
     "name": "stdout",
     "output_type": "stream",
     "text": [
      "Intel(R) Core(TM) i7-4870HQ CPU @ 2.50GHz CPU 17.179869184\n",
      "Iris Pro GPU 1.610612736\n",
      "AMD Radeon R9 M370X Compute Engine GPU 2.147483648\n"
     ]
    }
   ],
   "source": [
    "# let's try to find available devices\n",
    "platforms = pcl.get_platforms()\n",
    "for p in platforms:\n",
    "    devs = p.get_devices()\n",
    "    for d in devs:\n",
    "        print(d.name, pcl.device_type.to_string(d.type), d.global_mem_size / 10**9)\n",
    "\n",
    "# let's select the AMD radeon card in this case\n",
    "dev=None\n",
    "for p in pcl.get_platforms():\n",
    "    devs = p.get_devices()\n",
    "    for d in devs:\n",
    "        if pcl.device_type.to_string(d.type) == 'GPU' and (d.global_mem_size / 10**9) > 2.0:\n",
    "            dev = d\n",
    "            \n",
    "# make the opencl context\n",
    "# cntx = pcl.create_some_context()\n",
    "cntx = pcl.Context(devices=[dev])\n",
    "queue = pcl.CommandQueue(cntx, device=dev)"
   ]
  },
  {
   "cell_type": "code",
   "execution_count": 4,
   "metadata": {
    "collapsed": false
   },
   "outputs": [
    {
     "data": {
      "text/plain": [
       "True"
      ]
     },
     "execution_count": 4,
     "metadata": {},
     "output_type": "execute_result"
    }
   ],
   "source": [
    "# get the location of the opencl code\n",
    "ols_cl_file = os.path.join('..', 'src', 'cl', 'ols_cost.cl')\n",
    "os.path.isfile(ols_cl_file)"
   ]
  },
  {
   "cell_type": "code",
   "execution_count": 217,
   "metadata": {
    "collapsed": false
   },
   "outputs": [
    {
     "name": "stdout",
     "output_type": "stream",
     "text": [
      "// #include <math.h>\n",
      "\n",
      "float dotproduct(__global float * a, __global float * b, int size)\n",
      "{\n",
      "  float out = 0.0;\n",
      "\n",
      "  for (int i = 0; i<size; i++){\n",
      "    out += a[i] * b[i];\n",
      "  }\n",
      "\n",
      "  return out;\n",
      "\n",
      "}\n",
      "\n",
      "\n",
      "float ols_cost_loc(__global float * x, __global float * theta, float y, int xsize)\n",
      "{\n",
      "  // cost = \\sum (x * theta - y)**2\n",
      "\n",
      "  float estimate = dotproduct(x, theta, xsize);\n",
      "  float cost = powf(estimate - y, 2.0);\n",
      "\n",
      "  return cost;\n",
      "}\n",
      "\n",
      "float compute_avg(float * vector, int size)\n",
      "{\n",
      "  float sum = 0.0;\n",
      "  for(int i = 0; i < size; i++){\n",
      "    sum += vector[i];\n",
      "  }\n",
      "\n",
      "  float avg = sum;\n",
      "  return avg;\n",
      "}\n",
      "\n",
      "\n",
      "\n",
      "__kernel void ols_cost(__global float * X, __global float * theta, __global float * y, __global float * cost, const int nrows, const int ncols)\n",
      "{\n",
      "  // here we are taking X to be a 2 dimensional array, tranlated from a row-majored indexed array\n",
      "  // theta is a 1 dimensional vector and we are doing matrix multiplication, X * theta\n",
      "  //\n",
      "\n",
      "  int row_id = get_global_id(0);\n",
      "\n",
      "  // float scratch_cost[nrows];\n",
      "\n",
      "  cost[row_id] = ols_cost_loc(&X[row_id * ncols], theta, y[row_id], ncols);\n",
      "\n",
      "  // float avg_cost = compute_avg(scratch_cost, nrows);\n",
      "\n",
      "  // cost[0] = avg_cost;\n",
      "\n",
      "}\n",
      "\n"
     ]
    },
    {
     "name": "stderr",
     "output_type": "stream",
     "text": [
      "/Users/antalek/anaconda/envs/ENVPy3/lib/python3.5/site-packages/pyopencl/cffi_cl.py:1476: CompilerWarning: Non-empty compiler output encountered. Set the environment variable PYOPENCL_COMPILER_OUTPUT=1 to see more.\n",
      "  \"to see more.\", CompilerWarning)\n"
     ]
    }
   ],
   "source": [
    "# build the kernel\n",
    "with open(ols_cl_file, 'r') as f:\n",
    "    programs = pcl.Program(cntx, f.read()).build()\n",
    "    f.seek(0)\n",
    "    print(f.read())"
   ]
  },
  {
   "cell_type": "code",
   "execution_count": 225,
   "metadata": {
    "collapsed": false
   },
   "outputs": [],
   "source": [
    "\n",
    "X = np.random.normal(size=(100, 2))\n",
    "X[:, 0] = 1.0 # this is for the intercept\n",
    "theta = np.random.normal(size=(2,1))\n",
    "\n",
    "y = X.dot(theta) + np.random.normal(scale=0.06, size=(100,1))"
   ]
  },
  {
   "cell_type": "code",
   "execution_count": 226,
   "metadata": {
    "collapsed": false
   },
   "outputs": [
    {
     "data": {
      "text/plain": [
       "((100, 1), (100, 1))"
      ]
     },
     "execution_count": 226,
     "metadata": {},
     "output_type": "execute_result"
    }
   ],
   "source": [
    "X.dot(theta).shape, y.shape"
   ]
  },
  {
   "cell_type": "code",
   "execution_count": 227,
   "metadata": {
    "collapsed": false
   },
   "outputs": [
    {
     "data": {
      "image/png": "[encoded data removed]",
      "text/plain": [
       "<matplotlib.figure.Figure at 0x114dba630>"
      ]
     },
     "metadata": {},
     "output_type": "display_data"
    }
   ],
   "source": [
    "import matplotlib.pyplot as plt\n",
    "plt.scatter(X.dot(theta), y)\n",
    "plt.show()"
   ]
  },
  {
   "cell_type": "code",
   "execution_count": 228,
   "metadata": {
    "collapsed": true
   },
   "outputs": [],
   "source": [
    "# calculate the cost myself\n",
    "\n",
    "def cost(X, theta, y):\n",
    "    est = X.dot(theta)\n",
    "    cost = ((est - y)**2.0).sum()\n",
    "    return cost"
   ]
  },
  {
   "cell_type": "code",
   "execution_count": 229,
   "metadata": {
    "collapsed": true
   },
   "outputs": [],
   "source": [
    "X = X.astype(np.float32)\n",
    "theta = theta.astype(np.float32)\n",
    "y = y.astype(np.float32)"
   ]
  },
  {
   "cell_type": "code",
   "execution_count": 230,
   "metadata": {
    "collapsed": false
   },
   "outputs": [],
   "source": [
    "my_cost = cost(X, theta, y)"
   ]
  },
  {
   "cell_type": "code",
   "execution_count": 231,
   "metadata": {
    "collapsed": false
   },
   "outputs": [
    {
     "data": {
      "text/plain": [
       "0.35872501"
      ]
     },
     "execution_count": 231,
     "metadata": {},
     "output_type": "execute_result"
    }
   ],
   "source": [
    "my_cost = np.float32(my_cost)\n",
    "my_cost"
   ]
  },
  {
   "cell_type": "code",
   "execution_count": 232,
   "metadata": {
    "collapsed": true
   },
   "outputs": [],
   "source": [
    "#ok let's see if this works"
   ]
  },
  {
   "cell_type": "code",
   "execution_count": 233,
   "metadata": {
    "collapsed": false
   },
   "outputs": [
    {
     "data": {
      "text/plain": [
       "((100, 2), (2, 1), (100, 1))"
      ]
     },
     "execution_count": 233,
     "metadata": {},
     "output_type": "execute_result"
    }
   ],
   "source": [
    "X.shape, theta.shape, y.shape"
   ]
  },
  {
   "cell_type": "code",
   "execution_count": 244,
   "metadata": {
    "collapsed": true
   },
   "outputs": [],
   "source": [
    "test_cost = -100.0 * np.ones(shape=y.shape, dtype=np.float32)"
   ]
  },
  {
   "cell_type": "code",
   "execution_count": 245,
   "metadata": {
    "collapsed": false
   },
   "outputs": [
    {
     "data": {
      "text/plain": [
       "array([[-100.],\n",
       "       [-100.],\n",
       "       [-100.],\n",
       "       [-100.],\n",
       "       [-100.],\n",
       "       [-100.],\n",
       "       [-100.],\n",
       "       [-100.],\n",
       "       [-100.],\n",
       "       [-100.],\n",
       "       [-100.],\n",
       "       [-100.],\n",
       "       [-100.],\n",
       "       [-100.],\n",
       "       [-100.],\n",
       "       [-100.],\n",
       "       [-100.],\n",
       "       [-100.],\n",
       "       [-100.],\n",
       "       [-100.],\n",
       "       [-100.],\n",
       "       [-100.],\n",
       "       [-100.],\n",
       "       [-100.],\n",
       "       [-100.],\n",
       "       [-100.],\n",
       "       [-100.],\n",
       "       [-100.],\n",
       "       [-100.],\n",
       "       [-100.],\n",
       "       [-100.],\n",
       "       [-100.],\n",
       "       [-100.],\n",
       "       [-100.],\n",
       "       [-100.],\n",
       "       [-100.],\n",
       "       [-100.],\n",
       "       [-100.],\n",
       "       [-100.],\n",
       "       [-100.],\n",
       "       [-100.],\n",
       "       [-100.],\n",
       "       [-100.],\n",
       "       [-100.],\n",
       "       [-100.],\n",
       "       [-100.],\n",
       "       [-100.],\n",
       "       [-100.],\n",
       "       [-100.],\n",
       "       [-100.],\n",
       "       [-100.],\n",
       "       [-100.],\n",
       "       [-100.],\n",
       "       [-100.],\n",
       "       [-100.],\n",
       "       [-100.],\n",
       "       [-100.],\n",
       "       [-100.],\n",
       "       [-100.],\n",
       "       [-100.],\n",
       "       [-100.],\n",
       "       [-100.],\n",
       "       [-100.],\n",
       "       [-100.],\n",
       "       [-100.],\n",
       "       [-100.],\n",
       "       [-100.],\n",
       "       [-100.],\n",
       "       [-100.],\n",
       "       [-100.],\n",
       "       [-100.],\n",
       "       [-100.],\n",
       "       [-100.],\n",
       "       [-100.],\n",
       "       [-100.],\n",
       "       [-100.],\n",
       "       [-100.],\n",
       "       [-100.],\n",
       "       [-100.],\n",
       "       [-100.],\n",
       "       [-100.],\n",
       "       [-100.],\n",
       "       [-100.],\n",
       "       [-100.],\n",
       "       [-100.],\n",
       "       [-100.],\n",
       "       [-100.],\n",
       "       [-100.],\n",
       "       [-100.],\n",
       "       [-100.],\n",
       "       [-100.],\n",
       "       [-100.],\n",
       "       [-100.],\n",
       "       [-100.],\n",
       "       [-100.],\n",
       "       [-100.],\n",
       "       [-100.],\n",
       "       [-100.],\n",
       "       [-100.],\n",
       "       [-100.]], dtype=float32)"
      ]
     },
     "execution_count": 245,
     "metadata": {},
     "output_type": "execute_result"
    }
   ],
   "source": [
    "test_cost"
   ]
  },
  {
   "cell_type": "code",
   "execution_count": 246,
   "metadata": {
    "collapsed": true
   },
   "outputs": [],
   "source": [
    "X_buf = pcl.Buffer(cntx, pcl.mem_flags.READ_ONLY | pcl.mem_flags.COPY_HOST_PTR, hostbuf=X)\n",
    "theta_buf = pcl.Buffer(cntx, pcl.mem_flags.READ_ONLY | pcl.mem_flags.COPY_HOST_PTR, hostbuf=theta)\n",
    "y_buf = pcl.Buffer(cntx, pcl.mem_flags.READ_ONLY | pcl.mem_flags.COPY_HOST_PTR, hostbuf=y)\n",
    "cost_out = pcl.Buffer(cntx, pcl.mem_flags.WRITE_ONLY, size=test_cost.nbytes)"
   ]
  },
  {
   "cell_type": "code",
   "execution_count": 247,
   "metadata": {
    "collapsed": false
   },
   "outputs": [],
   "source": [
    "execute_event = programs.ols_cost(queue,\n",
    "                                  X.shape,\n",
    "                                  None, \n",
    "                                  X_buf,\n",
    "                                  theta_buf,\n",
    "                                  y_buf,\n",
    "                                  cost_out,\n",
    "                                  np.int32(X.shape[0]),\n",
    "                                  np.int32(X.shape[1]))"
   ]
  },
  {
   "cell_type": "code",
   "execution_count": 248,
   "metadata": {
    "collapsed": true
   },
   "outputs": [],
   "source": [
    "execute_event.wait()"
   ]
  },
  {
   "cell_type": "code",
   "execution_count": 249,
   "metadata": {
    "collapsed": true
   },
   "outputs": [],
   "source": [
    "pcl.enqueue_copy(queue, test_cost, cost_out).wait()"
   ]
  },
  {
   "cell_type": "code",
   "execution_count": 250,
   "metadata": {
    "collapsed": false
   },
   "outputs": [
    {
     "data": {
      "text/plain": [
       "array([[  2.49697408e-03],\n",
       "       [  1.94909088e-02],\n",
       "       [  4.35944181e-04],\n",
       "       [  3.97069287e-03],\n",
       "       [  3.35479295e-03],\n",
       "       [  5.14182681e-03],\n",
       "       [  8.66965449e-04],\n",
       "       [  2.55339104e-03],\n",
       "       [  5.04717790e-03],\n",
       "       [  3.98425572e-03],\n",
       "       [  4.21076220e-05],\n",
       "       [  3.88245471e-03],\n",
       "       [  5.84067820e-05],\n",
       "       [  2.80453940e-04],\n",
       "       [  7.65591208e-03],\n",
       "       [  3.53358395e-04],\n",
       "       [  4.94982116e-04],\n",
       "       [  5.04726125e-03],\n",
       "       [  2.97157065e-04],\n",
       "       [  7.04326318e-04],\n",
       "       [  2.92315520e-03],\n",
       "       [  5.23854178e-05],\n",
       "       [  7.54144508e-03],\n",
       "       [  7.93326180e-05],\n",
       "       [  4.26987046e-03],\n",
       "       [  5.05586620e-03],\n",
       "       [  2.68554781e-04],\n",
       "       [  2.24166038e-03],\n",
       "       [  2.60765525e-03],\n",
       "       [  6.83953520e-03],\n",
       "       [  7.18056690e-04],\n",
       "       [  1.12047363e-02],\n",
       "       [  4.70337179e-03],\n",
       "       [  6.92913949e-04],\n",
       "       [  1.96224555e-05],\n",
       "       [  3.11884633e-03],\n",
       "       [  1.02000870e-02],\n",
       "       [  4.31211805e-03],\n",
       "       [  6.12869098e-06],\n",
       "       [  6.89585460e-04],\n",
       "       [  3.73599725e-03],\n",
       "       [  1.15028229e-02],\n",
       "       [  2.06766184e-03],\n",
       "       [  5.22614610e-05],\n",
       "       [  9.84333928e-06],\n",
       "       [  2.22621093e-05],\n",
       "       [  6.00741769e-05],\n",
       "       [  8.21689435e-04],\n",
       "       [  1.52186933e-03],\n",
       "       [  1.01685547e-03],\n",
       "       [  4.80192760e-03],\n",
       "       [  1.25565764e-03],\n",
       "       [  2.41398020e-03],\n",
       "       [  1.65705915e-05],\n",
       "       [  9.42685700e-04],\n",
       "       [  3.53241409e-03],\n",
       "       [  1.06121530e-04],\n",
       "       [  2.18569548e-04],\n",
       "       [  8.84621913e-05],\n",
       "       [  1.54193037e-03],\n",
       "       [  1.21823116e-03],\n",
       "       [  1.06529824e-05],\n",
       "       [  7.11818412e-03],\n",
       "       [  7.57231610e-03],\n",
       "       [  2.51218426e-05],\n",
       "       [  8.91665928e-03],\n",
       "       [  1.14420112e-02],\n",
       "       [  7.97719345e-04],\n",
       "       [  6.46672724e-03],\n",
       "       [  6.75634854e-03],\n",
       "       [  9.32597648e-03],\n",
       "       [  1.11393034e-02],\n",
       "       [  7.51268771e-03],\n",
       "       [  9.32226831e-04],\n",
       "       [  1.70471030e-05],\n",
       "       [  1.43573182e-02],\n",
       "       [  2.73027248e-03],\n",
       "       [  7.86945969e-03],\n",
       "       [  3.94995278e-03],\n",
       "       [  7.90516101e-03],\n",
       "       [  6.06209552e-03],\n",
       "       [  1.14513775e-02],\n",
       "       [  2.82913570e-05],\n",
       "       [  1.25265436e-03],\n",
       "       [  3.09275521e-04],\n",
       "       [  8.95692268e-04],\n",
       "       [  4.13256057e-04],\n",
       "       [  6.88146160e-04],\n",
       "       [  1.91339781e-03],\n",
       "       [  7.98705220e-03],\n",
       "       [  1.63596924e-04],\n",
       "       [  2.44872208e-04],\n",
       "       [  3.35411984e-03],\n",
       "       [  5.31460973e-04],\n",
       "       [  2.23200957e-04],\n",
       "       [  4.55537345e-04],\n",
       "       [  1.92179717e-02],\n",
       "       [  1.02331385e-03],\n",
       "       [  1.68887991e-02],\n",
       "       [  1.23596299e-04]], dtype=float32)"
      ]
     },
     "execution_count": 250,
     "metadata": {},
     "output_type": "execute_result"
    }
   ],
   "source": [
    "test_cost"
   ]
  },
  {
   "cell_type": "code",
   "execution_count": 251,
   "metadata": {
    "collapsed": false
   },
   "outputs": [
    {
     "data": {
      "text/plain": [
       "0.35872501"
      ]
     },
     "execution_count": 251,
     "metadata": {},
     "output_type": "execute_result"
    }
   ],
   "source": [
    "my_cost"
   ]
  },
  {
   "cell_type": "code",
   "execution_count": 252,
   "metadata": {
    "collapsed": false
   },
   "outputs": [
    {
     "data": {
      "text/plain": [
       "0.35872501"
      ]
     },
     "execution_count": 252,
     "metadata": {},
     "output_type": "execute_result"
    }
   ],
   "source": [
    "test_cost.sum()"
   ]
  },
  {
   "cell_type": "code",
   "execution_count": null,
   "metadata": {
    "collapsed": true
   },
   "outputs": [],
   "source": [
    "# hey it works!\n",
    "# now I need to see if there is some way to compute the sum on the gpu and get that number\n",
    "# instead of transfering the data back and then computing the sum...."
   ]
  }
 ],
 "metadata": {
  "kernelspec": {
   "display_name": "Python [conda env:ENVPy3]",
   "language": "python",
   "name": "conda-env-ENVPy3-py"
  },
  "language_info": {
   "codemirror_mode": {
    "name": "ipython",
    "version": 3
   },
   "file_extension": ".py",
   "mimetype": "text/x-python",
   "name": "python",
   "nbconvert_exporter": "python",
   "pygments_lexer": "ipython3",
   "version": "3.5.2"
  }
 },
 "nbformat": 4,
 "nbformat_minor": 2
}
