{
 "cells": [
  {
   "cell_type": "code",
   "execution_count": 1,
   "metadata": {
    "collapsed": true
   },
   "outputs": [],
   "source": [
    "import os\n",
    "import pyopencl as pcl\n",
    "import numpy as np\n",
    "\n",
    "# let's try to find available devices\n",
    "platforms = pcl.get_platforms()\n",
    "for p in platforms:\n",
    "    devs = p.get_devices()\n",
    "    for d in devs:\n",
    "        print(d.name, pcl.device_type.to_string(d.type), d.global_mem_size / 10**9)\n",
    "\n",
    "# let's select the AMD radeon card in this case\n",
    "dev=None\n",
    "for p in pcl.get_platforms():\n",
    "    devs = p.get_devices()\n",
    "    for d in devs:\n",
    "        if pcl.device_type.to_string(d.type) == 'GPU' and (d.global_mem_size / 10**9) > 2.0:\n",
    "            dev = d\n",
    "            \n",
    "# make the opencl context\n",
    "# cntx = pcl.create_some_context()\n",
    "cntx = pcl.Context(devices=[dev])\n",
    "queue = pcl.CommandQueue(cntx, device=dev)"
   ]
  },
  {
   "cell_type": "code",
   "execution_count": 3,
   "metadata": {
    "collapsed": false
   },
   "outputs": [
    {
     "data": {
      "text/plain": [
       "True"
      ]
     },
     "execution_count": 3,
     "metadata": {},
     "output_type": "execute_result"
    }
   ],
   "source": [
    "# get the location of the opencl code\n",
    "ols_cl_file = os.path.join('..', 'src', 'cl', 'ols_cost.cl')\n",
    "os.path.isfile(ols_cl_file)"
   ]
  },
  {
   "cell_type": "code",
   "execution_count": 123,
   "metadata": {
    "collapsed": false
   },
   "outputs": [
    {
     "name": "stdout",
     "output_type": "stream",
     "text": [
      "// #include <math.h>\n",
      "\n",
      "float dotproduct(__global float * a, __global float * b, int size)\n",
      "{\n",
      "  float out = 0.0;\n",
      "\n",
      "  for (int i = 0; i<size; i++){\n",
      "    out += a[i] * b[i];\n",
      "  }\n",
      "\n",
      "  return out;\n",
      "\n",
      "}\n",
      "\n",
      "\n",
      "float ols_cost_loc(__global float * x, __global float * theta, float y, int xsize)\n",
      "{\n",
      "  // cost = \\sum (x * theta - y)**2\n",
      "\n",
      "  float estimate = dotproduct(x, theta, xsize);\n",
      "  float cost = powf(estimate - y, 2.0);\n",
      "\n",
      "  return cost;\n",
      "}\n",
      "\n",
      "float compute_avg(__global float * vector, int size)\n",
      "{\n",
      "  float sum = 0.0;\n",
      "  for(int i = 0; i < size; i++){\n",
      "    sum += vector[i];\n",
      "  }\n",
      "\n",
      "  float avg = sum;\n",
      "  return avg;\n",
      "}\n",
      "\n",
      "float compute_sum(__global float * array, int size){\n",
      "  float sum = 0.0;\n",
      "  for(int i = 0; i < size; i++){\n",
      "    sum += array[i];\n",
      "  }\n",
      "  return sum;\n",
      "}\n",
      "\n",
      "\n",
      "\n",
      "__kernel void ols_cost(__global float * X, __global float * theta, __global float * y, __global float * cost, const int nrows, const int ncols)\n",
      "{\n",
      "  // here we are taking X to be a 2 dimensional array, tranlated from a row-majored indexed array\n",
      "  // theta is a 1 dimensional vector and we are doing matrix multiplication, X * theta\n",
      "  //\n",
      "\n",
      "  int row_id = get_global_id(0);\n",
      "  __global float * scratch;\n",
      "\n",
      "  // float scratch_cost[nrows];\n",
      "\n",
      "  cost[row_id] = ols_cost_loc(&X[row_id * ncols], theta, y[row_id], ncols);\n",
      "\n",
      "  \n",
      "\n",
      "\n",
      "\n",
      "}\n",
      "\n"
     ]
    },
    {
     "name": "stderr",
     "output_type": "stream",
     "text": [
      "/Users/antalek/anaconda/envs/ENVPy3/lib/python3.5/site-packages/pyopencl/cffi_cl.py:1476: CompilerWarning: Non-empty compiler output encountered. Set the environment variable PYOPENCL_COMPILER_OUTPUT=1 to see more.\n",
      "  \"to see more.\", CompilerWarning)\n"
     ]
    }
   ],
   "source": [
    "# build the kernel\n",
    "with open(ols_cl_file, 'r') as f:\n",
    "    programs = pcl.Program(cntx, f.read()).build()\n",
    "    f.seek(0)\n",
    "    print(f.read())"
   ]
  },
  {
   "cell_type": "code",
   "execution_count": 104,
   "metadata": {
    "collapsed": false
   },
   "outputs": [],
   "source": [
    "\n",
    "X = np.random.normal(size=(100, 2))\n",
    "X[:, 0] = 1.0 # this is for the intercept\n",
    "theta = np.random.normal(size=(2,1))\n",
    "\n",
    "y = X.dot(theta) + np.random.normal(scale=0.06, size=(100,1))"
   ]
  },
  {
   "cell_type": "code",
   "execution_count": 105,
   "metadata": {
    "collapsed": false
   },
   "outputs": [
    {
     "data": {
      "text/plain": [
       "((100, 1), (100, 1))"
      ]
     },
     "execution_count": 105,
     "metadata": {},
     "output_type": "execute_result"
    }
   ],
   "source": [
    "X.dot(theta).shape, y.shape"
   ]
  },
  {
   "cell_type": "code",
   "execution_count": 106,
   "metadata": {
    "collapsed": false
   },
   "outputs": [
    {
     "data": {
      "image/png": "[encoded data removed]",
      "text/plain": [
       "<matplotlib.figure.Figure at 0x1153c3780>"
      ]
     },
     "metadata": {},
     "output_type": "display_data"
    }
   ],
   "source": [
    "import matplotlib.pyplot as plt\n",
    "plt.scatter(X.dot(theta), y)\n",
    "plt.show()"
   ]
  },
  {
   "cell_type": "code",
   "execution_count": 107,
   "metadata": {
    "collapsed": true
   },
   "outputs": [],
   "source": [
    "# calculate the cost myself\n",
    "\n",
    "def cost(X, theta, y):\n",
    "    est = X.dot(theta)\n",
    "    cost = ((est - y)**2.0).sum()\n",
    "    return cost"
   ]
  },
  {
   "cell_type": "code",
   "execution_count": 108,
   "metadata": {
    "collapsed": true
   },
   "outputs": [],
   "source": [
    "X = X.astype(np.float32)\n",
    "theta = theta.astype(np.float32)\n",
    "y = y.astype(np.float32)"
   ]
  },
  {
   "cell_type": "code",
   "execution_count": 109,
   "metadata": {
    "collapsed": false
   },
   "outputs": [],
   "source": [
    "my_cost = cost(X, theta, y)"
   ]
  },
  {
   "cell_type": "code",
   "execution_count": 110,
   "metadata": {
    "collapsed": false
   },
   "outputs": [
    {
     "data": {
      "text/plain": [
       "0.28029475"
      ]
     },
     "execution_count": 110,
     "metadata": {},
     "output_type": "execute_result"
    }
   ],
   "source": [
    "my_cost = np.float32(my_cost)\n",
    "my_cost"
   ]
  },
  {
   "cell_type": "code",
   "execution_count": 111,
   "metadata": {
    "collapsed": true
   },
   "outputs": [],
   "source": [
    "#ok let's see if this works"
   ]
  },
  {
   "cell_type": "code",
   "execution_count": 112,
   "metadata": {
    "collapsed": false
   },
   "outputs": [
    {
     "data": {
      "text/plain": [
       "((100, 2), (2, 1), (100, 1))"
      ]
     },
     "execution_count": 112,
     "metadata": {},
     "output_type": "execute_result"
    }
   ],
   "source": [
    "X.shape, theta.shape, y.shape"
   ]
  },
  {
   "cell_type": "code",
   "execution_count": 113,
   "metadata": {
    "collapsed": true
   },
   "outputs": [],
   "source": [
    "test_cost = -100.0 * np.ones(shape=y.shape, dtype=np.float32)"
   ]
  },
  {
   "cell_type": "code",
   "execution_count": 114,
   "metadata": {
    "collapsed": false
   },
   "outputs": [],
   "source": [
    "# test_cost"
   ]
  },
  {
   "cell_type": "code",
   "execution_count": 115,
   "metadata": {
    "collapsed": true
   },
   "outputs": [],
   "source": [
    "X_buf = pcl.Buffer(cntx, pcl.mem_flags.READ_ONLY | pcl.mem_flags.COPY_HOST_PTR, hostbuf=X)\n",
    "theta_buf = pcl.Buffer(cntx, pcl.mem_flags.READ_ONLY | pcl.mem_flags.COPY_HOST_PTR, hostbuf=theta)\n",
    "y_buf = pcl.Buffer(cntx, pcl.mem_flags.READ_ONLY | pcl.mem_flags.COPY_HOST_PTR, hostbuf=y)\n",
    "cost_out = pcl.Buffer(cntx, pcl.mem_flags.WRITE_ONLY, size=test_cost.nbytes)"
   ]
  },
  {
   "cell_type": "code",
   "execution_count": 116,
   "metadata": {
    "collapsed": false
   },
   "outputs": [],
   "source": [
    "execute_event = programs.ols_cost(queue,\n",
    "                                  X.shape,\n",
    "                                  None, \n",
    "                                  X_buf,\n",
    "                                  theta_buf,\n",
    "                                  y_buf,\n",
    "                                  cost_out,\n",
    "                                  np.int32(X.shape[0]),\n",
    "                                  np.int32(X.shape[1]))"
   ]
  },
  {
   "cell_type": "code",
   "execution_count": 117,
   "metadata": {
    "collapsed": true
   },
   "outputs": [],
   "source": [
    "execute_event.wait()"
   ]
  },
  {
   "cell_type": "code",
   "execution_count": 118,
   "metadata": {
    "collapsed": true
   },
   "outputs": [],
   "source": [
    "pcl.enqueue_copy(queue, test_cost, cost_out).wait()"
   ]
  },
  {
   "cell_type": "code",
   "execution_count": 119,
   "metadata": {
    "collapsed": false
   },
   "outputs": [
    {
     "data": {
      "text/plain": [
       "array([[  0.00000000e+00],\n",
       "       [  1.84160401e-03],\n",
       "       [  2.73189694e-03],\n",
       "       [  7.13335397e-03],\n",
       "       [  6.84228944e-05],\n",
       "       [  5.42364796e-06],\n",
       "       [  1.06286881e-02],\n",
       "       [  1.43998826e-03],\n",
       "       [  1.11537268e-02],\n",
       "       [  1.59237662e-03],\n",
       "       [  4.48683184e-03],\n",
       "       [  4.22530202e-03],\n",
       "       [  5.39127365e-03],\n",
       "       [  6.26569754e-03],\n",
       "       [  1.19687328e-02],\n",
       "       [  7.68708924e-05],\n",
       "       [  1.23346958e-03],\n",
       "       [  1.02432463e-02],\n",
       "       [  2.60256726e-04],\n",
       "       [  4.67522116e-03],\n",
       "       [  6.76495663e-04],\n",
       "       [  1.40077644e-03],\n",
       "       [  2.87395180e-03],\n",
       "       [  3.73539608e-03],\n",
       "       [  1.24911014e-02],\n",
       "       [  2.39720708e-03],\n",
       "       [  2.32355134e-03],\n",
       "       [  1.98848033e-03],\n",
       "       [  1.31732877e-02],\n",
       "       [  3.51873692e-04],\n",
       "       [  1.18951825e-03],\n",
       "       [  1.23449555e-03],\n",
       "       [  8.88862927e-03],\n",
       "       [  1.64850056e-03],\n",
       "       [  1.15664315e-03],\n",
       "       [  9.27545898e-07],\n",
       "       [  1.37961961e-05],\n",
       "       [  3.90017265e-03],\n",
       "       [  3.59242025e-04],\n",
       "       [  1.10730156e-03],\n",
       "       [  1.47046545e-03],\n",
       "       [  1.18851522e-03],\n",
       "       [  6.28033234e-03],\n",
       "       [  2.38269591e-03],\n",
       "       [  9.80755867e-05],\n",
       "       [  9.84206796e-04],\n",
       "       [  7.41035401e-05],\n",
       "       [  1.17996603e-03],\n",
       "       [  6.32069865e-03],\n",
       "       [  9.39016172e-05],\n",
       "       [  4.24813759e-03],\n",
       "       [  2.23117037e-04],\n",
       "       [  6.60433492e-04],\n",
       "       [  4.81976243e-03],\n",
       "       [  2.06797486e-04],\n",
       "       [  1.26198074e-05],\n",
       "       [  2.06665372e-05],\n",
       "       [  2.22830451e-04],\n",
       "       [  6.21932046e-03],\n",
       "       [  1.36763742e-03],\n",
       "       [  2.19499762e-03],\n",
       "       [  3.03256849e-04],\n",
       "       [  1.51081923e-02],\n",
       "       [  1.71891497e-05],\n",
       "       [  1.60409109e-04],\n",
       "       [  3.56066204e-03],\n",
       "       [  2.15037866e-03],\n",
       "       [  4.41276585e-04],\n",
       "       [  1.53311732e-04],\n",
       "       [  2.21923622e-03],\n",
       "       [  2.63663860e-05],\n",
       "       [  3.25020286e-04],\n",
       "       [  7.93454295e-04],\n",
       "       [  8.99347535e-04],\n",
       "       [  3.02626635e-03],\n",
       "       [  1.03415456e-02],\n",
       "       [  1.05890352e-03],\n",
       "       [  4.45267325e-03],\n",
       "       [  1.77347742e-03],\n",
       "       [  1.46058074e-03],\n",
       "       [  1.00090430e-04],\n",
       "       [  3.56938830e-03],\n",
       "       [  2.58944310e-05],\n",
       "       [  4.85536089e-04],\n",
       "       [  1.08685263e-03],\n",
       "       [  1.26394007e-04],\n",
       "       [  3.14252422e-04],\n",
       "       [  6.96678087e-03],\n",
       "       [  4.42700099e-08],\n",
       "       [  2.51067593e-03],\n",
       "       [  2.06298102e-03],\n",
       "       [  7.64917990e-04],\n",
       "       [  5.33111706e-05],\n",
       "       [  7.25482777e-03],\n",
       "       [  7.85476249e-03],\n",
       "       [  3.21686312e-05],\n",
       "       [  2.31123931e-06],\n",
       "       [  3.86295171e-04],\n",
       "       [  9.60179046e-03],\n",
       "       [  9.09406936e-06]], dtype=float32)"
      ]
     },
     "execution_count": 119,
     "metadata": {},
     "output_type": "execute_result"
    }
   ],
   "source": [
    "test_cost"
   ]
  },
  {
   "cell_type": "code",
   "execution_count": 120,
   "metadata": {
    "collapsed": false
   },
   "outputs": [
    {
     "data": {
      "text/plain": [
       "0.28029475"
      ]
     },
     "execution_count": 120,
     "metadata": {},
     "output_type": "execute_result"
    }
   ],
   "source": [
    "my_cost"
   ]
  },
  {
   "cell_type": "code",
   "execution_count": 121,
   "metadata": {
    "collapsed": false
   },
   "outputs": [
    {
     "data": {
      "text/plain": [
       "0.27808297"
      ]
     },
     "execution_count": 121,
     "metadata": {},
     "output_type": "execute_result"
    }
   ],
   "source": [
    "test_cost.sum()"
   ]
  },
  {
   "cell_type": "code",
   "execution_count": 122,
   "metadata": {
    "collapsed": false
   },
   "outputs": [
    {
     "data": {
      "text/plain": [
       "array([ 0.], dtype=float32)"
      ]
     },
     "execution_count": 122,
     "metadata": {},
     "output_type": "execute_result"
    }
   ],
   "source": [
    "test_cost[0]"
   ]
  },
  {
   "cell_type": "code",
   "execution_count": null,
   "metadata": {
    "collapsed": true
   },
   "outputs": [],
   "source": [
    "# hey it works!\n",
    "# now I need to see if there is some way to compute the sum on the gpu and get that number\n",
    "# instead of transfering the data back and then computing the sum...."
   ]
  }
 ],
 "metadata": {
  "kernelspec": {
   "display_name": "Python [conda env:ENVPy3]",
   "language": "python",
   "name": "conda-env-ENVPy3-py"
  },
  "language_info": {
   "codemirror_mode": {
    "name": "ipython",
    "version": 3
   },
   "file_extension": ".py",
   "mimetype": "text/x-python",
   "name": "python",
   "nbconvert_exporter": "python",
   "pygments_lexer": "ipython3",
   "version": "3.5.2"
  }
 },
 "nbformat": 4,
 "nbformat_minor": 2
}
