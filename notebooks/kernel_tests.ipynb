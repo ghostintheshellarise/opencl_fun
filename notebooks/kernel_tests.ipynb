{
 "cells": [
  {
   "cell_type": "code",
   "execution_count": 1,
   "metadata": {
    "collapsed": false
   },
   "outputs": [
    {
     "name": "stdout",
     "output_type": "stream",
     "text": [
      "Intel(R) Core(TM) i7-4870HQ CPU @ 2.50GHz CPU 17.179869184\n",
      "Iris Pro GPU 1.610612736\n",
      "AMD Radeon R9 M370X Compute Engine GPU 2.147483648\n"
     ]
    }
   ],
   "source": [
    "import os\n",
    "import pyopencl as pcl\n",
    "import numpy as np\n",
    "\n",
    "# let's try to find available devices\n",
    "platforms = pcl.get_platforms()\n",
    "for p in platforms:\n",
    "    devs = p.get_devices()\n",
    "    for d in devs:\n",
    "        print(d.name, pcl.device_type.to_string(d.type), d.global_mem_size / 10**9)\n",
    "\n",
    "# let's select the AMD radeon card in this case\n",
    "dev=None\n",
    "for p in pcl.get_platforms():\n",
    "    devs = p.get_devices()\n",
    "    for d in devs:\n",
    "        if pcl.device_type.to_string(d.type) == 'GPU' and (d.global_mem_size / 10**9) > 2.0:\n",
    "            dev = d\n",
    "            \n",
    "# make the opencl context\n",
    "# cntx = pcl.create_some_context()\n",
    "cntx = pcl.Context(devices=[dev])\n",
    "queue = pcl.CommandQueue(cntx, device=dev)"
   ]
  },
  {
   "cell_type": "code",
   "execution_count": 2,
   "metadata": {
    "collapsed": false
   },
   "outputs": [
    {
     "data": {
      "text/plain": [
       "True"
      ]
     },
     "execution_count": 2,
     "metadata": {},
     "output_type": "execute_result"
    }
   ],
   "source": [
    "ktest_cl_file = os.path.join('..', 'src', 'cl', 'kernel_tests.cl')\n",
    "os.path.isfile(ktest_cl_file)"
   ]
  },
  {
   "cell_type": "code",
   "execution_count": 3,
   "metadata": {
    "collapsed": false
   },
   "outputs": [
    {
     "name": "stdout",
     "output_type": "stream",
     "text": [
      "__kernel void addem(__global float * a, __global float * b, __global float * c){\n",
      "\n",
      "  int i = get_global_id(0);\n",
      "  c[i] = a[i] + b[i];\n",
      "\n",
      "}\n",
      "\n",
      "\n",
      "__kernel void multiplyem(__global float * a, __global float * b, __global float * c){\n",
      "  int i = get_global_id(0);\n",
      "  c[i] = a[i] * b[i];\n",
      "}\n",
      "\n"
     ]
    }
   ],
   "source": [
    "# build the kernel\n",
    "with open(ktest_cl_file, 'r') as f:\n",
    "    programs = pcl.Program(cntx, f.read()).build()\n",
    "    f.seek(0)\n",
    "    print(f.read())"
   ]
  },
  {
   "cell_type": "code",
   "execution_count": 70,
   "metadata": {
    "collapsed": true
   },
   "outputs": [],
   "source": [
    "# set up the buffers and arrays\n",
    "a = np.ones(shape=(10, ), dtype=np.float32) * 3\n",
    "b = np.ones(shape=(10, ), dtype=np.float32) * 5\n",
    "c = np.zeros(shape=(10, ), dtype=np.float32)"
   ]
  },
  {
   "cell_type": "code",
   "execution_count": 71,
   "metadata": {
    "collapsed": false
   },
   "outputs": [
    {
     "data": {
      "text/plain": [
       "(array([ 3.,  3.,  3.,  3.,  3.,  3.,  3.,  3.,  3.,  3.], dtype=float32),\n",
       " array([ 5.,  5.,  5.,  5.,  5.,  5.,  5.,  5.,  5.,  5.], dtype=float32),\n",
       " array([ 0.,  0.,  0.,  0.,  0.,  0.,  0.,  0.,  0.,  0.], dtype=float32))"
      ]
     },
     "execution_count": 71,
     "metadata": {},
     "output_type": "execute_result"
    }
   ],
   "source": [
    "a, b, c"
   ]
  },
  {
   "cell_type": "code",
   "execution_count": 72,
   "metadata": {
    "collapsed": true
   },
   "outputs": [],
   "source": [
    "a_buf = pcl.Buffer(cntx, pcl.mem_flags.READ_WRITE | pcl.mem_flags.COPY_HOST_PTR, hostbuf=a)\n",
    "b_buf = pcl.Buffer(cntx, pcl.mem_flags.READ_WRITE | pcl.mem_flags.COPY_HOST_PTR, hostbuf=b)\n",
    "c_buf = pcl.Buffer(cntx, pcl.mem_flags.READ_WRITE | pcl.mem_flags.COPY_HOST_PTR, hostbuf=c)"
   ]
  },
  {
   "cell_type": "code",
   "execution_count": 73,
   "metadata": {
    "collapsed": true
   },
   "outputs": [],
   "source": [
    "# queue up the two kernels \n",
    "add_event = programs.addem(queue,\n",
    "                           a.shape,\n",
    "                           None,\n",
    "                           a_buf, \n",
    "                           b_buf,\n",
    "                           c_buf)\n",
    "\n",
    "multiply_event = programs.multiplyem(queue,\n",
    "                                     a.shape,\n",
    "                                     None,\n",
    "                                     c_buf,\n",
    "                                     a_buf,\n",
    "                                     b_buf)\n",
    "\n"
   ]
  },
  {
   "cell_type": "code",
   "execution_count": 74,
   "metadata": {
    "collapsed": true
   },
   "outputs": [],
   "source": [
    "add_event.wait()\n",
    "# multiply_event.wait()"
   ]
  },
  {
   "cell_type": "code",
   "execution_count": 75,
   "metadata": {
    "collapsed": false
   },
   "outputs": [],
   "source": [
    "pcl.enqueue_copy(queue, b, b_buf).wait()"
   ]
  },
  {
   "cell_type": "code",
   "execution_count": 76,
   "metadata": {
    "collapsed": false
   },
   "outputs": [
    {
     "data": {
      "text/plain": [
       "array([ 5.,  5.,  5.,  5.,  5.,  5.,  5.,  5.,  5.,  5.], dtype=float32)"
      ]
     },
     "execution_count": 76,
     "metadata": {},
     "output_type": "execute_result"
    }
   ],
   "source": [
    "b"
   ]
  },
  {
   "cell_type": "code",
   "execution_count": 77,
   "metadata": {
    "collapsed": true
   },
   "outputs": [],
   "source": [
    "pcl.enqueue_copy(queue, c, c_buf).wait()"
   ]
  },
  {
   "cell_type": "code",
   "execution_count": 78,
   "metadata": {
    "collapsed": false
   },
   "outputs": [
    {
     "data": {
      "text/plain": [
       "array([ 8.,  8.,  8.,  8.,  8.,  8.,  8.,  8.,  8.,  8.], dtype=float32)"
      ]
     },
     "execution_count": 78,
     "metadata": {},
     "output_type": "execute_result"
    }
   ],
   "source": [
    "c"
   ]
  },
  {
   "cell_type": "code",
   "execution_count": null,
   "metadata": {
    "collapsed": true
   },
   "outputs": [],
   "source": []
  }
 ],
 "metadata": {
  "kernelspec": {
   "display_name": "Python [conda env:ENVPy3]",
   "language": "python",
   "name": "conda-env-ENVPy3-py"
  },
  "language_info": {
   "codemirror_mode": {
    "name": "ipython",
    "version": 3
   },
   "file_extension": ".py",
   "mimetype": "text/x-python",
   "name": "python",
   "nbconvert_exporter": "python",
   "pygments_lexer": "ipython3",
   "version": "3.5.2"
  }
 },
 "nbformat": 4,
 "nbformat_minor": 2
}
