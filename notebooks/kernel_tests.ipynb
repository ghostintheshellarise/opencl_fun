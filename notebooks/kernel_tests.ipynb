{
 "cells": [
  {
   "cell_type": "code",
   "execution_count": 2,
   "metadata": {
    "collapsed": false
   },
   "outputs": [
    {
     "name": "stdout",
     "output_type": "stream",
     "text": [
      "Intel(R) Core(TM) i7-4870HQ CPU @ 2.50GHz CPU 17.179869184\n",
      "Iris Pro GPU 1.610612736\n",
      "AMD Radeon R9 M370X Compute Engine GPU 2.147483648\n"
     ]
    }
   ],
   "source": [
    "import os\n",
    "import pyopencl as pcl\n",
    "import numpy as np\n",
    "\n",
    "# let's try to find available devices\n",
    "platforms = pcl.get_platforms()\n",
    "for p in platforms:\n",
    "    devs = p.get_devices()\n",
    "    for d in devs:\n",
    "        print(d.name, pcl.device_type.to_string(d.type), d.global_mem_size / 10**9)\n",
    "\n",
    "# let's select the AMD radeon card in this case\n",
    "dev=None\n",
    "for p in pcl.get_platforms():\n",
    "    devs = p.get_devices()\n",
    "    for d in devs:\n",
    "        if pcl.device_type.to_string(d.type) == 'GPU' and (d.global_mem_size / 10**9) > 2.0:\n",
    "            dev = d\n",
    "            \n",
    "# make the opencl context\n",
    "# cntx = pcl.create_some_context()\n",
    "cntx = pcl.Context(devices=[dev])\n",
    "queue = pcl.CommandQueue(cntx, device=dev)"
   ]
  },
  {
   "cell_type": "code",
   "execution_count": 3,
   "metadata": {
    "collapsed": false
   },
   "outputs": [
    {
     "data": {
      "text/plain": [
       "True"
      ]
     },
     "execution_count": 3,
     "metadata": {},
     "output_type": "execute_result"
    }
   ],
   "source": [
    "ktest_cl_file = os.path.join('..', 'src', 'cl', 'kernel_tests.cl')\n",
    "os.path.isfile(ktest_cl_file)"
   ]
  },
  {
   "cell_type": "code",
   "execution_count": 271,
   "metadata": {
    "collapsed": false,
    "scrolled": false
   },
   "outputs": [
    {
     "name": "stdout",
     "output_type": "stream",
     "text": [
      "__kernel void addem(__global float * a, __global float * b, __global float * c)\n",
      "{\n",
      "\n",
      "  int i = get_global_id(0);\n",
      "  c[i] = a[i] + b[i];\n",
      "\n",
      "}\n",
      "\n",
      "\n",
      "__kernel void multiplyem(__global float * a, __global float * b, __global float * c)\n",
      "{\n",
      "  int i = get_global_id(0);\n",
      "  c[i] = a[i] * b[i];\n",
      "}\n",
      "\n",
      "__kernel void testdot(__global float * a, __global float * b, __global float * c){\n",
      "  int gid = get_global_id(0);\n",
      "  c[gid] = dot(a[gid], b[gid]);\n",
      "}\n",
      "\n",
      "__kernel void test_rowaverage(__global float * in, __global float * out, const int nrows, const int ncols)\n",
      "{\n",
      "  float nrowsf = (float) nrows;\n",
      "  for(int i = 0; i < nrows; i++){\n",
      "    for (int j = 0; j < ncols; j++){\n",
      "      out[j] += in[i * ncols + j];\n",
      "      out[j] /= nrowsf;\n",
      "    }\n",
      "  }\n",
      "\n",
      "}\n",
      "\n",
      "__kernel void test_reduction_avg(__global float * in, __global float * out, __local float * partial_sums, const int nrows)\n",
      "{\n",
      "  int lid = get_local_id(0);\n",
      "  int gid = get_global_id(0);\n",
      "  int group_size = get_local_size(0);\n",
      "  float nrowsf = (float) nrows;\n",
      "\n",
      "  partial_sums[lid] = in[gid];\n",
      "  barrier(CLK_LOCAL_MEM_FENCE);\n",
      "\n",
      "  for(int i = group_size/2; i > 0; i >>= 1){\n",
      "    if(lid < i){\n",
      "      partial_sums[lid] += partial_sums[lid + i];\n",
      "    }\n",
      "    barrier(CLK_LOCAL_MEM_FENCE);\n",
      "  }\n",
      "\n",
      "  if(lid == 0){\n",
      "    out[get_group_id(0)] = partial_sums[0]/nrowsf;\n",
      "  }\n",
      "\n",
      "\n",
      "}\n",
      "\n",
      "__kernel void test_reduction_avg_matrix(__global float * in_mat, __global float * out_vec, __local float * partial_sums, const int nrows, const int ncols)\n",
      "{\n",
      "  int lid = get_local_id(0);\n",
      "  int gid = get_global_id(0);\n",
      "  int group_size = get_local_size(0);\n",
      "  float nrowsf = (float) nrows;\n",
      "\n",
      "  for(int j = 0; j < ncols; j++){\n",
      "    partial_sums[lid*ncols + j] = in_mat[gid*ncols + j];\n",
      "  }\n",
      "\n",
      "  barrier(CLK_LOCAL_MEM_FENCE);\n",
      "  for(int i = group_size/2; i > 0; i >>= 1){\n",
      "    if(lid < i*ncols){\n",
      "      for(int j = 0; j < ncols; j++){\n",
      "        partial_sums[lid*ncols + j] += partial_sums[lid*ncols + i*ncols + j];\n",
      "      }\n",
      "    }\n",
      "  }\n",
      "\n",
      "  if(lid == 0){\n",
      "    for(int j = 0 ; j < ncols; j ++){\n",
      "      out_vec[get_group_id(0) + j] = partial_sums[0 + j] / nrowsf;\n",
      "    }\n",
      "  }\n",
      "}\n",
      "\n"
     ]
    }
   ],
   "source": [
    "# build the kernel\n",
    "with open(ktest_cl_file, 'r') as f:\n",
    "    programs = pcl.Program(cntx, f.read()).build()\n",
    "    f.seek(0)\n",
    "    print(f.read())"
   ]
  },
  {
   "cell_type": "code",
   "execution_count": 5,
   "metadata": {
    "collapsed": true
   },
   "outputs": [],
   "source": [
    "# set up the buffers and arrays\n",
    "a = np.ones(shape=(10, ), dtype=np.float32) * 3\n",
    "# b = np.ones(shape=(10, ), dtype=np.float32) * 5\n",
    "b = np.arange(0,10,1, dtype=np.float32)\n",
    "c = np.zeros(shape=(10, ), dtype=np.float32)"
   ]
  },
  {
   "cell_type": "code",
   "execution_count": 6,
   "metadata": {
    "collapsed": false
   },
   "outputs": [
    {
     "data": {
      "text/plain": [
       "(array([ 3.,  3.,  3.,  3.,  3.,  3.,  3.,  3.,  3.,  3.], dtype=float32),\n",
       " array([ 0.,  1.,  2.,  3.,  4.,  5.,  6.,  7.,  8.,  9.], dtype=float32),\n",
       " array([ 0.,  0.,  0.,  0.,  0.,  0.,  0.,  0.,  0.,  0.], dtype=float32))"
      ]
     },
     "execution_count": 6,
     "metadata": {},
     "output_type": "execute_result"
    }
   ],
   "source": [
    "a, b, c"
   ]
  },
  {
   "cell_type": "code",
   "execution_count": 7,
   "metadata": {
    "collapsed": true
   },
   "outputs": [],
   "source": [
    "a_buf = pcl.Buffer(cntx, pcl.mem_flags.READ_WRITE | pcl.mem_flags.COPY_HOST_PTR, hostbuf=a)\n",
    "b_buf = pcl.Buffer(cntx, pcl.mem_flags.READ_WRITE | pcl.mem_flags.COPY_HOST_PTR, hostbuf=b)\n",
    "c_buf = pcl.Buffer(cntx, pcl.mem_flags.READ_WRITE | pcl.mem_flags.COPY_HOST_PTR, hostbuf=c)"
   ]
  },
  {
   "cell_type": "code",
   "execution_count": 8,
   "metadata": {
    "collapsed": true
   },
   "outputs": [],
   "source": [
    "# queue up the two kernels \n",
    "# add_event = programs.addem(queue,\n",
    "#                            a.shape,\n",
    "#                            None,\n",
    "#                            a_buf, \n",
    "#                            b_buf,\n",
    "#                            c_buf)\n",
    "\n",
    "# multiply_event = programs.multiplyem(queue,\n",
    "#                                      a.shape,\n",
    "#                                      None,\n",
    "#                                      c_buf,\n",
    "#                                      a_buf,\n",
    "#                                      b_buf)\n",
    "\n",
    "dot_event = programs.testdot(queue,\n",
    "                             a.shape,\n",
    "                             None,\n",
    "                             a_buf,\n",
    "                             b_buf,\n",
    "                             c_buf)"
   ]
  },
  {
   "cell_type": "code",
   "execution_count": 9,
   "metadata": {
    "collapsed": true
   },
   "outputs": [],
   "source": [
    "# queue.finish()"
   ]
  },
  {
   "cell_type": "code",
   "execution_count": 10,
   "metadata": {
    "collapsed": false
   },
   "outputs": [],
   "source": [
    "# add_event.wait()\n",
    "# multiply_event.wait()"
   ]
  },
  {
   "cell_type": "code",
   "execution_count": 11,
   "metadata": {
    "collapsed": false
   },
   "outputs": [
    {
     "data": {
      "text/plain": [
       "<pyopencl.cffi_cl.NannyEvent at 0x110094748>"
      ]
     },
     "execution_count": 11,
     "metadata": {},
     "output_type": "execute_result"
    }
   ],
   "source": [
    "pcl.enqueue_copy(queue, b, b_buf)\n",
    "pcl.enqueue_copy(queue, c, c_buf)"
   ]
  },
  {
   "cell_type": "code",
   "execution_count": 12,
   "metadata": {
    "collapsed": false
   },
   "outputs": [
    {
     "data": {
      "text/plain": [
       "array([ 0.,  1.,  2.,  3.,  4.,  5.,  6.,  7.,  8.,  9.], dtype=float32)"
      ]
     },
     "execution_count": 12,
     "metadata": {},
     "output_type": "execute_result"
    }
   ],
   "source": [
    "b"
   ]
  },
  {
   "cell_type": "code",
   "execution_count": 13,
   "metadata": {
    "collapsed": false
   },
   "outputs": [
    {
     "data": {
      "text/plain": [
       "array([  0.,   3.,   6.,   9.,  12.,  15.,  18.,  21.,  24.,  27.], dtype=float32)"
      ]
     },
     "execution_count": 13,
     "metadata": {},
     "output_type": "execute_result"
    }
   ],
   "source": [
    "c"
   ]
  },
  {
   "cell_type": "code",
   "execution_count": 70,
   "metadata": {
    "collapsed": false
   },
   "outputs": [],
   "source": [
    "X = np.array([[1,2,3], [4,5,6], [7,8,9]], dtype=np.float32)\n",
    "x_avg = np.zeros(shape=(X.shape[1],), dtype=np.float32)"
   ]
  },
  {
   "cell_type": "code",
   "execution_count": 15,
   "metadata": {
    "collapsed": false
   },
   "outputs": [
    {
     "data": {
      "text/plain": [
       "array([ 8.,  8.,  8.,  8.,  8.,  8.,  8.,  8.,  8.,  8.], dtype=float32)"
      ]
     },
     "execution_count": 15,
     "metadata": {},
     "output_type": "execute_result"
    }
   ],
   "source": [
    "c"
   ]
  },
  {
   "cell_type": "code",
   "execution_count": 71,
   "metadata": {
    "collapsed": true
   },
   "outputs": [],
   "source": [
    "X_buf = pcl.Buffer(cntx, pcl.mem_flags.READ_ONLY | pcl.mem_flags.COPY_HOST_PTR, hostbuf=X)\n",
    "x_avg_buf = pcl.Buffer(cntx, pcl.mem_flags.READ_WRITE | pcl.mem_flags.COPY_HOST_PTR, hostbuf=x_avg)"
   ]
  },
  {
   "cell_type": "code",
   "execution_count": 72,
   "metadata": {
    "collapsed": false
   },
   "outputs": [
    {
     "data": {
      "text/plain": [
       "array([ 0.,  0.,  0.], dtype=float32)"
      ]
     },
     "execution_count": 72,
     "metadata": {},
     "output_type": "execute_result"
    }
   ],
   "source": [
    "x_avg"
   ]
  },
  {
   "cell_type": "code",
   "execution_count": 73,
   "metadata": {
    "collapsed": true
   },
   "outputs": [],
   "source": [
    "row_avg_event = programs.test_rowaverage(queue,\n",
    "                                         X.shape,\n",
    "                                         None,\n",
    "                                         X_buf, \n",
    "                                         x_avg_buf,\n",
    "                                         np.int32(X.shape[0]),\n",
    "                                         np.int32(X.shape[1]))"
   ]
  },
  {
   "cell_type": "code",
   "execution_count": 74,
   "metadata": {
    "collapsed": false
   },
   "outputs": [
    {
     "data": {
      "text/plain": [
       "<pyopencl.cffi_cl.NannyEvent at 0x1100bf1d0>"
      ]
     },
     "execution_count": 74,
     "metadata": {},
     "output_type": "execute_result"
    }
   ],
   "source": [
    "pcl.enqueue_copy(queue, x_avg, x_avg_buf)"
   ]
  },
  {
   "cell_type": "code",
   "execution_count": 75,
   "metadata": {
    "collapsed": false
   },
   "outputs": [
    {
     "data": {
      "text/plain": [
       "array([ 2.81481481,  3.29629588,  3.77777743], dtype=float32)"
      ]
     },
     "execution_count": 75,
     "metadata": {},
     "output_type": "execute_result"
    }
   ],
   "source": [
    "x_avg"
   ]
  },
  {
   "cell_type": "code",
   "execution_count": 76,
   "metadata": {
    "collapsed": false
   },
   "outputs": [
    {
     "data": {
      "text/plain": [
       "array([ 4.,  5.,  6.], dtype=float32)"
      ]
     },
     "execution_count": 76,
     "metadata": {},
     "output_type": "execute_result"
    }
   ],
   "source": [
    "X.mean(axis=0)"
   ]
  },
  {
   "cell_type": "code",
   "execution_count": 77,
   "metadata": {
    "collapsed": false
   },
   "outputs": [
    {
     "data": {
      "text/plain": [
       "array([[ 1.,  2.,  3.],\n",
       "       [ 4.,  5.,  6.],\n",
       "       [ 7.,  8.,  9.]], dtype=float32)"
      ]
     },
     "execution_count": 77,
     "metadata": {},
     "output_type": "execute_result"
    }
   ],
   "source": [
    "X"
   ]
  },
  {
   "cell_type": "code",
   "execution_count": 228,
   "metadata": {
    "collapsed": false
   },
   "outputs": [],
   "source": [
    "z = np.array([1,2,3,4,5,6,7,8,9,10], dtype=np.float32)\n",
    "z_out = np.zeros(shape=z.shape, dtype=np.float32)"
   ]
  },
  {
   "cell_type": "code",
   "execution_count": 229,
   "metadata": {
    "collapsed": false
   },
   "outputs": [],
   "source": [
    "next_pow2_size=16"
   ]
  },
  {
   "cell_type": "code",
   "execution_count": 230,
   "metadata": {
    "collapsed": false
   },
   "outputs": [],
   "source": [
    "z_buf = pcl.Buffer(cntx, pcl.mem_flags.READ_ONLY | pcl.mem_flags.COPY_HOST_PTR, hostbuf=z)\n",
    "z_out_buf = pcl.Buffer(cntx, pcl.mem_flags.READ_WRITE | pcl.mem_flags.COPY_HOST_PTR, hostbuf=z_out)\n",
    "partial_buf = pcl.LocalMemory(size=z[0].nbytes * next_pow2_size)"
   ]
  },
  {
   "cell_type": "code",
   "execution_count": 231,
   "metadata": {
    "collapsed": false
   },
   "outputs": [
    {
     "data": {
      "text/plain": [
       "(10,)"
      ]
     },
     "execution_count": 231,
     "metadata": {},
     "output_type": "execute_result"
    }
   ],
   "source": [
    "z.shape"
   ]
  },
  {
   "cell_type": "code",
   "execution_count": 232,
   "metadata": {
    "collapsed": false
   },
   "outputs": [],
   "source": [
    "reduction_event = programs.test_reduction_avg(queue,\n",
    "                                              (16,),\n",
    "                                              None,\n",
    "                                              z_buf,\n",
    "                                              z_out_buf,\n",
    "                                              partial_buf,\n",
    "                                              np.int32(z.shape[0]))"
   ]
  },
  {
   "cell_type": "code",
   "execution_count": 233,
   "metadata": {
    "collapsed": false
   },
   "outputs": [
    {
     "data": {
      "text/plain": [
       "<pyopencl.cffi_cl.NannyEvent at 0x1100bb1d0>"
      ]
     },
     "execution_count": 233,
     "metadata": {},
     "output_type": "execute_result"
    }
   ],
   "source": [
    "pcl.enqueue_copy(queue, z_out, z_out_buf)"
   ]
  },
  {
   "cell_type": "code",
   "execution_count": 234,
   "metadata": {
    "collapsed": false
   },
   "outputs": [
    {
     "data": {
      "text/plain": [
       "array([ 5.5,  0. ,  0. ,  0. ,  0. ,  0. ,  0. ,  0. ,  0. ,  0. ], dtype=float32)"
      ]
     },
     "execution_count": 234,
     "metadata": {},
     "output_type": "execute_result"
    }
   ],
   "source": [
    "z_out"
   ]
  },
  {
   "cell_type": "code",
   "execution_count": 235,
   "metadata": {
    "collapsed": false
   },
   "outputs": [
    {
     "data": {
      "text/plain": [
       "55.0"
      ]
     },
     "execution_count": 235,
     "metadata": {},
     "output_type": "execute_result"
    }
   ],
   "source": [
    "z.sum()"
   ]
  },
  {
   "cell_type": "code",
   "execution_count": 236,
   "metadata": {
    "collapsed": false
   },
   "outputs": [
    {
     "data": {
      "text/plain": [
       "5.5"
      ]
     },
     "execution_count": 236,
     "metadata": {},
     "output_type": "execute_result"
    }
   ],
   "source": [
    "z.mean()"
   ]
  },
  {
   "cell_type": "code",
   "execution_count": 279,
   "metadata": {
    "collapsed": false
   },
   "outputs": [],
   "source": [
    "y = np.random.normal(size = (10, 6)).astype(np.float32)\n",
    "y_row_avg = np.zeros(shape=(6,),).astype(np.float32)"
   ]
  },
  {
   "cell_type": "code",
   "execution_count": 280,
   "metadata": {
    "collapsed": true
   },
   "outputs": [],
   "source": [
    "y_buf = pcl.Buffer(cntx, pcl.mem_flags.READ_ONLY | pcl.mem_flags.COPY_HOST_PTR, hostbuf=y)\n",
    "y_out_buf = pcl.Buffer(cntx, pcl.mem_flags.READ_WRITE | pcl.mem_flags.COPY_HOST_PTR, hostbuf=y_row_avg)\n",
    "partial_sum_buf = pcl.LocalMemory(size=y[0].nbytes*next_pow2_size*y.shape[1])"
   ]
  },
  {
   "cell_type": "code",
   "execution_count": 281,
   "metadata": {
    "collapsed": true
   },
   "outputs": [],
   "source": [
    "row_reduction_event = programs.test_reduction_avg_matrix(queue,\n",
    "                                                         (next_pow2_size, y.shape[1]),\n",
    "                                                         None,\n",
    "                                                         y_buf,\n",
    "                                                         y_out_buf,\n",
    "                                                         partial_sum_buf,\n",
    "                                                         np.int32(y.shape[0]),\n",
    "                                                         np.int32(y.shape[1]))"
   ]
  },
  {
   "cell_type": "code",
   "execution_count": 282,
   "metadata": {
    "collapsed": false
   },
   "outputs": [
    {
     "data": {
      "text/plain": [
       "<pyopencl.cffi_cl.NannyEvent at 0x110436eb8>"
      ]
     },
     "execution_count": 282,
     "metadata": {},
     "output_type": "execute_result"
    }
   ],
   "source": [
    "pcl.enqueue_copy(queue, y_row_avg, y_out_buf)"
   ]
  },
  {
   "cell_type": "code",
   "execution_count": 283,
   "metadata": {
    "collapsed": false
   },
   "outputs": [
    {
     "data": {
      "text/plain": [
       "array([ 0.2853137 ,  0.1544431 , -0.01165392,  0.11329027,  0.45523071,\n",
       "        0.16340153], dtype=float32)"
      ]
     },
     "execution_count": 283,
     "metadata": {},
     "output_type": "execute_result"
    }
   ],
   "source": [
    "y_row_avg"
   ]
  },
  {
   "cell_type": "code",
   "execution_count": 284,
   "metadata": {
    "collapsed": false
   },
   "outputs": [
    {
     "data": {
      "text/plain": [
       "array([ 0.2853137 ,  0.15444311, -0.01165392,  0.11329027,  0.45523077,\n",
       "        0.16340156], dtype=float32)"
      ]
     },
     "execution_count": 284,
     "metadata": {},
     "output_type": "execute_result"
    }
   ],
   "source": [
    "y.mean(axis=0)"
   ]
  },
  {
   "cell_type": "code",
   "execution_count": null,
   "metadata": {
    "collapsed": true
   },
   "outputs": [],
   "source": []
  }
 ],
 "metadata": {
  "kernelspec": {
   "display_name": "Python [conda env:ENVPy3]",
   "language": "python",
   "name": "conda-env-ENVPy3-py"
  }
 },
 "nbformat": 4,
 "nbformat_minor": 2
}
